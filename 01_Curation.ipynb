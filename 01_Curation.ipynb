{
 "cells": [
  {
   "cell_type": "code",
   "execution_count": null,
   "id": "d60e63c2-e4e9-4438-ae5d-8f3bf003cde2",
   "metadata": {},
   "outputs": [],
   "source": [
    "from matplotlib.cm import get_cmap\n",
    "from matplotlib.colors import to_hex\n",
    "import matplotlib.pyplot as plt\n",
    "import numpy as np\n",
    "import pandas as pd\n",
    "import seaborn as sns\n",
    "import scanpy as sc\n",
    "from tqdm import tqdm\n",
    "sc.settings.set_figure_params(dpi=100)"
   ]
  },
  {
   "cell_type": "code",
   "execution_count": null,
   "id": "ad47f084-56a8-42fd-bc27-4832a1c058c9",
   "metadata": {},
   "outputs": [],
   "source": [
    "# plot bar plot with colors as percentage as y-axis as counts\n",
    "def plot_bar(counts, cmap, edgecolor, figsize=None):\n",
    "    # convert to relevant colors\n",
    "    colors = counts / counts.sum()\n",
    "    colors = [to_hex(cmap(x)) for x in colors]\n",
    "    figsize = [6, 4] if figsize is None else figsize\n",
    "    fig, ax = plt.subplots(figsize=figsize); ax.grid(False)\n",
    "    ax.bar(counts.index, counts, edgecolor=edgecolor, lw=1.5, color=colors)\n",
    "    ax.tick_params(axis='x', labelrotation=90)\n",
    "    return ax"
   ]
  },
  {
   "cell_type": "markdown",
   "id": "3d985779-744f-4617-81f0-c668d5ec0d7e",
   "metadata": {},
   "source": [
    "### Databases"
   ]
  },
  {
   "cell_type": "markdown",
   "id": "199cbbb3-5c8d-49d8-b4a9-f6386f9daf99",
   "metadata": {},
   "source": [
    "#### VDJDB"
   ]
  },
  {
   "cell_type": "code",
   "execution_count": null,
   "id": "4dd1f61b-f71f-41d8-8e2e-f631578f7c96",
   "metadata": {},
   "outputs": [],
   "source": [
    "# read in the VDJDB and filter it down\n",
    "df_vdjdb = pd.read_table('../data/VDJDB.human_paired_fixed.tsv')\n",
    "# > need to have a certain level of confidence\n",
    "df_vdjdb = df_vdjdb.loc[df_vdjdb['Score'] >= 2]\n",
    "# > only examine paired samples\n",
    "ids_tra = set(df_vdjdb.loc[df_vdjdb['Gene'] == 'TRA', 'complex.id'])\n",
    "ids_trb = set(df_vdjdb.loc[df_vdjdb['Gene'] == 'TRB', 'complex.id'])\n",
    "ids = ids_tra & ids_trb\n",
    "df_vdjdb = df_vdjdb.loc[df_vdjdb['complex.id'].isin(ids)]\n",
    "counts = df_vdjdb['complex.id'].value_counts()\n",
    "df_vdjdb = df_vdjdb.loc[df_vdjdb['complex.id'].isin(counts.index[counts == 2])]"
   ]
  },
  {
   "cell_type": "code",
   "execution_count": null,
   "id": "f397a103-2ed6-4c13-8daf-9634f3cad424",
   "metadata": {},
   "outputs": [],
   "source": [
    "# assemble the dataframe\n",
    "df_tmp = pd.DataFrame(columns=['DB','REF','METH','FREQ','TRA','TRB','AG','MHC','TYPE'])\n",
    "for complex_id in tqdm(df_vdjdb['complex.id'].unique()):\n",
    "    # > derive the mask\n",
    "    mask = df_vdjdb['complex.id'] == complex_id\n",
    "    mask_meth = df_meth['complex.id'] == complex_id\n",
    "    # > isolate genes\n",
    "    tra = df_vdjdb.loc[mask & (df_vdjdb['Gene'] == 'TRA'), 'CDR3'].iloc[0]\n",
    "    trb = df_vdjdb.loc[mask & (df_vdjdb['Gene'] == 'TRB'), 'CDR3'].iloc[0]\n",
    "    ags = set(df_vdjdb.loc[mask, 'Epitope'].tolist()); assert len(ags) == 1\n",
    "    refs = set(df_vdjdb.loc[mask, 'Reference'].tolist()); assert len(refs) == 1\n",
    "    mhcs = set(df_vdjdb.loc[mask, 'MHC A'].tolist()); assert len(mhcs) == 1\n",
    "    # > if the method is greater than 0 drop the one without frequency information\n",
    "    meths = set(df_meth.loc[mask_meth, 0].tolist())\n",
    "    meth = meths.pop() if len(meths) == 1 else ';'.join(meths)\n",
    "    freqs = set(df_meth.loc[mask_meth, 1].dropna().tolist())\n",
    "    freq = np.nan if len(freqs) == 0 else np.min(freqs)\n",
    "    df_tmp.loc[df_tmp.shape[0]] = 'VDJDB', refs.pop(), meth, freq, tra, trb, ags.pop(), mhcs.pop(), 'peptide'"
   ]
  },
  {
   "cell_type": "code",
   "execution_count": null,
   "id": "9bb5882d-093a-47f3-aabf-aebc93d091df",
   "metadata": {},
   "outputs": [],
   "source": [
    "# rename and save\n",
    "df_vdjdb = df_tmp.copy()\n",
    "df_vdjdb.to_csv('../outs/data.vdjdb.csv')"
   ]
  },
  {
   "cell_type": "markdown",
   "id": "908a3ee8-1e0b-434b-bce7-f6b468b1f9b0",
   "metadata": {},
   "source": [
    "#### MCPAS"
   ]
  },
  {
   "cell_type": "code",
   "execution_count": null,
   "id": "1ca7a9ad-0623-4bdf-8d16-c5dc1b6a9f95",
   "metadata": {},
   "outputs": [],
   "source": [
    "# read in the MCPAS\n",
    "df_mcpas = pd.read_csv('../data/MCPAS.csv')\n",
    "mask = df_mcpas['Species'] == 'Human'\n",
    "df_mcpas = df_mcpas.loc[mask]"
   ]
  },
  {
   "cell_type": "code",
   "execution_count": null,
   "id": "3d74a52a-f293-440e-9808-6f0da9d28e1f",
   "metadata": {},
   "outputs": [],
   "source": [
    "# antigen identification method was converted into a string\n",
    "num2str = {1:'peptide-MHC multimers', 2:'selection post in-culture activation with Ag',\n",
    "           2.1:'selection post in-culture activation with Ag: peptide',\n",
    "           2.2:'selection post in-culture activation with Ag: whole protein',\n",
    "           2.3:'selection post in-culture activation with Ag: whole pathogen',\n",
    "           2.4:'selection post in-culture activation with Ag: tumor cells',\n",
    "           2.5:'selection post in-culture activation with Ag: other types of in vitro stimulation',\n",
    "           3:'revealed by direct sequencing of ex-vivo labeled T cells',\n",
    "           4:'MCPAS #4'}  # the fourth does not have any description\n",
    "df_mcpas['METH'] = df_mcpas['Antigen.identification.method'].map(num2str)\n",
    "# rename the columns and subset for valid data\n",
    "df_mcpas = df_mcpas[['MHC','CDR3.alpha.aa','CDR3.beta.aa','Epitope.peptide','METH','PubMed.ID']].dropna(subset=['MHC','CDR3.alpha.aa','CDR3.beta.aa','Epitope.peptide'])\n",
    "df_mcpas['FREQ'] = np.nan\n",
    "df_mcpas.columns = ['MHC','TRA','TRB','AG','METH','REF','FREQ']\n",
    "df_mcpas['TYPE'] = 'peptide'\n",
    "df_mcpas['DB'] = 'MCPAS'\n",
    "df_mcpas = df_mcpas[['DB','REF','METH','FREQ','TRA','TRB','AG','MHC','TYPE']]"
   ]
  },
  {
   "cell_type": "code",
   "execution_count": null,
   "id": "ea06ea39-9b11-4415-9b17-f9d505d16d9f",
   "metadata": {},
   "outputs": [],
   "source": [
    "# write the processed data\n",
    "df_mcpas.to_csv('../outs/data.mcpas.csv')"
   ]
  },
  {
   "cell_type": "markdown",
   "id": "9bba2ed4-d28f-4a3b-b318-0d714b362797",
   "metadata": {},
   "source": [
    "#### IEDB"
   ]
  },
  {
   "cell_type": "code",
   "execution_count": null,
   "id": "5c370d93-142a-4220-9494-ae2a77791a2d",
   "metadata": {},
   "outputs": [],
   "source": [
    "# read in the IEDB\n",
    "df_iedb = pd.read_csv('../data/IEDB.nonpeptide.receptor_table_export_1734038752.csv')\n",
    "# only keep valid pairs with epitopes\n",
    "mask_tra = ~df_iedb[['Chain 1 - CDR3 Curated','Chain 1 - CDR3 Calculated']].isna().all(1)\n",
    "mask_trb = ~df_iedb[['Chain 2 - CDR3 Curated','Chain 2 - CDR3 Calculated']].isna().all(1)\n",
    "mask_epitope = ~df_iedb['Epitope - Name'].isna()\n",
    "mask = mask_tra & mask_trb & mask_epitope\n",
    "df_iedb = df_iedb.loc[mask]\n",
    "# add only valid tras and trbs\n",
    "df_iedb['TRA'] = [pd.Series(x).dropna().iloc[0] for x in df_iedb[['Chain 1 - CDR3 Curated','Chain 1 - CDR3 Calculated']].values]\n",
    "df_iedb['TRB'] = [pd.Series(x).dropna().iloc[0] for x in df_iedb[['Chain 2 - CDR3 Curated','Chain 2 - CDR3 Calculated']].values]\n",
    "# rename the columns\n",
    "df_iedb = df_iedb[['TRA','TRB','Epitope - Name','Assay - MHC Allele Names','Assay - IEDB IDs','Reference - IEDB IRI']]\n",
    "df_iedb.columns = ['TRA','TRB','AG','MHC','METH','REF']\n",
    "df_iedb['DB'] = 'IEDB'; df_iedb['TYPE'] = 'non-peptide'; df_iedb['FREQ'] = np.nan\n",
    "df_iedb_nonpep = df_iedb[['DB','REF','METH','FREQ','TRA','TRB','AG','MHC','TYPE']].copy()"
   ]
  },
  {
   "cell_type": "code",
   "execution_count": null,
   "id": "d6196878-c2da-4ee4-92b0-2bcd15f3469e",
   "metadata": {},
   "outputs": [],
   "source": [
    "# read in the IEDB\n",
    "df_iedb = pd.read_csv('../data/IEDB.paired_pep.receptor_table_export_1734038781.csv')\n",
    "# only keep valid pairs with epitopes\n",
    "mask_tra = ~df_iedb[['Chain 1 - CDR3 Curated','Chain 1 - CDR3 Calculated']].isna().all(1)\n",
    "mask_trb = ~df_iedb[['Chain 2 - CDR3 Curated','Chain 2 - CDR3 Calculated']].isna().all(1)\n",
    "mask_epitope = ~df_iedb['Epitope - Name'].isna()\n",
    "mask = mask_tra & mask_trb & mask_epitope\n",
    "df_iedb = df_iedb.loc[mask]\n",
    "# add only valid tras and trbs\n",
    "df_iedb['TRA'] = [pd.Series(x).dropna().iloc[0] for x in df_iedb[['Chain 1 - CDR3 Curated','Chain 1 - CDR3 Calculated']].values]\n",
    "df_iedb['TRB'] = [pd.Series(x).dropna().iloc[0] for x in df_iedb[['Chain 2 - CDR3 Curated','Chain 2 - CDR3 Calculated']].values]\n",
    "# rename the columns\n",
    "df_iedb = df_iedb[['TRA','TRB','Epitope - Name','Assay - MHC Allele Names','Assay - IEDB IDs','Reference - IEDB IRI']]\n",
    "df_iedb.columns = ['TRA','TRB','AG','MHC','METH','REF']\n",
    "df_iedb['DB'] = 'IEDB'; df_iedb['TYPE'] = 'peptide'; df_iedb['FREQ'] = np.nan\n",
    "df_iedb_pep = df_iedb[['DB','REF','METH','FREQ','TRA','TRB','AG','MHC','TYPE']].copy()"
   ]
  },
  {
   "cell_type": "code",
   "execution_count": null,
   "id": "664b550f-97c4-4b10-8630-d68c25a5039d",
   "metadata": {},
   "outputs": [],
   "source": [
    "# write the processed data\n",
    "df_iedb = pd.concat([df_iedb_nonpep, df_iedb_pep], axis=0)\n",
    "df_iedb.to_csv('../outs/data.iedb.csv')"
   ]
  },
  {
   "cell_type": "markdown",
   "id": "85b9e934-b48f-4802-ab4b-7d3d086be706",
   "metadata": {},
   "source": [
    "#### Integration"
   ]
  },
  {
   "cell_type": "code",
   "execution_count": null,
   "id": "78e7d2ad-da4d-40a2-bb8b-be5a07f17e39",
   "metadata": {},
   "outputs": [],
   "source": [
    "# integrate all datasets together\n",
    "df = pd.concat([df_iedb, df_mcpas, df_vdjdb], axis=0)\n",
    "print(df.shape)"
   ]
  },
  {
   "cell_type": "code",
   "execution_count": null,
   "id": "a4d9810f-1bd0-4c5c-9a04-bd716eece0e4",
   "metadata": {},
   "outputs": [],
   "source": [
    "# de-duplicate\n",
    "df = df.astype(str).value_counts().reset_index()\n",
    "df.columns = ['DB', 'REF', 'METH', 'FREQ', 'TRA', 'TRB', 'AG', 'MHC', 'TYPE', 'NREP']\n",
    "# everything that does not begin with C should begin with C\n",
    "mask = df['TRA'].str.startswith('C'); df.loc[~mask, 'TRA'] = 'C' + df.loc[~mask, 'TRA']\n",
    "mask = df['TRB'].str.startswith('C'); df.loc[~mask, 'TRB'] = 'C' + df.loc[~mask, 'TRB']\n",
    "# write the current raw version\n",
    "df.to_csv('../outs/df.int.clean.csv')"
   ]
  },
  {
   "cell_type": "markdown",
   "id": "870e80d5-1251-48aa-bb1a-90b1ed87522f",
   "metadata": {},
   "source": [
    "### ZEMIN ZHANG PAN-CANCER T CELL ATLAS"
   ]
  },
  {
   "cell_type": "code",
   "execution_count": null,
   "id": "e711a24f-0707-4f06-9487-667d530e9bc4",
   "metadata": {},
   "outputs": [],
   "source": [
    "import pyreadr\n",
    "# retrieve zemin TCR data\n",
    "result = pyreadr.read_r('/home/dchen2/LITERATURE/ZEMIN_PANCANCER/data/tcr/byCell/tcr.zhangLab.comb.flt.rds')\n",
    "result = list(result.values())[0]\n",
    "# add only relevant column names\n",
    "result[['TRA','TRB','TcellType']] = result[['CDR3.A1','CDR3.B1','stype']]"
   ]
  },
  {
   "cell_type": "code",
   "execution_count": null,
   "id": "78b9d606-d12a-499c-a8be-5f620c1b01ae",
   "metadata": {},
   "outputs": [],
   "source": [
    "# verification\n",
    "vocab = ['A','C','D','E','F','G','H','I','K','L','M','N','P','Q','R','S','T','V','W','Y']\n",
    "def verify(x):\n",
    "    if str(x) == 'nan': return True\n",
    "    return sum([x.count(aa) for aa in vocab]) == len(x)\n",
    "va = result['TRA'].astype(str).apply(verify)\n",
    "vb = result['TRB'].astype(str).apply(verify)\n",
    "result = result.loc[va & vb]\n",
    "result['TRA'][~result['TRA'].str.startswith('C')] = 'C' + result['TRA'][~result['TRA'].str.startswith('C')]\n",
    "result['TRB'][~result['TRB'].str.startswith('C')] = 'C' + result['TRB'][~result['TRB'].str.startswith('C')]\n",
    "results = {'ZHENG_SCIENCE2021_PANCAN': result}"
   ]
  },
  {
   "cell_type": "markdown",
   "id": "9ed820e8-5bad-4cca-acfc-fa29002d191d",
   "metadata": {},
   "source": [
    "### BARRAS_SCIIMMUN2024_MELA"
   ]
  },
  {
   "cell_type": "code",
   "execution_count": null,
   "id": "a28f7112-1e09-49c6-9c49-06c9d29f4d67",
   "metadata": {},
   "outputs": [],
   "source": [
    "from glob import glob\n",
    "from tqdm import tqdm\n",
    "# locate the TCR tables\n",
    "fns = glob('../external_data/BARRAS_SCIIMMUN2024_MELA/GSM*_all_contig_annotations_Patient*_T*.csv.gz')\n",
    "# process each of the TCR tables\n",
    "dfs = []\n",
    "for fn in tqdm(fns):\n",
    "    # read in the table\n",
    "    df = pd.read_csv(fn)\n",
    "    # remove any chain for which it is unknown\n",
    "    df = df.dropna(subset=['chain'])\n",
    "    # remove any without cdr3\n",
    "    df = df.dropna(subset=['cdr3'])\n",
    "    # filter for cells\n",
    "    df = df.loc[df['is_cell'] & df['high_confidence']]\n",
    "    # remove anything not in a valid chain\n",
    "    df = df.loc[df['chain'].isin(['TRA','TRB','TRD','TRG'])]\n",
    "    # remove the invalid barcodes from duplicates with low counts\n",
    "    counts_tra = df.loc[df['chain'] == 'TRA', 'barcode'].value_counts()\n",
    "    counts_trb = df.loc[df['chain'] == 'TRB', 'barcode'].value_counts()\n",
    "    counts_trd = df.loc[df['chain'] == 'TRD', 'barcode'].value_counts()\n",
    "    counts_trg = df.loc[df['chain'] == 'TRG', 'barcode'].value_counts()\n",
    "    invalid_bcs_tra = counts_tra.index[counts_tra >= 2]\n",
    "    invalid_bcs_trb = counts_trb.index[counts_trb >= 2]\n",
    "    invalid_bcs_trd = counts_trd.index[counts_trd >= 2]\n",
    "    invalid_bcs_trg = counts_trg.index[counts_trg >= 2]\n",
    "    invalid_idxs = []\n",
    "    for bc in invalid_bcs_tra:\n",
    "        # isolate the minimally expressed idxs\n",
    "        idxs = df.loc[(df['chain'] == 'TRA')&(df['barcode'] == bc), 'reads'].sort_values().index[0:-1]\n",
    "        invalid_idxs.extend(idxs.tolist())\n",
    "    for bc in invalid_bcs_trb:\n",
    "        # isolate the minimally expressed idxs\n",
    "        idxs = df.loc[(df['chain'] == 'TRB')&(df['barcode'] == bc), 'reads'].sort_values().index[0:-1]\n",
    "        invalid_idxs.extend(idxs.tolist())\n",
    "    for bc in invalid_bcs_trd:\n",
    "        # isolate the minimally expressed idxs\n",
    "        idxs = df.loc[(df['chain'] == 'TRD')&(df['barcode'] == bc), 'reads'].sort_values().index[0:-1]\n",
    "        invalid_idxs.extend(idxs.tolist())\n",
    "    for bc in invalid_bcs_trg:\n",
    "        # isolate the minimally expressed idxs\n",
    "        idxs = df.loc[(df['chain'] == 'TRG')&(df['barcode'] == bc), 'reads'].sort_values().index[0:-1]\n",
    "        invalid_idxs.extend(idxs.tolist())\n",
    "    df = df.loc[~df.index.isin(invalid_idxs)]\n",
    "    # verify there are not any barcodes that have three rows\n",
    "    counts = df[['barcode','chain']].value_counts()\n",
    "    assert counts.max() < 2\n",
    "    # assemble it up\n",
    "    df = df.pivot_table(index='barcode', columns=['chain'], values=df.columns[1:-1].tolist(), aggfunc=np.sum)\n",
    "    df.columns = [':'.join(x) for x in df.columns]\n",
    "    # add on special columns\n",
    "    pt, tp = fn.split('/')[-1].split('all_contig_annotations_Patient')[-1].split('.csv.gz')[0].split('_T')\n",
    "    df['patient'] = pt; df['timepoint'] = tp\n",
    "    # process the non chain dependent columns\n",
    "    df[['TRA','TRB']] = df[['cdr3:TRA','cdr3:TRB']]\n",
    "    df['TcellType'] = 'T'\n",
    "    dfs.append(df)"
   ]
  },
  {
   "cell_type": "code",
   "execution_count": null,
   "id": "ab2dd79f-5ce6-445d-ab04-8ed31211020e",
   "metadata": {
    "scrolled": true
   },
   "outputs": [],
   "source": [
    "# add on the additional CR/PD and RECIST annotations\n",
    "result = pd.concat(dfs, axis=0)\n",
    "anno = pd.read_excel('../external_data/BARRAS_SCIIMMUN2024_MELA/Datafile_S1.xlsx', index_col=0, sheet_name=0)\n",
    "anno.index = anno.index.astype(str)\n",
    "for col in anno.columns:\n",
    "    result[col] = result['patient'].astype(str).map(anno[col])\n",
    "anno = pd.read_excel('../external_data/BARRAS_SCIIMMUN2024_MELA/Datafile_S1.xlsx', index_col=0, sheet_name=1)\n",
    "anno.index = anno.index.astype(str)\n",
    "for col in anno.columns:\n",
    "    result[col] = result['patient'].astype(str).map(anno[col])"
   ]
  },
  {
   "cell_type": "code",
   "execution_count": null,
   "id": "2cbb2d00-ee43-46a6-b7e3-ee4e9f440f3a",
   "metadata": {},
   "outputs": [],
   "source": [
    "# verification\n",
    "va = result['TRA'].astype(str).apply(verify)\n",
    "vb = result['TRB'].astype(str).apply(verify)\n",
    "result = result.loc[va & vb]\n",
    "mask = (~result['TRA'].astype(str).str.startswith('C')) & (~result['TRA'].isna())\n",
    "result['TRA'][mask] = 'C' + result['TRA'][mask]\n",
    "mask = (~result['TRB'].astype(str).str.startswith('C')) & (~result['TRB'].isna())\n",
    "result['TRB'][mask] = 'C' + result['TRB'][mask]\n",
    "results['BARRAS_SCIIMMUN2024_MELA'] = result"
   ]
  },
  {
   "cell_type": "markdown",
   "id": "ae82cc4a-a692-4ae1-bc0e-ff940dd46745",
   "metadata": {},
   "source": [
    "### BOLAND_SCIIMMUN2020_IBD"
   ]
  },
  {
   "cell_type": "code",
   "execution_count": null,
   "id": "14e879da-ef8d-4db8-9e59-c36d7a17f373",
   "metadata": {},
   "outputs": [],
   "source": [
    "# tissue is R for rectum and PBMC for PB, I is ileum (we only use the first two not sure where the third is from)\n",
    "# for patients C stands for control and U stands for UC"
   ]
  },
  {
   "cell_type": "code",
   "execution_count": null,
   "id": "7cba6f32-99d4-44d1-a3cf-2c679009ed6d",
   "metadata": {
    "tags": []
   },
   "outputs": [],
   "source": [
    "# take the TCR table and convert\n",
    "fns = glob('../external_data/BOLAND_SCIIMMUN2020_IBD/GSM*_full-length_productive_TCR_table.tsv.gz')\n",
    "fns = [x for x in fns if '_I_full' not in fns]\n",
    "# process each of the TCR tables\n",
    "dfs = []\n",
    "for fn in tqdm(fns):\n",
    "    # read in the table\n",
    "    df = pd.read_table(fn)\n",
    "    # remove any barcodes that have three rows, very rare but do exist\n",
    "    counts = df['barcode'].value_counts()\n",
    "    valid_bcs = counts.index[(counts >= 1) & (counts <= 2)]\n",
    "    df = df.loc[df['barcode'].isin(valid_bcs)]\n",
    "    # add in an extra column indicative of TRA or TRB nature\n",
    "    # > we have to assure that the v gene\n",
    "    assert df['v_gene'].isna().sum() == 0\n",
    "    df['chain'] = df['v_gene'].str.slice(0, 3)\n",
    "    # remove anything not in a valid chain\n",
    "    df = df.loc[df['chain'].isin(['TRA','TRB','TRD','TRG'])]\n",
    "    # do not allow for barcodes with multiple rows\n",
    "    df['tag'] = df[['barcode','chain']].astype(str).agg(':'.join, axis=1)\n",
    "    counts = df['tag'].value_counts()\n",
    "    df = df.loc[df['tag'].isin(counts.index[counts < 2])]\n",
    "    counts = df[['barcode','chain']].value_counts()\n",
    "    assert counts.max() < 2\n",
    "    # assemble it up\n",
    "    df = df.pivot_table(index='barcode', columns=['chain'], values=df.columns[1:-1].tolist(), aggfunc=np.sum)\n",
    "    df.columns = [':'.join(x) for x in df.columns]\n",
    "    # process the non chain dependent columns\n",
    "    cols = ['batch_id','celltype','disease','patient_id','tissue_type']\n",
    "    for col in cols:\n",
    "        # confirm the values are valid\n",
    "        assert ((df[f'{col}:TRA'] == df[f'{col}:TRB']) | df[[f'{col}:TRA',f'{col}:TRB']].isna().any(axis=1)).all()\n",
    "        # retrieve the values via a combination of TRA and TRB whatever has the values\n",
    "        values_tra = df[f'{col}:TRA']\n",
    "        values_trb = df[f'{col}:TRB']\n",
    "        values_tra[values_tra.isna()] = values_trb[values_tra.isna()]\n",
    "        df[col] = values_tra\n",
    "        del df[f'{col}:TRA'], df[f'{col}:TRB']\n",
    "    df[['TRA','TRB']] = df[['cdr3:TRA','cdr3:TRB']]\n",
    "    df['TcellType'] = 'T'\n",
    "    dfs.append(df)\n",
    "result = pd.concat(dfs, axis=0)"
   ]
  },
  {
   "cell_type": "code",
   "execution_count": null,
   "id": "d5e29dad-ebdf-4a88-9eba-a3f8c63b0e1c",
   "metadata": {},
   "outputs": [],
   "source": [
    "# verification\n",
    "va = result['TRA'].astype(str).apply(verify)\n",
    "vb = result['TRB'].astype(str).apply(verify)\n",
    "result = result.loc[va & vb]\n",
    "mask = (~result['TRA'].astype(str).str.startswith('C')) & (~result['TRA'].isna())\n",
    "result['TRA'][mask] = 'C' + result['TRA'][mask]\n",
    "mask = (~result['TRB'].astype(str).str.startswith('C')) & (~result['TRB'].isna())\n",
    "result['TRB'][mask] = 'C' + result['TRB'][mask]\n",
    "results['BOLAND_SCIIMMUN2020_IBD'] = result"
   ]
  },
  {
   "cell_type": "markdown",
   "id": "9482da27-2218-42ae-a847-b8727652eba7",
   "metadata": {},
   "source": [
    "### CAUSHI_NATURE2021_NSCLC"
   ]
  },
  {
   "cell_type": "code",
   "execution_count": null,
   "id": "483956e3-236e-4a4f-bfe6-72c2d6efd55f",
   "metadata": {},
   "outputs": [],
   "source": [
    "# resected and PB samples from some patients on anti-PD1 and some gained resistance\n",
    "# examining viral specific and neoantigen specific libraries or specific peptides\n",
    "# HIV is negative control, i think, H1N1 and H3N2 have separate matrix and nucleoprotein libraries\n",
    "# there are three pools i believe to increase direction, they are highly correlated\n",
    "# these are all peripheral blood"
   ]
  },
  {
   "cell_type": "code",
   "execution_count": null,
   "id": "69a92be1-8349-42a7-b745-9c249f0ad06e",
   "metadata": {},
   "outputs": [],
   "source": [
    "# prepare to assemble all of the viruses\n",
    "dfs = []\n",
    "# assemble H1N1\n",
    "fns = sorted(glob('../external_data/CAUSHI_NATURE2021_NSCLC/GSM*_H1N1_1.txt.gz'))\n",
    "for fn in tqdm(fns):\n",
    "    # read in the tables for H1N1\n",
    "    tb1 = pd.read_table(fn)\n",
    "    tb2 = pd.read_table(glob('../external_data/CAUSHI_NATURE2021_NSCLC/*' + '_'.join(fn.split('/')[-1].split('_')[1:3]) + '*_H1N1_2.txt.gz')[0])\n",
    "    tb3 = pd.read_table(glob('../external_data/CAUSHI_NATURE2021_NSCLC/*' + '_'.join(fn.split('/')[-1].split('_')[1:3]) + '*_H1N1_3.txt.gz')[0])\n",
    "    # concatenate together and average\n",
    "    df = pd.concat([tb1, tb2, tb3], axis=0).groupby(['cdr3nt','cdr3aa','v','d','j','VEnd','DStart','DEnd','JStart']).mean().reset_index()\n",
    "    df['patient'] = fn.split('/')[-1].split('_')[1]\n",
    "    df['epitope'] = fn.split('/')[-1].split('_')[2]\n",
    "    df['virus'] = fn.split('/')[-1].split('_')[3]\n",
    "    dfs.append(df)\n",
    "# assemble H3N2\n",
    "fns = sorted(glob('../external_data/CAUSHI_NATURE2021_NSCLC/GSM*_H3N2_1.txt.gz'))\n",
    "for fn in tqdm(fns):\n",
    "    # read in the tables for H1N1\n",
    "    tb1 = pd.read_table(fn)\n",
    "    tb2 = pd.read_table(glob('../external_data/CAUSHI_NATURE2021_NSCLC/*' + '_'.join(fn.split('/')[-1].split('_')[1:3]) + '*_H3N2_2.txt.gz')[0])\n",
    "    tb3 = pd.read_table(glob('../external_data/CAUSHI_NATURE2021_NSCLC/*' + '_'.join(fn.split('/')[-1].split('_')[1:3]) + '*_H3N2_3.txt.gz')[0])\n",
    "    # concatenate together and average\n",
    "    df = pd.concat([tb1, tb2, tb3], axis=0).groupby(['cdr3nt','cdr3aa','v','d','j','VEnd','DStart','DEnd','JStart']).mean().reset_index()\n",
    "    df['patient'] = fn.split('/')[-1].split('_')[1]\n",
    "    df['epitope'] = fn.split('/')[-1].split('_')[2]\n",
    "    df['virus'] = fn.split('/')[-1].split('_')[3]\n",
    "    dfs.append(df)"
   ]
  },
  {
   "cell_type": "code",
   "execution_count": null,
   "id": "3429f847-a8fb-4ea1-a25a-d082d9961ca1",
   "metadata": {},
   "outputs": [],
   "source": [
    "# create a conversion dataframe\n",
    "series_sample_id = 'GSM5266261 GSM5266262 GSM5266263 GSM5266264 GSM5266265 GSM5266266 GSM5266267 GSM5266268 GSM5266269 GSM5266270 GSM5266271 GSM5266272 GSM5266273 GSM5266274 GSM5266275 GSM5266276 GSM5266277 GSM5266278 GSM5266279 GSM5266280 GSM5266281 GSM5266282 GSM5266283 GSM5266284 GSM5266285 GSM5266286 GSM5266287 GSM5266288 GSM5266289 GSM5266290 GSM5266291 GSM5266292 GSM5266293 GSM5266294 GSM5266295 GSM5266296 GSM5266297 GSM5266298 GSM5266299 GSM5266300 GSM5266301 GSM5266302 GSM5266303 GSM5266304 GSM5266305 GSM5266306 GSM5266307 GSM5266308 GSM5266309 GSM5266310 GSM5266311 GSM5266312 GSM5266313 GSM5266314 GSM5266315 GSM5266316 GSM5266317 GSM5266318 GSM5266319 GSM5266320 GSM5266321 GSM5266322 GSM5266323 GSM5266324 GSM5266325 GSM5266326 GSM5266327 GSM5266328 GSM5266329 GSM5266330 GSM5266331 GSM5266332 GSM5266333 GSM5266334 GSM5266335 GSM5266336 GSM5266337 GSM5266338 GSM5266339 GSM5266340 GSM5266341 GSM5266342 GSM5266343 GSM5266344 GSM5266345 GSM5266346 GSM5266347 GSM5266348 GSM5266349 GSM5266350 GSM5266351 GSM5266352 GSM5266353 GSM5266354 GSM5266355 GSM5266356 GSM5266357 GSM5266358 GSM5266359 GSM5266360 GSM5266361 GSM5266362'.split(' ')\n",
    "sample_title = 'MD01-004_HIV\"\t\"MD01-004_MP1_H1N1_1\"\t\"MD01-004_MP1_H1N1_2\"\t\"MD01-004_MP1_H1N1_3\"\t\"MD01-004_MP1_H3N2_1\"\t\"MD01-004_MP1_H3N2_2\"\t\"MD01-004_MP1_H3N2_3\"\t\"MD01-004_NP_H1N1_1\"\t\"MD01-004_NP_H1N1_2\"\t\"MD01-004_NP_H1N1_3\"\t\"MD01-004_NP_H3N2_1\"\t\"MD01-004_NP_H3N2_2\"\t\"MD01-004_NP_H3N2_3\"\t\"MD043-011_HIV\"\t\"MD043-011_MP1_H1N1_1\"\t\"MD043-011_MP1_H1N1_2\"\t\"MD043-011_MP1_H1N1_3\"\t\"MD043-011_MP1_H3N2_1\"\t\"MD043-011_MP1_H3N2_2\"\t\"MD043-011_MP1_H3N2_3\"\t\"MD043-011_NP_H1N1_1\"\t\"MD043-011_NP_H1N1_2\"\t\"MD043-011_NP_H1N1_3\"\t\"MD043-011_NP_H3N2_1\"\t\"MD043-011_NP_H3N2_2\"\t\"MD043-011_NP_H3N2_3\"\t\"NY016-007_1\"\t\"NY016-007_10\"\t\"NY016-007_11\"\t\"NY016-007_12\"\t\"NY016-007_13\"\t\"NY016-007_14\"\t\"NY016-007_15\"\t\"NY016-007_16\"\t\"NY016-007_17\"\t\"NY016-007_2\"\t\"NY016-007_3\"\t\"NY016-007_4\"\t\"NY016-007_5\"\t\"NY016-007_6\"\t\"NY016-007_7\"\t\"NY016-007_8\"\t\"NY016-007_9\"\t\"NY016-007_CEF\"\t\"NY016-007_NoPep\"\t\"NY016-014_1\"\t\"NY016-014_10\"\t\"NY016-014_11\"\t\"NY016-014_12\"\t\"NY016-014_13\"\t\"NY016-014_14\"\t\"NY016-014_15\"\t\"NY016-014_16\"\t\"NY016-014_2\"\t\"NY016-014_21\"\t\"NY016-014_22\"\t\"NY016-014_23\"\t\"NY016-014_24\"\t\"NY016-014_25\"\t\"NY016-014_3\"\t\"NY016-014_31\"\t\"NY016-014_32\"\t\"NY016-014_4\"\t\"NY016-014_5\"\t\"NY016-014_6\"\t\"NY016-014_7\"\t\"NY016-014_8\"\t\"NY016-014_9\"\t\"NY016-014_CEF\"\t\"NY016-014_No_Pep\"\t\"NY016-025_1\"\t\"NY016-025_10\"\t\"NY016-025_11\"\t\"NY016-025_12\"\t\"NY016-025_13\"\t\"NY016-025_14\"\t\"NY016-025_15\"\t\"NY016-025_16\"\t\"NY016-025_17\"\t\"NY016-025_2\"\t\"NY016-025_3\"\t\"NY016-025_4\"\t\"NY016-025_5\"\t\"NY016-025_6\"\t\"NY016-025_7\"\t\"NY016-025_8\"\t\"NY016-025_9\"\t\"NY016-025_CEF\"\t\"NY016-025_NoPep\"\t\"MD01-005_HIV\"\t\"MD01-005_MP1_H1N1_1\"\t\"MD01-005_MP1_H1N1_2\"\t\"MD01-005_MP1_H1N1_3\"\t\"MD01-005_MP1_H3N2_1\"\t\"MD01-005_MP1_H3N2_2\"\t\"MD01-005_MP1_H3N2_3\"\t\"MD01-005_NP_H1N1_1\"\t\"MD01-005_NP_H1N1_2\"\t\"MD01-005_NP_H1N1_3\"\t\"MD01-005_NP_H3N2_1\"\t\"MD01-005_NP_H3N2_2\"\t\"MD01-005_NP_H3N2_3'.split('\"\t\"')\n",
    "gene_of_origin = 'gene epitope derived from: NA\"\t\"gene epitope derived from: NA\"\t\"gene epitope derived from: NA\"\t\"gene epitope derived from: NA\"\t\"gene epitope derived from: NA\"\t\"gene epitope derived from: NA\"\t\"gene epitope derived from: NA\"\t\"gene epitope derived from: NA\"\t\"gene epitope derived from: NA\"\t\"gene epitope derived from: NA\"\t\"gene epitope derived from: NA\"\t\"gene epitope derived from: NA\"\t\"gene epitope derived from: NA\"\t\"gene epitope derived from: NA\"\t\"gene epitope derived from: NA\"\t\"gene epitope derived from: NA\"\t\"gene epitope derived from: NA\"\t\"gene epitope derived from: NA\"\t\"gene epitope derived from: NA\"\t\"gene epitope derived from: NA\"\t\"gene epitope derived from: NA\"\t\"gene epitope derived from: NA\"\t\"gene epitope derived from: NA\"\t\"gene epitope derived from: NA\"\t\"gene epitope derived from: NA\"\t\"gene epitope derived from: NA\"\t\"gene epitope derived from: SON\"\t\"gene epitope derived from: MUC4\"\t\"gene epitope derived from: MUC4\"\t\"gene epitope derived from: TMPRSS13\"\t\"gene epitope derived from: TMPRSS13\"\t\"gene epitope derived from: TMPRSS13\"\t\"gene epitope derived from: TMPRSS13\"\t\"gene epitope derived from: TMPRSS13\"\t\"gene epitope derived from: CARD14\"\t\"gene epitope derived from: TMPRSS13\"\t\"gene epitope derived from: SON\"\t\"gene epitope derived from: SON\"\t\"gene epitope derived from: SON\"\t\"gene epitope derived from: TMPRSS13\"\t\"gene epitope derived from: TMPRSS13\"\t\"gene epitope derived from: CARD14\"\t\"gene epitope derived from: MUC4\"\t\"gene epitope derived from: NA\"\t\"gene epitope derived from: NA\"\t\"gene epitope derived from: SNX1\"\t\"gene epitope derived from: CCNL1\"\t\"gene epitope derived from: CUL4A\"\t\"gene epitope derived from: CCNL1\"\t\"gene epitope derived from: CCNL1\"\t\"gene epitope derived from: COL11A1\"\t\"gene epitope derived from: CENPE\"\t\"gene epitope derived from: C2orf16\"\t\"gene epitope derived from: SNX1\"\t\"gene epitope derived from: ZNF692\"\t\"gene epitope derived from: ZNF692\"\t\"gene epitope derived from: CMKLR1\"\t\"gene epitope derived from: CMKLR1\"\t\"gene epitope derived from: COL11A1\"\t\"gene epitope derived from: ZNF692\"\t\"gene epitope derived from: ZNF692\"\t\"gene epitope derived from: ZNF692\"\t\"gene epitope derived from: CMKLR1\"\t\"gene epitope derived from: CMKLR1\"\t\"gene epitope derived from: CMKLR1\"\t\"gene epitope derived from: CMKLR1\"\t\"gene epitope derived from: CDKN2A\"\t\"gene epitope derived from: C2orf16\"\t\"gene epitope derived from: NA\"\t\"gene epitope derived from: NA\"\t\"gene epitope derived from: COL6A3\"\t\"gene epitope derived from: SHPRH\"\t\"gene epitope derived from: EZH1\"\t\"gene epitope derived from: NTF3\"\t\"gene epitope derived from: COL6A3\"\t\"gene epitope derived from: SHPRH\"\t\"gene epitope derived from: SHPRH\"\t\"gene epitope derived from: OR4P4\"\t\"gene epitope derived from: OR4P4\"\t\"gene epitope derived from: NEB\"\t\"gene epitope derived from: NTF3\"\t\"gene epitope derived from: COL6A3\"\t\"gene epitope derived from: COL6A3\"\t\"gene epitope derived from: ARMCX2\"\t\"gene epitope derived from: ZNF219\"\t\"gene epitope derived from: ZNF219\"\t\"gene epitope derived from: SHPRH\"\t\"gene epitope derived from: NA\"\t\"gene epitope derived from: NA\"\t\"gene epitope derived from: NA\"\t\"gene epitope derived from: NA\"\t\"gene epitope derived from: NA\"\t\"gene epitope derived from: NA\"\t\"gene epitope derived from: NA\"\t\"gene epitope derived from: NA\"\t\"gene epitope derived from: NA\"\t\"gene epitope derived from: NA\"\t\"gene epitope derived from: NA\"\t\"gene epitope derived from: NA\"\t\"gene epitope derived from: NA\"\t\"gene epitope derived from: NA\"\t\"gene epitope derived from: NA'.split('\"\t\"')\n",
    "epitope = 'epitope tested: Viral (HIV)\"\t\"epitope tested: Viral (Influenza, MP1_H1N1)\"\t\"epitope tested: Viral (Influenza, MP1_H1N1)\"\t\"epitope tested: Viral (Influenza, MP1_H1N1)\"\t\"epitope tested: Viral (Influenza, MP1_H3N2)\"\t\"epitope tested: Viral (Influenza, MP1_H3N2)\"\t\"epitope tested: Viral (Influenza, MP1_H3N2)\"\t\"epitope tested: Viral (Influenza, NP_H1N1)\"\t\"epitope tested: Viral (Influenza, NP_H1N1)\"\t\"epitope tested: Viral (Influenza, NP_H1N1)\"\t\"epitope tested: Viral (Influenza, NP_H3N2)\"\t\"epitope tested: Viral (Influenza, NP_H3N2)\"\t\"epitope tested: Viral (Influenza, NP_H3N2)\"\t\"epitope tested: Viral (HIV)\"\t\"epitope tested: Viral (Influenza, MP1_H1N1)\"\t\"epitope tested: Viral (Influenza, MP1_H1N1)\"\t\"epitope tested: Viral (Influenza, MP1_H1N1)\"\t\"epitope tested: Viral (Influenza, MP1_H3N2)\"\t\"epitope tested: Viral (Influenza, MP1_H3N2)\"\t\"epitope tested: Viral (Influenza, MP1_H3N2)\"\t\"epitope tested: Viral (Influenza, NP_H1N1)\"\t\"epitope tested: Viral (Influenza, NP_H1N1)\"\t\"epitope tested: Viral (Influenza, NP_H1N1)\"\t\"epitope tested: Viral (Influenza, NP_H3N2)\"\t\"epitope tested: Viral (Influenza, NP_H3N2)\"\t\"epitope tested: Viral (Influenza, NP_H3N2)\"\t\"epitope tested: LTSPIVCF\"\t\"epitope tested: AITSKVSTV\"\t\"epitope tested: SAITSKVSTV\"\t\"epitope tested: ASLARASPA\"\t\"epitope tested: SLARASPA\"\t\"epitope tested: ASLARASPAL\"\t\"epitope tested: QASLARASPA\"\t\"epitope tested: LARASPALA\"\t\"epitope tested: KLRSLTFSLV\"\t\"epitope tested: LARASPALASL\"\t\"epitope tested: LRNGALTSPI\"\t\"epitope tested: VLRNGALTSPI\"\t\"epitope tested: LRNGALTSPIV\"\t\"epitope tested: LARASPAL\"\t\"epitope tested: SLARASPAL\"\t\"epitope tested: LRSLTFSLV\"\t\"epitope tested: SAITSKVSTV\"\t\"epitope tested: Viral pool (CMV, EBV, Influenza A)\"\t\"epitope tested: NA\"\t\"epitope tested: LLADATVEL\"\t\"epitope tested: TMACINLA\"\t\"epitope tested: LSKDIMFHFK\"\t\"epitope tested: VTMACINLASK\"\t\"epitope tested: TMACINLASK\"\t\"epitope tested: MSYDNNLFIK\"\t\"epitope tested: KTWKEKTLK\"\t\"epitope tested: VTLIDVPK\"\t\"epitope tested: LLADATVELSL\"\t\"epitope tested: MPLVHMAF\"\t\"epitope tested: MPLVHMAFSPA\"\t\"epitope tested: YPDYLDSIVF\"\t\"epitope tested: YPDYLDSIVFL\"\t\"epitope tested: MSYDNNLF\"\t\"epitope tested: HMAFSPAV\"\t\"epitope tested: MPLVHMAF\"\t\"epitope tested: MAFSPAVDV\"\t\"epitope tested: YLDSIVFL\"\t\"epitope tested: FLEDLSPL\"\t\"epitope tested: YLDSIVFLEDL\"\t\"epitope tested: FLEDLSPLEA\"\t\"epitope tested: LLLHGAEPKL\"\t\"epitope tested: TLIDVPKV\"\t\"epitope tested: Viral pool (CMV, EBV, Influenza A)\"\t\"epitope tested: NA\"\t\"epitope tested: AVQWLRPK\"\t\"epitope tested: LLHEYWMSLR\"\t\"epitope tested: EVKEEDEPF\"\t\"epitope tested: QVNKVMYILFY\"\t\"epitope tested: EVQNAVQWL\"\t\"epitope tested: LHEYWMSL\"\t\"epitope tested: YKLLHEYWMSL\"\t\"epitope tested: MEESNNSTL\"\t\"epitope tested: MEESNNSTLFI\"\t\"epitope tested: HVMPDTPDILK\"\t\"epitope tested: KVMYILFY\"\t\"epitope tested: VQNAVQWLRPK\"\t\"epitope tested: VQNAVQWLR\"\t\"epitope tested: TLFQIIYDNLR\"\t\"epitope tested: CLASLHPR\"\t\"epitope tested: RSLGCLASLH\"\t\"epitope tested: KLLHEYWMSLR\"\t\"epitope tested: Viral pool (CMV, EBV, Influenza A)\"\t\"epitope tested: NA\"\t\"epitope tested: Viral (HIV)\"\t\"epitope tested: Viral (Influenza, MP1_H1N1)\"\t\"epitope tested: Viral (Influenza, MP1_H1N1)\"\t\"epitope tested: Viral (Influenza, MP1_H1N1)\"\t\"epitope tested: Viral (Influenza, MP1_H3N2)\"\t\"epitope tested: Viral (Influenza, MP1_H3N2)\"\t\"epitope tested: Viral (Influenza, MP1_H3N2)\"\t\"epitope tested: Viral (Influenza, NP_H1N1)\"\t\"epitope tested: Viral (Influenza, NP_H1N1)\"\t\"epitope tested: Viral (Influenza, NP_H1N1)\"\t\"epitope tested: Viral (Influenza, NP_H3N2)\"\t\"epitope tested: Viral (Influenza, NP_H3N2)\"\t\"epitope tested: Viral (Influenza, NP_H3N2)'.split('\"\t\"')\n",
    "df = pd.DataFrame([series_sample_id, sample_title, gene_of_origin, epitope]).T.set_index(0)\n",
    "df['AG'] = df[3].str.split(': ', expand=True).iloc[:, 1]\n",
    "df['GENE'] = df[2].str.split(': ', expand=True).iloc[:, 1]\n",
    "df = df.loc[df[1].str.startswith('NY')]"
   ]
  },
  {
   "cell_type": "code",
   "execution_count": null,
   "id": "2d4e0466-7d9e-4c8c-951e-c91ff98e4df3",
   "metadata": {},
   "outputs": [],
   "source": [
    "# assemble neoantigens\n",
    "fns = sorted(glob('../external_data/CAUSHI_NATURE2021_NSCLC/GSM*_NY*.txt.gz'))\n",
    "for fn in fns:\n",
    "    # read in the table\n",
    "    tb = pd.read_table(fn)\n",
    "    # add on the annotations\n",
    "    tb['patient'] = fn.split('/')[-1].split('_')[1]\n",
    "    tb['epitope'] = df.loc[fn.split('/')[-1].split('_')[0], 'AG']\n",
    "    tb['virus'] = df.loc[fn.split('/')[-1].split('_')[0], 'GENE']\n",
    "    dfs.append(tb)\n",
    "result = pd.concat(dfs, axis=0)\n",
    "result['TRB'] = result['cdr3aa']\n",
    "result['TcellType'] = 'T'"
   ]
  },
  {
   "cell_type": "code",
   "execution_count": null,
   "id": "85e67b3f-6d45-46e2-b261-c4fd46cfd6ac",
   "metadata": {},
   "outputs": [],
   "source": [
    "# verification\n",
    "# va = result['TRA'].astype(str).apply(verify)\n",
    "vb = result['TRB'].astype(str).apply(verify)\n",
    "# result = result.loc[va & vb]\n",
    "result = result.loc[vb]\n",
    "# mask = (~result['TRA'].astype(str).str.startswith('C')) & (~result['TRA'].isna())\n",
    "# result['TRA'][mask] = 'C' + result['TRA'][mask]\n",
    "mask = (~result['TRB'].astype(str).str.startswith('C')) & (~result['TRB'].isna())\n",
    "result['TRB'][mask] = 'C' + result['TRB'][mask]\n",
    "results['CAUSHI_NATURE2021_NSCLC'] = result"
   ]
  },
  {
   "cell_type": "code",
   "execution_count": null,
   "id": "2c002263-5dec-494c-80d3-08ecb1a14d40",
   "metadata": {},
   "outputs": [],
   "source": [
    "# this is the antigen, we will want to reference it later\n",
    "# ../external_data/CAUSHI_NATURE2021_NSCLC/manafest_flufest_results.xlsx <-- also good resource\n",
    "tb1 = pd.read_excel('../external_data/CAUSHI_NATURE2021_NSCLC/si_tables.xlsx', sheet_name=5, skiprows=1, index_col=1)\n",
    "tb2 = pd.read_excel('../external_data/CAUSHI_NATURE2021_NSCLC/si_tables.xlsx', sheet_name=6, index_col=3, skiprows=1).dropna()\n",
    "ag = pd.concat([tb1, tb2], axis=1)\n",
    "cols = ['Predicted MANA sequence','WT sequence','MANA tested in culture']\n",
    "verifications = []\n",
    "for col in cols:\n",
    "    verifications.append(ag[col].astype(str).apply(verify))\n",
    "ag = ag.loc[pd.concat(verifications, axis=1).all(axis=1)]\n",
    "results_ag = {'CAUSHI_NATURE2021_NSCLC': ag}"
   ]
  },
  {
   "cell_type": "markdown",
   "id": "a922d78d-2428-4815-8968-a1fef6816227",
   "metadata": {},
   "source": [
    "### GAO_NATCOMM2022_TLGLL"
   ]
  },
  {
   "cell_type": "code",
   "execution_count": null,
   "id": "cca17034-1fbd-4c45-a104-47ca7c3d9488",
   "metadata": {},
   "outputs": [],
   "source": [
    "# derive annotation\n",
    "sample = 'GSM5171588 GSM5171589 GSM5171590 GSM5171591 GSM5171592 GSM5171593 GSM5171594 GSM5171595 GSM5171596 GSM5171597 GSM5171598 GSM5171599 GSM5171600 GSM5171601 GSM5171602 GSM5171603 GSM5171604 GSM5171605 GSM5171606 GSM5171607 GSM5171608 GSM5171609 GSM5171610 GSM5171611 GSM5171612 GSM5171613 GSM5171614 GSM5171615 GSM5171616 GSM5171617 GSM5171618 GSM5171619 GSM5171620 GSM5171621 GSM5171622 GSM5171623 GSM5171624 GSM5171625 GSM5171626 GSM5171627 GSM5171628 GSM5171629 GSM5171630 GSM5171631 GSM5171632 GSM5171633 GSM5171634 GSM5171635 GSM5171636 GSM5171637 GSM5171638 GSM5171639 GSM5171640 GSM5171641 GSM5171642 GSM5171643 GSM5171644 GSM5171645 GSM5171646 GSM5171647 GSM5171648 GSM5171649 GSM5171650 GSM5171651'.split(' ')\n",
    "tx = 'UPN24 pretreatment_geneexpression\"\t\"UPN24 posttreatment_geneexpression\"\t\"UPN10 pretreatment_geneexpression\"\t\"UPN10 posttreatment_geneexpression\"\t\"UPN19 pretreatment_geneexpression\"\t\"UPN19 posttreatment_geneexpression\"\t\"Healthydonor1_geneexpression\"\t\"Healthydonor2_geneexpression\"\t\"UPN18 pretreatment_geneexpression\"\t\"UPN18 posttreatment_geneexpression\"\t\"UPN4 pretreatment_geneexpression\"\t\"UPN4 posttreatment_geneexpression\"\t\"UPN17 pretreatment_geneexpression\"\t\"UPN17 posttreatment_geneexpression\"\t\"Healthydonor3_geneexpression\"\t\"Healthydonor4_geneexpression\"\t\"UPN1 pretreatment_geneexpression\"\t\"UPN1 posttreatment_geneexpression\"\t\"UPN12 pretreatment_geneexpression\"\t\"UPN12 posttreatment_geneexpression\"\t\"UPN8 pretreatment_geneexpression\"\t\"UPN13 pretreatment_geneexpression\"\t\"Healthydonor5_geneexpression\"\t\"Healthydonor6_geneexpression\"\t\"UPN8 posttreatment_geneexpression\"\t\"UPN13 posttreatment_geneexpression\"\t\"UPN14 pretreatment_geneexpression\"\t\"UPN14 posttreatment_geneexpression\"\t\"UPN15 pretreatment_geneexpression\"\t\"UPN15 posttreatment_geneexpression\"\t\"UPN6 pretreatment_geneexpression\"\t\"Healthydonor7_geneexpression\"\t\"UPN24 pretreatment_VDJ\"\t\"UPN24 posttreatment_VDJ\"\t\"UPN10 pretreatment_VDJ\"\t\"UPN10 posttreatment_VDJ\"\t\"UPN19 pretreatment_VDJ\"\t\"UPN19 posttreatment_VDJ\"\t\"Healthydonor1_VDJ\"\t\"Healthydonor2_VDJ\"\t\"UPN18 pretreatment_VDJ\"\t\"UPN18 posttreatment_VDJ\"\t\"UPN4 pretreatment_VDJ\"\t\"UPN4 posttreatment_VDJ\"\t\"UPN17 pretreatment_VDJ\"\t\"UPN17 posttreatment_VDJ\"\t\"Healthydonor3_VDJ\"\t\"Healthydonor4_VDJ\"\t\"UPN1 pretreatment_VDJ\"\t\"UPN1 posttreatment_VDJ\"\t\"UPN12 pretreatment_VDJ\"\t\"UPN12 posttreatment_VDJ\"\t\"UPN8 pretreatment_VDJ\"\t\"UPN13 pretreatment_VDJ\"\t\"Healthydonor5_VDJ\"\t\"Healthydonor6_VDJ\"\t\"UPN8 posttreatment_VDJ\"\t\"UPN13 posttreatment_VDJ\"\t\"UPN14 pretreatment_VDJ\"\t\"UPN14 posttreatment_VDJ\"\t\"UPN15 pretreatment_VDJ\"\t\"UPN15 posttreatment_VDJ\"\t\"UPN6 pretreatment_VDJ\"\t\"Healthydonor7_VDJ'.split('\"\t\"')\n",
    "s2t = pd.Series(tx, index=sample)"
   ]
  },
  {
   "cell_type": "code",
   "execution_count": null,
   "id": "29ad613e-1be5-49f3-89f9-cb70a39e902a",
   "metadata": {},
   "outputs": [],
   "source": [
    "# there is tx with anti-CD52, ignore SI tables not relevant\n",
    "# locate the TCR tables\n",
    "fns = glob('../external_data/GAO_NATCOMM2022_TLGLL/GSM*_filtered_contig_annotations.csv.gz')\n",
    "# process each of the TCR tables\n",
    "dfs = []\n",
    "for fn in tqdm(fns):\n",
    "    # read in the table\n",
    "    df = pd.read_csv(fn)\n",
    "    # remove any chain for which it is unknown\n",
    "    df = df.dropna(subset=['chain','cdr3'])\n",
    "    df = df.loc[df['chain'] != 'Multi']\n",
    "    # filter for cells\n",
    "    df = df.loc[df['is_cell'] & df['high_confidence']]\n",
    "    df = df.loc[df['chain'].isin(['TRA','TRB','TRD','TRG'])]\n",
    "    # remove the invalid barcodes from duplicates with low counts\n",
    "    counts_tra = df.loc[df['chain'] == 'TRA', 'barcode'].value_counts()\n",
    "    counts_trb = df.loc[df['chain'] == 'TRB', 'barcode'].value_counts()\n",
    "    counts_trd = df.loc[df['chain'] == 'TRD', 'barcode'].value_counts()\n",
    "    counts_trg = df.loc[df['chain'] == 'TRG', 'barcode'].value_counts()\n",
    "    invalid_bcs_tra = counts_tra.index[counts_tra >= 2]\n",
    "    invalid_bcs_trb = counts_trb.index[counts_trb >= 2]\n",
    "    invalid_bcs_trd = counts_trd.index[counts_trd >= 2]\n",
    "    invalid_bcs_trg = counts_trg.index[counts_trg >= 2]\n",
    "    invalid_idxs = []\n",
    "    for bc in invalid_bcs_tra:\n",
    "        # isolate the minimally expressed idxs\n",
    "        idxs = df.loc[(df['chain'] == 'TRA')&(df['barcode'] == bc), 'reads'].sort_values().index[0:-1]\n",
    "        invalid_idxs.extend(idxs.tolist())\n",
    "    for bc in invalid_bcs_trb:\n",
    "        # isolate the minimally expressed idxs\n",
    "        idxs = df.loc[(df['chain'] == 'TRB')&(df['barcode'] == bc), 'reads'].sort_values().index[0:-1]\n",
    "        invalid_idxs.extend(idxs.tolist())\n",
    "    for bc in invalid_bcs_trd:\n",
    "        # isolate the minimally expressed idxs\n",
    "        idxs = df.loc[(df['chain'] == 'TRD')&(df['barcode'] == bc), 'reads'].sort_values().index[0:-1]\n",
    "        invalid_idxs.extend(idxs.tolist())\n",
    "    for bc in invalid_bcs_trg:\n",
    "        # isolate the minimally expressed idxs\n",
    "        idxs = df.loc[(df['chain'] == 'TRG')&(df['barcode'] == bc), 'reads'].sort_values().index[0:-1]\n",
    "        invalid_idxs.extend(idxs.tolist())\n",
    "    df = df.loc[~df.index.isin(invalid_idxs)]\n",
    "    # verify there are not any barcodes that have three rows\n",
    "    counts = df[['barcode','chain']].value_counts()\n",
    "    assert counts.max() < 2\n",
    "    # assemble it up\n",
    "    df = df.pivot_table(index='barcode', columns=['chain'], values=df.columns[1:-1].tolist(), aggfunc=np.sum)\n",
    "    df.columns = [':'.join(x) for x in df.columns]\n",
    "    # add on special columns\n",
    "    gsm = fn.split('/')[-1].split('_')[0]\n",
    "    res = s2t[gsm].split('_')[0].split(' ')\n",
    "    pt = res[0]; tp = res[-1]\n",
    "    df['patient'] = pt; df['timepoint'] = tp\n",
    "    # process the non chain dependent columns\n",
    "    df[['TRA','TRB']] = df[['cdr3:TRA','cdr3:TRB']]\n",
    "    df['TcellType'] = 'T'\n",
    "    dfs.append(df)\n",
    "result = pd.concat(dfs, axis=0)"
   ]
  },
  {
   "cell_type": "code",
   "execution_count": null,
   "id": "736c5df0-878a-4bc7-8d45-4b948e93feef",
   "metadata": {},
   "outputs": [],
   "source": [
    "# verification\n",
    "va = result['TRA'].astype(str).apply(verify)\n",
    "vb = result['TRB'].astype(str).apply(verify)\n",
    "result = result.loc[va & vb]\n",
    "mask = (~result['TRA'].astype(str).str.startswith('C')) & (~result['TRA'].isna())\n",
    "result['TRA'][mask] = 'C' + result['TRA'][mask]\n",
    "mask = (~result['TRB'].astype(str).str.startswith('C')) & (~result['TRB'].isna())\n",
    "result['TRB'][mask] = 'C' + result['TRB'][mask]\n",
    "results['GAO_NATCOMM2022_TLGLL'] = result"
   ]
  },
  {
   "cell_type": "markdown",
   "id": "5626deb5-773f-482b-bd9f-cefe9fec8753",
   "metadata": {},
   "source": [
    "### GUO_NATMED2018_NSCLC"
   ]
  },
  {
   "cell_type": "code",
   "execution_count": null,
   "id": "b1f62264-910d-46dc-b74b-896033eb3682",
   "metadata": {},
   "outputs": [],
   "source": [
    "# read in the data\n",
    "df = pd.read_excel('../external_data/GUO_NATMED2018_NSCLC/TCR.xlsx')\n",
    "df = df.dropna(subset=['CDR3(Alpha1)','CDR3(Beta1)'], how='all')\n",
    "# map patient annotations\n",
    "anno = pd.read_excel('../external_data/GUO_NATMED2018_NSCLC/PT_CT.xlsx', sheet_name=1, index_col=0)\n",
    "for col in anno.columns:\n",
    "    df[col] = df['Patient'].map(anno[col])\n",
    "df[['TRA','TRB']] = df[['CDR3(Alpha1)','CDR3(Beta1)']]\n",
    "df['TcellType'] = 'T'\n",
    "result = df.copy()"
   ]
  },
  {
   "cell_type": "code",
   "execution_count": null,
   "id": "4a0fa39f-ea01-4e9d-9c82-e8c9264db1e5",
   "metadata": {},
   "outputs": [],
   "source": [
    "# verification\n",
    "va = result['TRA'].astype(str).apply(verify)\n",
    "vb = result['TRB'].astype(str).apply(verify)\n",
    "result = result.loc[va & vb]\n",
    "mask = (~result['TRA'].astype(str).str.startswith('C')) & (~result['TRA'].isna())\n",
    "result['TRA'][mask] = 'C' + result['TRA'][mask]\n",
    "mask = (~result['TRB'].astype(str).str.startswith('C')) & (~result['TRB'].isna())\n",
    "result['TRB'][mask] = 'C' + result['TRB'][mask]\n",
    "results['GUO_NATMED2018_NSCLC'] = result"
   ]
  },
  {
   "cell_type": "markdown",
   "id": "9db19c54-ab03-497d-add2-51e4513f6899",
   "metadata": {},
   "source": [
    "### HUANG_NATBIOT2020_MTUB"
   ]
  },
  {
   "cell_type": "code",
   "execution_count": null,
   "id": "3e8e2bc7-0f8b-4509-b4bc-94addb2bf50a",
   "metadata": {},
   "outputs": [],
   "source": [
    "# add on the mycobacterium tuberculosis access\n",
    "df = pd.read_excel('../external_data/HUANG_NATBIOT2020_MTUB/TCR.xlsx')\n",
    "df['TRB'] = df['CDR3beta']\n",
    "df['TcellType'] = 'CD4'\n",
    "result = df.copy()"
   ]
  },
  {
   "cell_type": "code",
   "execution_count": null,
   "id": "ff5fe5bd-2729-48b4-a335-8e806607d89a",
   "metadata": {},
   "outputs": [],
   "source": [
    "# verification\n",
    "# va = result['TRA'].astype(str).apply(verify)\n",
    "vb = result['TRB'].astype(str).apply(verify)\n",
    "# result = result.loc[va & vb]\n",
    "result = result.loc[vb]\n",
    "# mask = (~result['TRA'].astype(str).str.startswith('C')) & (~result['TRA'].isna())\n",
    "# result['TRA'][mask] = 'C' + result['TRA'][mask]\n",
    "mask = (~result['TRB'].astype(str).str.startswith('C')) & (~result['TRB'].isna())\n",
    "result['TRB'][mask] = 'C' + result['TRB'][mask]\n",
    "results['HUANG_NATBIOT2020_MTUB'] = result"
   ]
  },
  {
   "cell_type": "markdown",
   "id": "113d4fb7-2969-4040-9ac5-6d2c339f41c5",
   "metadata": {},
   "source": [
    "### LI_CELL2018_MELA"
   ]
  },
  {
   "cell_type": "code",
   "execution_count": null,
   "id": "e6b9ff87-8ec9-42ee-8a22-2679ad9614ee",
   "metadata": {},
   "outputs": [],
   "source": [
    "# these are TCR beta sequences, we utilize the first\n",
    "df = pd.read_table('../external_data/LI_CELL2018_MELA/GSE123139_T_cells_tcrb_v2.txt.gz')\n",
    "df['TRB'] = df['CDR3_translation_first']\n",
    "df = df.dropna(subset=['TRB'])\n",
    "df['TcellType'] = 'T'\n",
    "result = df.copy()"
   ]
  },
  {
   "cell_type": "code",
   "execution_count": null,
   "id": "3d884a8c-78e5-41b9-bbe7-4529612c5052",
   "metadata": {},
   "outputs": [],
   "source": [
    "# verification\n",
    "# va = result['TRA'].astype(str).apply(verify)\n",
    "vb = result['TRB'].astype(str).apply(verify)\n",
    "# result = result.loc[va & vb]\n",
    "result = result.loc[vb]\n",
    "# mask = (~result['TRA'].astype(str).str.startswith('C')) & (~result['TRA'].isna())\n",
    "# result['TRA'][mask] = 'C' + result['TRA'][mask]\n",
    "mask = (~result['TRB'].astype(str).str.startswith('C')) & (~result['TRB'].isna())\n",
    "result['TRB'][mask] = 'C' + result['TRB'][mask]\n",
    "results['LI_CELL2018_MELA'] = result"
   ]
  },
  {
   "cell_type": "markdown",
   "id": "0ab63516-e6bc-47bd-a200-05e94685bd91",
   "metadata": {},
   "source": [
    "### LIU_NATCAN2022_NSCLC"
   ]
  },
  {
   "cell_type": "code",
   "execution_count": null,
   "id": "c89413f8-3941-440c-bb51-6cc9147fae50",
   "metadata": {},
   "outputs": [],
   "source": [
    "# read in the single cell NSCLC data\n",
    "df = pd.read_table('../external_data/LIU_NATCAN2022_NSCLC/GSE179994_all.scTCR.tsv.gz')\n",
    "df[['TRA','TRB']] = df[['CDR3(Alpha1)','CDR3(Beta1)']]\n",
    "df['TcellType'] = 'T'\n",
    "result = df.copy()"
   ]
  },
  {
   "cell_type": "code",
   "execution_count": null,
   "id": "a685ec54-ac43-4f6d-93b1-d434d66d4ac0",
   "metadata": {},
   "outputs": [],
   "source": [
    "# verification\n",
    "va = result['TRA'].astype(str).apply(verify)\n",
    "vb = result['TRB'].astype(str).apply(verify)\n",
    "result = result.loc[va & vb]\n",
    "mask = (~result['TRA'].astype(str).str.startswith('C')) & (~result['TRA'].isna())\n",
    "result['TRA'][mask] = 'C' + result['TRA'][mask]\n",
    "mask = (~result['TRB'].astype(str).str.startswith('C')) & (~result['TRB'].isna())\n",
    "result['TRB'][mask] = 'C' + result['TRB'][mask]\n",
    "results['LIU_NATCAN2022_NSCLC'] = result"
   ]
  },
  {
   "cell_type": "markdown",
   "id": "a1d9930a-e9b8-4b85-804c-d1c5568855f2",
   "metadata": {},
   "source": [
    "### MILLER_SCITRANSMED2024_PANCAN"
   ]
  },
  {
   "cell_type": "code",
   "execution_count": null,
   "id": "934863ce-7359-4826-8985-09985445a247",
   "metadata": {},
   "outputs": [],
   "source": [
    "# antigens to be utilized later on\n",
    "tb1 = pd.read_excel('../external_data/MILLER_SCITRANSMED2024_PANCAN/AG_ALL.xlsx')\n",
    "tb2 = pd.read_excel('../external_data/MILLER_SCITRANSMED2024_PANCAN/AG_PDAC.xlsx')\n",
    "ag = pd.concat([tb1, tb2], axis=0)\n",
    "cols = ['mut peptide','ref peptide']\n",
    "verifications = []\n",
    "for col in cols:\n",
    "    verifications.append(ag[col].astype(str).apply(verify))\n",
    "ag = ag.loc[pd.concat(verifications, axis=1).all(axis=1)]\n",
    "results_ag['MILLER_SCITRANSMED2024_PANCAN'] = ag"
   ]
  },
  {
   "cell_type": "markdown",
   "id": "0b88d6c7-6288-4ea5-8aa4-9bb447b5ed1b",
   "metadata": {},
   "source": [
    "### MINOWA_SCITRANSMED2024_MELA"
   ]
  },
  {
   "cell_type": "code",
   "execution_count": null,
   "id": "921c2b9e-f6a2-4d31-aec9-e0b6cdcbd08a",
   "metadata": {},
   "outputs": [],
   "source": [
    "# read in the patient characteristics for annotation\n",
    "anno = pd.read_excel('../external_data/MINOWA_SCITRANSMED2024_MELA/PT_CT.xlsx')\n",
    "for col in anno.columns:\n",
    "    anno[col] = anno[col].astype(str).str.replace('\\n',' ')\n",
    "    anno[col][anno[col] == 'nan'] = np.nan"
   ]
  },
  {
   "cell_type": "code",
   "execution_count": null,
   "id": "e9b2770d-0b8f-4c9d-a4ee-6bad9fc6ef0c",
   "metadata": {},
   "outputs": [],
   "source": [
    "from tqdm import tqdm\n",
    "from glob import glob\n",
    "# read in the filtered data\n",
    "fns = glob('../external_data/MINOWA_SCITRANSMED2024_MELA/*filtered_contig_annotations.csv.gz')\n",
    "dfs = []\n",
    "for fn in tqdm(fns):\n",
    "    # read in the table\n",
    "    df = pd.read_csv(fn)\n",
    "    # remove any chain for which it is unknown\n",
    "    df = df.dropna(subset=['chain','cdr3'])\n",
    "    df = df.loc[df['chain'] != 'Multi']\n",
    "    # filter for cells\n",
    "    df = df.loc[df['is_cell'] & df['high_confidence']]\n",
    "    df = df.loc[df['chain'].isin(['TRA','TRB','TRD','TRG'])]\n",
    "    # remove the invalid barcodes from duplicates with low counts\n",
    "    counts_tra = df.loc[df['chain'] == 'TRA', 'barcode'].value_counts()\n",
    "    counts_trb = df.loc[df['chain'] == 'TRB', 'barcode'].value_counts()\n",
    "    counts_trd = df.loc[df['chain'] == 'TRD', 'barcode'].value_counts()\n",
    "    counts_trg = df.loc[df['chain'] == 'TRG', 'barcode'].value_counts()\n",
    "    invalid_bcs_tra = counts_tra.index[counts_tra >= 2]\n",
    "    invalid_bcs_trb = counts_trb.index[counts_trb >= 2]\n",
    "    invalid_bcs_trd = counts_trd.index[counts_trd >= 2]\n",
    "    invalid_bcs_trg = counts_trg.index[counts_trg >= 2]\n",
    "    invalid_idxs = []\n",
    "    for bc in invalid_bcs_tra:\n",
    "        # isolate the minimally expressed idxs\n",
    "        idxs = df.loc[(df['chain'] == 'TRA')&(df['barcode'] == bc), 'reads'].sort_values().index[0:-1]\n",
    "        invalid_idxs.extend(idxs.tolist())\n",
    "    for bc in invalid_bcs_trb:\n",
    "        # isolate the minimally expressed idxs\n",
    "        idxs = df.loc[(df['chain'] == 'TRB')&(df['barcode'] == bc), 'reads'].sort_values().index[0:-1]\n",
    "        invalid_idxs.extend(idxs.tolist())\n",
    "    for bc in invalid_bcs_trd:\n",
    "        # isolate the minimally expressed idxs\n",
    "        idxs = df.loc[(df['chain'] == 'TRD')&(df['barcode'] == bc), 'reads'].sort_values().index[0:-1]\n",
    "        invalid_idxs.extend(idxs.tolist())\n",
    "    for bc in invalid_bcs_trg:\n",
    "        # isolate the minimally expressed idxs\n",
    "        idxs = df.loc[(df['chain'] == 'TRG')&(df['barcode'] == bc), 'reads'].sort_values().index[0:-1]\n",
    "        invalid_idxs.extend(idxs.tolist())\n",
    "    df = df.loc[~df.index.isin(invalid_idxs)]\n",
    "    # verify there are not any barcodes that have three rows\n",
    "    counts = df[['barcode','chain']].value_counts()\n",
    "    assert counts.max() < 2\n",
    "    # assemble it up\n",
    "    df = df.pivot_table(index='barcode', columns=['chain'], values=df.columns[1:-1].tolist(), aggfunc=np.sum)\n",
    "    df.columns = [':'.join(x) for x in df.columns]\n",
    "    # add on special columns\n",
    "    pt, tissue_of_origin = fn.split('/')[-1].split('_')[2:4]\n",
    "    df['patient'] = pt; df['tissue'] = tissue_of_origin\n",
    "    # process the non chain dependent columns\n",
    "    df[['TRA','TRB']] = df[['cdr3:TRA','cdr3:TRB']]\n",
    "    df['TcellType'] = 'T'\n",
    "    dfs.append(df)\n",
    "result = pd.concat(dfs, axis=0)"
   ]
  },
  {
   "cell_type": "code",
   "execution_count": null,
   "id": "74f1c3a0-00e7-4f19-a982-82d16890e8e8",
   "metadata": {},
   "outputs": [],
   "source": [
    "# verification\n",
    "va = result['TRA'].astype(str).apply(verify)\n",
    "vb = result['TRB'].astype(str).apply(verify)\n",
    "result = result.loc[va & vb]\n",
    "mask = (~result['TRA'].astype(str).str.startswith('C')) & (~result['TRA'].isna())\n",
    "result['TRA'][mask] = 'C' + result['TRA'][mask]\n",
    "mask = (~result['TRB'].astype(str).str.startswith('C')) & (~result['TRB'].isna())\n",
    "result['TRB'][mask] = 'C' + result['TRB'][mask]\n",
    "results['MINOWA_SCITRANSMED2024_MELA'] = result"
   ]
  },
  {
   "cell_type": "markdown",
   "id": "e55c0436-82ea-4db5-9f29-907ee57e5095",
   "metadata": {},
   "source": [
    "### NAULAERTS_SCITRANSMED2023_GBM"
   ]
  },
  {
   "cell_type": "code",
   "execution_count": null,
   "id": "605a28ec-e822-4481-9dc6-18f206ca5927",
   "metadata": {},
   "outputs": [],
   "source": [
    "# read in pancan data\n",
    "result = sc.read_h5ad('../external_data/NAULAERTS_SCITRANSMED2023_GBM/TCRobject.h5ad').obs\n",
    "result[['TRA','TRB']] = result[['IR_VJ_1_junction_aa','IR_VDJ_1_junction_aa']].astype(str)\n",
    "result['TcellType'] = 'T'"
   ]
  },
  {
   "cell_type": "code",
   "execution_count": null,
   "id": "00c39475-0176-409e-b206-75a31dd0b6fb",
   "metadata": {},
   "outputs": [],
   "source": [
    "# verification\n",
    "va = result['TRA'].astype(str).apply(verify)\n",
    "vb = result['TRB'].astype(str).apply(verify)\n",
    "result = result.loc[va & vb]\n",
    "mask = (~result['TRA'].astype(str).str.startswith('C')) & (~result['TRA'].isna())\n",
    "result['TRA'][mask] = 'C' + result['TRA'][mask].astype(str)\n",
    "mask = (~result['TRB'].astype(str).str.startswith('C')) & (~result['TRB'].isna())\n",
    "result['TRB'][mask] = 'C' + result['TRB'][mask].astype(str)\n",
    "results['NAULAERTS_SCITRANSMED2023_GBM'] = result"
   ]
  },
  {
   "cell_type": "markdown",
   "id": "317c90cb-f193-4965-aa6c-2437809cc8f6",
   "metadata": {},
   "source": [
    "### ROJAS_NATURE2023_PDAC"
   ]
  },
  {
   "cell_type": "code",
   "execution_count": null,
   "id": "c207657f-1797-4eff-b48d-4c52fa2b1826",
   "metadata": {},
   "outputs": [],
   "source": [
    "# read in the AGs for PDAC\n",
    "tb1 = pd.read_excel('../external_data/ROJAS_NATURE2023_PDAC/AG.xlsx')\n",
    "ag = tb1\n",
    "cols = ['Mutant Neoantigen Sequence', 'WT Neoantigen Sequence', 'MHC-I Mutant Epitope (Best Prediction)', 'MHC-I WT Epitope', 'MHC-II Mutant Epitope (Best Prediction)', 'MHC-II WT Epitope']\n",
    "verifications = []\n",
    "for col in cols:\n",
    "    verifications.append(ag[col].astype(str).apply(verify))\n",
    "ag = ag.loc[pd.concat(verifications, axis=1).all(axis=1)]\n",
    "results_ag['ROJAS_NATURE2023_PDAC'] = ag"
   ]
  },
  {
   "cell_type": "code",
   "execution_count": null,
   "id": "4f394d29-7de0-4821-babc-743080136144",
   "metadata": {},
   "outputs": [],
   "source": [
    "# read in the data\n",
    "fns = glob('../external_data/ROJAS_NATURE2023_PDAC/GSM*_filtered_contig_annotations.csv.gz')\n",
    "dfs = []\n",
    "for fn in tqdm(fns):\n",
    "    # read in the table\n",
    "    df = pd.read_csv(fn)\n",
    "    # remove any chain for which it is unknown\n",
    "    df = df.dropna(subset=['chain','cdr3'])\n",
    "    df = df.loc[df['chain'] != 'Multi']\n",
    "    # filter for cells\n",
    "    df = df.loc[df['is_cell'] & df['high_confidence']]\n",
    "    df = df.loc[df['chain'].isin(['TRA','TRB','TRD','TRG'])]\n",
    "    # remove the invalid barcodes from duplicates with low counts\n",
    "    counts_tra = df.loc[df['chain'] == 'TRA', 'barcode'].value_counts()\n",
    "    counts_trb = df.loc[df['chain'] == 'TRB', 'barcode'].value_counts()\n",
    "    counts_trd = df.loc[df['chain'] == 'TRD', 'barcode'].value_counts()\n",
    "    counts_trg = df.loc[df['chain'] == 'TRG', 'barcode'].value_counts()\n",
    "    invalid_bcs_tra = counts_tra.index[counts_tra >= 2]\n",
    "    invalid_bcs_trb = counts_trb.index[counts_trb >= 2]\n",
    "    invalid_bcs_trd = counts_trd.index[counts_trd >= 2]\n",
    "    invalid_bcs_trg = counts_trg.index[counts_trg >= 2]\n",
    "    invalid_idxs = []\n",
    "    for bc in invalid_bcs_tra:\n",
    "        # isolate the minimally expressed idxs\n",
    "        idxs = df.loc[(df['chain'] == 'TRA')&(df['barcode'] == bc), 'reads'].sort_values().index[0:-1]\n",
    "        invalid_idxs.extend(idxs.tolist())\n",
    "    for bc in invalid_bcs_trb:\n",
    "        # isolate the minimally expressed idxs\n",
    "        idxs = df.loc[(df['chain'] == 'TRB')&(df['barcode'] == bc), 'reads'].sort_values().index[0:-1]\n",
    "        invalid_idxs.extend(idxs.tolist())\n",
    "    for bc in invalid_bcs_trd:\n",
    "        # isolate the minimally expressed idxs\n",
    "        idxs = df.loc[(df['chain'] == 'TRD')&(df['barcode'] == bc), 'reads'].sort_values().index[0:-1]\n",
    "        invalid_idxs.extend(idxs.tolist())\n",
    "    for bc in invalid_bcs_trg:\n",
    "        # isolate the minimally expressed idxs\n",
    "        idxs = df.loc[(df['chain'] == 'TRG')&(df['barcode'] == bc), 'reads'].sort_values().index[0:-1]\n",
    "        invalid_idxs.extend(idxs.tolist())\n",
    "    df = df.loc[~df.index.isin(invalid_idxs)]\n",
    "    # verify there are not any barcodes that have three rows\n",
    "    counts = df[['barcode','chain']].value_counts()\n",
    "    assert counts.max() < 2\n",
    "    # assemble it up\n",
    "    df = df.pivot_table(index='barcode', columns=['chain'], values=df.columns[1:-1].tolist(), aggfunc=np.sum)\n",
    "    df.columns = [':'.join(x) for x in df.columns]\n",
    "    # add on special columns\n",
    "    pt, tp = fn.split('_TCR_filtered_contig_annotations.csv.gz')[0].split('/')[-1].split('_')[1:]\n",
    "    df['patient'] = pt; df['timepoint'] = tp\n",
    "    # process the non chain dependent columns\n",
    "    df[['TRA','TRB']] = df[['cdr3:TRA','cdr3:TRB']]\n",
    "    df['TcellType'] = 'T'\n",
    "    dfs.append(df)\n",
    "result = pd.concat(dfs, axis=0)"
   ]
  },
  {
   "cell_type": "code",
   "execution_count": null,
   "id": "018fc6de-d84b-4adf-9fb2-7567c7c47224",
   "metadata": {
    "scrolled": true
   },
   "outputs": [],
   "source": [
    "# verification\n",
    "va = result['TRA'].astype(str).apply(verify)\n",
    "vb = result['TRB'].astype(str).apply(verify)\n",
    "result = result.loc[va & vb]\n",
    "mask = (~result['TRA'].astype(str).str.startswith('C')) & (~result['TRA'].isna())\n",
    "result['TRA'][mask] = 'C' + result['TRA'][mask]\n",
    "mask = (~result['TRB'].astype(str).str.startswith('C')) & (~result['TRB'].isna())\n",
    "result['TRB'][mask] = 'C' + result['TRB'][mask]\n",
    "results['ROJAS_NATURE2023_PDAC'] = result"
   ]
  },
  {
   "cell_type": "markdown",
   "id": "303fb7b3-a85f-4282-9592-75753f6058c0",
   "metadata": {},
   "source": [
    "### SALUZZO_IMMUNITY2021_HIV"
   ]
  },
  {
   "cell_type": "code",
   "execution_count": null,
   "id": "339ba104-278d-4f78-8214-f872b1c72b8e",
   "metadata": {
    "scrolled": true
   },
   "outputs": [],
   "source": [
    "# process HIV ART dataset\n",
    "fns = glob('../external_data/SALUZZO_IMMUNITY2021_HIV/SSHIV*_transcriptome/QC_categories.csv')\n",
    "dfs = []\n",
    "for fn in tqdm(fns):\n",
    "    # read in both tables\n",
    "    fn_tcr = fn.replace('_transcriptome/QC_categories.csv','_VDJ/filtered_contig_annotations.csv')\n",
    "    df = pd.read_csv(fn_tcr)\n",
    "    anno = pd.read_csv(fn)\n",
    "    # only keep valid samples\n",
    "    anno = anno.loc[anno['hto_demux'].isin(['HTO-skin','HTO-blood'])&anno['pass_QC']]\n",
    "    df = df.loc[df['barcode'].isin(anno['barcode'])]\n",
    "    anno = anno.set_index('barcode')['sample']\n",
    "    # remove any chain for which it is unknown\n",
    "    df = df.dropna(subset=['chain','cdr3'])\n",
    "    df = df.loc[df['chain'] != 'Multi']\n",
    "    # filter for cells\n",
    "    df = df.loc[df['is_cell'] & df['high_confidence']]\n",
    "    df = df.loc[df['chain'].isin(['TRA','TRB','TRD','TRG'])]\n",
    "    # remove the invalid barcodes from duplicates with low counts\n",
    "    counts_tra = df.loc[df['chain'] == 'TRA', 'barcode'].value_counts()\n",
    "    counts_trb = df.loc[df['chain'] == 'TRB', 'barcode'].value_counts()\n",
    "    counts_trd = df.loc[df['chain'] == 'TRD', 'barcode'].value_counts()\n",
    "    counts_trg = df.loc[df['chain'] == 'TRG', 'barcode'].value_counts()\n",
    "    invalid_bcs_tra = counts_tra.index[counts_tra >= 2]\n",
    "    invalid_bcs_trb = counts_trb.index[counts_trb >= 2]\n",
    "    invalid_bcs_trd = counts_trd.index[counts_trd >= 2]\n",
    "    invalid_bcs_trg = counts_trg.index[counts_trg >= 2]\n",
    "    invalid_idxs = []\n",
    "    for bc in invalid_bcs_tra:\n",
    "        # isolate the minimally expressed idxs\n",
    "        idxs = df.loc[(df['chain'] == 'TRA')&(df['barcode'] == bc), 'reads'].sort_values().index[0:-1]\n",
    "        invalid_idxs.extend(idxs.tolist())\n",
    "    for bc in invalid_bcs_trb:\n",
    "        # isolate the minimally expressed idxs\n",
    "        idxs = df.loc[(df['chain'] == 'TRB')&(df['barcode'] == bc), 'reads'].sort_values().index[0:-1]\n",
    "        invalid_idxs.extend(idxs.tolist())\n",
    "    for bc in invalid_bcs_trd:\n",
    "        # isolate the minimally expressed idxs\n",
    "        idxs = df.loc[(df['chain'] == 'TRD')&(df['barcode'] == bc), 'reads'].sort_values().index[0:-1]\n",
    "        invalid_idxs.extend(idxs.tolist())\n",
    "    for bc in invalid_bcs_trg:\n",
    "        # isolate the minimally expressed idxs\n",
    "        idxs = df.loc[(df['chain'] == 'TRG')&(df['barcode'] == bc), 'reads'].sort_values().index[0:-1]\n",
    "        invalid_idxs.extend(idxs.tolist())\n",
    "    df = df.loc[~df.index.isin(invalid_idxs)]\n",
    "    # verify there are not any barcodes that have three rows\n",
    "    counts = df[['barcode','chain']].value_counts()\n",
    "    assert counts.max() < 2\n",
    "    # assemble it up\n",
    "    df = df.pivot_table(index='barcode', columns=['chain'], values=df.columns[1:-1].tolist(), aggfunc=np.sum)\n",
    "    df.columns = [':'.join(x) for x in df.columns]\n",
    "    # add on special columns\n",
    "    df['sample'] = df.index.map(anno)\n",
    "    # process the non chain dependent columns\n",
    "    df[['TRA','TRB']] = df[['cdr3:TRA','cdr3:TRB']]\n",
    "    df['TcellType'] = 'T'\n",
    "    dfs.append(df)\n",
    "result = pd.concat(dfs, axis=0)\n",
    "result[['cohort','patient','tissue']] = result['sample'].str.split('_', expand=True)"
   ]
  },
  {
   "cell_type": "code",
   "execution_count": null,
   "id": "b0dadb6a-c32c-4cab-8606-58f326ed962d",
   "metadata": {},
   "outputs": [],
   "source": [
    "# verification\n",
    "va = result['TRA'].astype(str).apply(verify)\n",
    "vb = result['TRB'].astype(str).apply(verify)\n",
    "result = result.loc[va & vb]\n",
    "mask = (~result['TRA'].astype(str).str.startswith('C')) & (~result['TRA'].isna())\n",
    "result['TRA'][mask] = 'C' + result['TRA'][mask]\n",
    "mask = (~result['TRB'].astype(str).str.startswith('C')) & (~result['TRB'].isna())\n",
    "result['TRB'][mask] = 'C' + result['TRB'][mask]\n",
    "results['SALUZZO_IMMUNITY2021_HIV'] = result"
   ]
  },
  {
   "cell_type": "markdown",
   "id": "d52fbc16-64e0-4fa7-8999-b242894b39b6",
   "metadata": {},
   "source": [
    "### SCHMIDT_NATCOMM2023_PANCAN"
   ]
  },
  {
   "cell_type": "code",
   "execution_count": null,
   "id": "1262f1ca-4bed-4133-935f-2ecd01d07177",
   "metadata": {
    "scrolled": true
   },
   "outputs": [],
   "source": [
    "# read in the peripheral blood vs. tumor frequency\n",
    "df = pd.read_excel('../external_data/SCHMIDT_NATCOMM2023_PANCAN/TRA_PBL_TIL_SI.xlsx')\n",
    "df[['TRAV','TRA','TRAJ']] = df.iloc[:, 0].str.slice(1).str.split('_', expand=True)\n",
    "df['TRAJ'] = df['TRAJ'].str.slice(1)\n",
    "df['source'] = 'SI'\n",
    "dfs = [df]\n",
    "# read in the main version\n",
    "df = pd.read_excel('../external_data/SCHMIDT_NATCOMM2023_PANCAN/TRA_PBL_TIL.xlsx')\n",
    "df[['TRAV','TRA','TRAJ']] = df.iloc[:, 0].str.slice(1).str.split('_', expand=True)\n",
    "df['TRAJ'] = df['TRAJ'].str.slice(1)\n",
    "df['source'] = 'MAIN'\n",
    "dfs.append(df)\n",
    "# add on the avidity model data\n",
    "df = pd.read_excel('../external_data/SCHMIDT_NATCOMM2023_PANCAN/TRB_MELA.xlsx')\n",
    "df[['TRA','TRB']] = df[['CDR3a','CDR3b']]\n",
    "df['source'] = 'MODEL'\n",
    "dfs.append(df)\n",
    "result = pd.concat(dfs, axis=0)\n",
    "result['TcellType'] = 'T'"
   ]
  },
  {
   "cell_type": "code",
   "execution_count": null,
   "id": "70796cee-fe82-4e84-8230-8112133bbd2e",
   "metadata": {},
   "outputs": [],
   "source": [
    "# verification\n",
    "va = result['TRA'].astype(str).apply(verify)\n",
    "vb = result['TRB'].astype(str).apply(verify)\n",
    "result = result.loc[va & vb]\n",
    "mask = (~result['TRA'].astype(str).str.startswith('C')) & (~result['TRA'].isna())\n",
    "result['TRA'][mask] = 'C' + result['TRA'][mask]\n",
    "mask = (~result['TRB'].astype(str).str.startswith('C')) & (~result['TRB'].isna())\n",
    "result['TRB'][mask] = 'C' + result['TRB'][mask]\n",
    "results['SCHMIDT_NATCOMM2023_PANCAN'] = result"
   ]
  },
  {
   "cell_type": "markdown",
   "id": "087e6039-8871-4a92-8c6b-68f743408e6b",
   "metadata": {},
   "source": [
    "### SUO_SCIENCE2022_FETAL"
   ]
  },
  {
   "cell_type": "code",
   "execution_count": null,
   "id": "9c2231c1-4809-4c71-838a-6bab3d02059c",
   "metadata": {
    "scrolled": true,
    "tags": []
   },
   "outputs": [],
   "source": [
    "# read in the fetal data yay!!!\n",
    "result = sc.read_h5ad('../external_data/SUO_SCIENCE2022_FETAL/PAN.A01.v01.raw_count.20210429.NKT.embedding.abTCR.h5ad')\n",
    "result = result.obs.loc[result.obs['predicted_doublets'] == 'False']\n",
    "for col in result.columns:\n",
    "    result[col][result[col] == 'nan'] = np.nan\n",
    "    result[col][result[col] == 'None'] = np.nan\n",
    "result = result.dropna(subset=['IR_VJ_1_cdr3','IR_VDJ_1_cdr3'], how='all')\n",
    "result[['TRA','TRB']] = result[['IR_VJ_1_cdr3','IR_VDJ_1_cdr3']]\n",
    "result = result.loc[~result['celltype_annotation'].isin(['DOUBLET','HIGH_MITO','PRE_PRO_B','CYCLING_MEMP','CMP','DOUBLET_ERY_B','LOW_Q_INCONSISTENT'])]\n",
    "result['TcellType'] = 'T'\n",
    "result.loc[result['celltype_annotation'].isin(['CD4+T','TREG']), 'TcellType'] = 'CD4'\n",
    "result.loc[result['celltype_annotation'].isin(['CD8+T']), 'TcellType'] = 'CD8'"
   ]
  },
  {
   "cell_type": "code",
   "execution_count": null,
   "id": "e991a8f1-95a8-4e20-aa08-21c06e10b30f",
   "metadata": {},
   "outputs": [],
   "source": [
    "# verification\n",
    "va = result['TRA'].astype(str).apply(verify)\n",
    "vb = result['TRB'].astype(str).apply(verify)\n",
    "result = result.loc[va & vb]\n",
    "mask = (~result['TRA'].astype(str).str.startswith('C')) & (~result['TRA'].isna())\n",
    "result['TRA'][mask] = 'C' + result['TRA'][mask].astype(str)\n",
    "mask = (~result['TRB'].astype(str).str.startswith('C')) & (~result['TRB'].isna())\n",
    "result['TRB'][mask] = 'C' + result['TRB'][mask].astype(str)\n",
    "results['SUO_SCIENCE2022_FETAL'] = result"
   ]
  },
  {
   "cell_type": "markdown",
   "id": "42ca7aaf-3d1f-4b32-9306-b6ea5ff57c33",
   "metadata": {},
   "source": [
    "### YOST_NATMED2019_BSCC"
   ]
  },
  {
   "cell_type": "code",
   "execution_count": null,
   "id": "2d54ac2f-9680-48a0-af5b-a33ce5aa0d5b",
   "metadata": {},
   "outputs": [],
   "source": [
    "# read in the data\n",
    "meta = pd.read_table('../external_data/YOST_NATMED2019_BSCC/GSE123813_bcc_all_metadata.txt.gz', index_col=0)\n",
    "df = pd.read_table('../external_data/YOST_NATMED2019_BSCC/GSE123813_bcc_tcr.txt.gz', index_col=0)\n",
    "df[['TRA','TRB']] = np.nan\n",
    "for idx in tqdm(df.index):\n",
    "    tcr = df.loc[idx, 'cdr3s_aa'].split(';')\n",
    "    for el in tcr:\n",
    "        if el.startswith('TRA'):\n",
    "            df.loc[idx, 'TRA'] = el[4:]\n",
    "        elif el.startswith('TRB'):\n",
    "            df.loc[idx, 'TRB'] = el[4:]\n",
    "for col in meta.columns:\n",
    "    df[col] = df.index.map(meta[col])\n",
    "df['cancer'] = 'BCC'\n",
    "dfs = [df]\n",
    "# repeat for SCC\n",
    "meta = pd.read_table('../external_data/YOST_NATMED2019_BSCC/GSE123813_scc_metadata.txt.gz', index_col=0)\n",
    "df = pd.read_table('../external_data/YOST_NATMED2019_BSCC/GSE123813_scc_tcr.txt.gz', index_col=0)\n",
    "df[['TRA','TRB']] = np.nan\n",
    "for idx in tqdm(df.index):\n",
    "    tcr = df.loc[idx, 'cdr3s_aa'].split(';')\n",
    "    for el in tcr:\n",
    "        if el.startswith('TRA'):\n",
    "            df.loc[idx, 'TRA'] = el[4:]\n",
    "        elif el.startswith('TRB'):\n",
    "            df.loc[idx, 'TRB'] = el[4:]\n",
    "for col in meta.columns:\n",
    "    df[col] = df.index.map(meta[col])\n",
    "df['cancer'] = 'SCC'\n",
    "dfs.append(df)\n",
    "result = pd.concat(dfs, axis=0)\n",
    "result['TcellType'] = 'T'"
   ]
  },
  {
   "cell_type": "code",
   "execution_count": null,
   "id": "ef4e01da-b7b2-4b9b-896c-86bdf869fd39",
   "metadata": {},
   "outputs": [],
   "source": [
    "# verification\n",
    "va = result['TRA'].astype(str).apply(verify)\n",
    "vb = result['TRB'].astype(str).apply(verify)\n",
    "result = result.loc[va & vb]\n",
    "mask = (~result['TRA'].astype(str).str.startswith('C')) & (~result['TRA'].isna())\n",
    "result['TRA'][mask] = 'C' + result['TRA'][mask].astype(str)\n",
    "mask = (~result['TRB'].astype(str).str.startswith('C')) & (~result['TRB'].isna())\n",
    "result['TRB'][mask] = 'C' + result['TRB'][mask].astype(str)\n",
    "results['YOST_NATMED2019_BSCC'] = result"
   ]
  },
  {
   "cell_type": "markdown",
   "id": "489f5e4e-fed2-4af2-b824-81bb2b535dd1",
   "metadata": {},
   "source": [
    "### COVID-19 Atlas"
   ]
  },
  {
   "cell_type": "code",
   "execution_count": null,
   "id": "e2a6b444-779f-49ef-bffb-a68dd5cb35b1",
   "metadata": {},
   "outputs": [],
   "source": [
    "# ! these sequences were not included in model training\n",
    "# due to hyperfitting issues, but all sequences were utilized for inference\n",
    "# verification\n",
    "vocab = ['A','C','D','E','F','G','H','I','K','L','M','N','P','Q','R','S','T','V','W','Y']\n",
    "def verify(x):\n",
    "    if str(x) == 'nan': return True\n",
    "    return sum([x.count(aa) for aa in vocab]) == len(x)"
   ]
  },
  {
   "cell_type": "code",
   "execution_count": null,
   "id": "9fff387a-c8be-4d6f-bed3-97fcd6171ee0",
   "metadata": {},
   "outputs": [],
   "source": [
    "# read in the COVID-19 dataset information\n",
    "a = sc.read_h5ad('/home/dchen2/dchen2/COVID_ISB_STORAGE/upto_v16_P_GE_int_tcr_cd8_t_cells.h5ad')\n",
    "# read in the incov data\n",
    "result = a.obs.copy()\n",
    "for col in result.columns:\n",
    "    result[col][result[col] == 'nan'] = np.nan\n",
    "    result[col][result[col] == 'None'] = np.nan\n",
    "result = result.dropna(subset=['IR_VJ_1_junction_aa','IR_VDJ_1_junction_aa'], how='all')\n",
    "result[['TRA','TRB']] = result[['IR_VJ_1_junction_aa','IR_VDJ_1_junction_aa']]\n",
    "result['TcellType'] = 'CD8'\n",
    "# verification\n",
    "va = result['TRA'].astype(str).apply(verify)\n",
    "vb = result['TRB'].astype(str).apply(verify)\n",
    "result = result.loc[va & vb]\n",
    "mask = (~result['TRA'].astype(str).str.startswith('C')) & (~result['TRA'].isna())\n",
    "result['TRA'][mask] = 'C' + result['TRA'][mask].astype(str)\n",
    "mask = (~result['TRB'].astype(str).str.startswith('C')) & (~result['TRB'].isna())\n",
    "result['TRB'][mask] = 'C' + result['TRB'][mask].astype(str)\n",
    "result_cd8 = result.copy()"
   ]
  },
  {
   "cell_type": "code",
   "execution_count": null,
   "id": "e605725c-7057-49a4-a25f-371097b201a3",
   "metadata": {
    "tags": []
   },
   "outputs": [],
   "source": [
    "# read in the COVID-19 dataset information\n",
    "a = sc.read_h5ad('/home/dchen2/dchen2/COVID_ISB_STORAGE/upto_v16_P_GE_int_tcr_cd4_t_cells.h5ad')\n",
    "# read in the incov data\n",
    "result = a.obs.copy()\n",
    "for col in result.columns:\n",
    "    result[col][result[col] == 'nan'] = np.nan\n",
    "    result[col][result[col] == 'None'] = np.nan\n",
    "result = result.dropna(subset=['IR_VJ_1_junction_aa','IR_VDJ_1_junction_aa'], how='all')\n",
    "result[['TRA','TRB']] = result[['IR_VJ_1_junction_aa','IR_VDJ_1_junction_aa']]\n",
    "result['TcellType'] = 'CD4'\n",
    "# verification\n",
    "va = result['TRA'].astype(str).apply(verify)\n",
    "vb = result['TRB'].astype(str).apply(verify)\n",
    "result = result.loc[va & vb]\n",
    "mask = (~result['TRA'].astype(str).str.startswith('C')) & (~result['TRA'].isna())\n",
    "result['TRA'][mask] = 'C' + result['TRA'][mask].astype(str)\n",
    "mask = (~result['TRB'].astype(str).str.startswith('C')) & (~result['TRB'].isna())\n",
    "result['TRB'][mask] = 'C' + result['TRB'][mask].astype(str)\n",
    "result_cd4 = result.copy()"
   ]
  },
  {
   "cell_type": "code",
   "execution_count": null,
   "id": "4c8b4f25-9b3f-4323-8275-830ceaa884c8",
   "metadata": {
    "tags": []
   },
   "outputs": [],
   "source": [
    "# conatenate the data together\n",
    "result = pd.concat([result_cd8, result_cd4], axis=0)\n",
    "# add to the data\n",
    "results_tcr['SU_CELL2022_COVID19'] = result"
   ]
  },
  {
   "cell_type": "code",
   "execution_count": null,
   "id": "2e98306d-d763-4654-bef9-8bfbbbb0ce44",
   "metadata": {},
   "outputs": [],
   "source": [
    "# write the pickled data\n",
    "with open('../external_data/results.tcr.pkl', 'wb') as f:\n",
    "    pkl.dump(results_tcr, f)\n",
    "with open('../external_data/results.ag.pkl', 'wb') as f:\n",
    "    pkl.dump(results_ag, f)"
   ]
  }
 ],
 "metadata": {
  "kernelspec": {
   "display_name": "gpu39",
   "language": "python",
   "name": "gpu39"
  },
  "language_info": {
   "codemirror_mode": {
    "name": "ipython",
    "version": 3
   },
   "file_extension": ".py",
   "mimetype": "text/x-python",
   "name": "python",
   "nbconvert_exporter": "python",
   "pygments_lexer": "ipython3",
   "version": "3.9.18"
  }
 },
 "nbformat": 4,
 "nbformat_minor": 5
}

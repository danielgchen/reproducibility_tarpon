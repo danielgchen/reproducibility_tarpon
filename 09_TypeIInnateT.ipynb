{
 "cells": [
  {
   "cell_type": "code",
   "execution_count": null,
   "id": "f5c9f34b-a022-463b-afb5-a2da05795983",
   "metadata": {
    "tags": []
   },
   "outputs": [],
   "source": [
    "import matplotlib.pyplot as plt\n",
    "import numpy as np\n",
    "import pandas as pd\n",
    "import scanpy as sc\n",
    "import scipy.stats as ss\n",
    "import seaborn as sns\n",
    "sc.settings.set_figure_params(dpi=100)"
   ]
  },
  {
   "cell_type": "markdown",
   "id": "93dd97cc-1750-4e2c-a32e-9e58f07818a2",
   "metadata": {},
   "source": [
    "### Read in Data"
   ]
  },
  {
   "cell_type": "code",
   "execution_count": null,
   "id": "4dde8b4e-1cc5-4e75-acb7-080569c72f2e",
   "metadata": {},
   "outputs": [],
   "source": [
    "from sklearn.model_selection import StratifiedShuffleSplit\n",
    "from sklearn.ensemble import RandomForestClassifier\n",
    "from sklearn.metrics import auc, roc_curve, precision_recall_curve, f1_score, balanced_accuracy_score, accuracy_score\n",
    "import pickle as pkl\n",
    "# read in data\n",
    "a_trb = sc.read_h5ad('../outs/adata.trb.h5ad')\n",
    "trbs_covid = pd.read_csv('../outs/su22.trb.csv', index_col=0)\n",
    "# load the pickled data\n",
    "with open('../external_data/results.tcr.pkl', 'rb') as f:\n",
    "    results_tcr = pkl.load(f)\n",
    "with open('../external_data/results.ag.pkl', 'rb') as f:\n",
    "    results_ag = pkl.load(f)"
   ]
  },
  {
   "cell_type": "markdown",
   "id": "1980973e-dea1-4f5f-9ca0-600d30be1e06",
   "metadata": {},
   "source": [
    "#### Fetal Donors (Suo and Dann et al. 2022)"
   ]
  },
  {
   "cell_type": "code",
   "execution_count": null,
   "id": "d7aebad7-3c61-45b7-87c0-8d9aba9adeab",
   "metadata": {
    "tags": []
   },
   "outputs": [],
   "source": [
    "from tqdm import tqdm\n",
    "# define the minimum number of cells\n",
    "min_cells = 4\n",
    "# get the tag, keeping only pairs that have at least min_cells cells\n",
    "clusters = ['CD8+T','TYPE_1_INNATE_T']\n",
    "mask = results_tcr['SUO_SCIENCE2022_FETAL']['celltype_annotation'].isin(clusters)\n",
    "data = results_tcr['SUO_SCIENCE2022_FETAL'].loc[mask, ['donor','celltype_annotation','TRB']].astype(str).copy()\n",
    "data['tag'] = data[['donor','celltype_annotation']].astype(str).agg(':'.join, axis=1)\n",
    "# filter the data more harshly because less assured of quality\n",
    "data['TRB'][~data['TRB'].isin(a_trb.obs.index)] = np.nan\n",
    "data = data.dropna(subset=['TRB'])\n",
    "counts = data['tag'].value_counts(); tags = counts.index[counts >= min_cells]\n",
    "# compile the Xs\n",
    "Xs = []\n",
    "for tag in tqdm(tags):\n",
    "    trbs = data.loc[data['tag'] == tag, 'TRB']\n",
    "    mask = trbs[trbs.isin(a_trb.obs.index)]\n",
    "    X_ = pd.Series(a_trb[mask].X.mean(0), name=tag)\n",
    "    Xs.append(X_)\n",
    "og_trb_suo2022_X = pd.concat(Xs, axis=1).T"
   ]
  },
  {
   "cell_type": "markdown",
   "id": "b033732c-9c38-4208-bf4c-32eb44201ea7",
   "metadata": {},
   "source": [
    "#### Adults with COVID-19 and Healthy Donors (Su, Yuan, and Chen et al. 2022)"
   ]
  },
  {
   "cell_type": "code",
   "execution_count": null,
   "id": "95078be7-de04-42a9-94dc-4a7a6ec6382c",
   "metadata": {
    "tags": []
   },
   "outputs": [],
   "source": [
    "# derive annotations\n",
    "adata = sc.read_h5ad('../../COVID_ISB_STORAGE/upto_v16_P_GE_int_gex_cd8_t_cells.has_abtcr_chain.h5ad')\n",
    "results_tcr['SU_CELL2022_COVID19']['phenotype_leiden'] = adata.obs[['phenotype','leiden']].agg('_'.join, axis=1)\n",
    "results_tcr['SU_CELL2022_COVID19'][['batch','subbatch','sample']] = \\\n",
    "results_tcr['SU_CELL2022_COVID19']['batch_info'].str.split(':', expand=True)\n",
    "# compile data\n",
    "trbs_atlas = pd.DataFrame(a_trb.X, index=a_trb.obs.index)\n",
    "trbs_atlas = trbs_atlas.loc[~trbs_atlas.index.isin(trbs_covid.index)]\n",
    "trbs_covid.columns = trbs_atlas.columns\n",
    "trbs_X = pd.concat([trbs_atlas, trbs_covid], axis=0)\n",
    "assert trbs_X.index.is_unique\n",
    "# derive annotations\n",
    "results_tcr['SU_CELL2022_COVID19'][['batch','subbatch','sample']] = \\\n",
    "results_tcr['SU_CELL2022_COVID19']['batch_info'].str.split(':', expand=True)\n",
    "# get the tag, keeping only pairs that have at least min_cells cells\n",
    "mask = ~results_tcr['SU_CELL2022_COVID19']['phenotype_leiden'].isna()\n",
    "data = results_tcr['SU_CELL2022_COVID19'][['sample','phenotype_leiden','TRB']].astype(str).copy()\n",
    "data['tag'] = data[['sample','phenotype_leiden']].astype(str).agg(':'.join, axis=1)\n",
    "# filter the data more harshly because less assured of quality\n",
    "data['TRB'][~data['TRB'].isin(a_trb.obs.index)] = np.nan\n",
    "data = data.dropna(subset=['TRB'])\n",
    "counts = data['tag'].value_counts(); tags = counts.index[counts >= min_cells]\n",
    "# compile the Xs\n",
    "Xs = []\n",
    "for tag in tqdm(tags):\n",
    "    trbs = data.loc[data['tag'] == tag, 'TRB']\n",
    "    mask = trbs[trbs.isin(a_trb.obs.index)]\n",
    "    X_ = pd.Series(a_trb[mask].X.mean(0), name=tag)\n",
    "    Xs.append(X_)\n",
    "og_trb_su2022_X = pd.concat(Xs, axis=1).T"
   ]
  },
  {
   "cell_type": "markdown",
   "id": "2e720afc-5466-4176-91a8-7245645a69de",
   "metadata": {},
   "source": [
    "#### Pan-Cancer Types (Zheng, Qin, and Si et al. 2021)"
   ]
  },
  {
   "cell_type": "code",
   "execution_count": null,
   "id": "eedc0a34-dff8-477c-a3ba-ab5889e03d81",
   "metadata": {
    "tags": []
   },
   "outputs": [],
   "source": [
    "# get the tag, keeping only pairs that have at least min_cells cells\n",
    "mask = results_tcr['ZHENG_SCIENCE2021_PANCAN']['TcellType'] == 'CD8'\n",
    "data = results_tcr['ZHENG_SCIENCE2021_PANCAN'].loc[mask, ['patient','cluster.name','TRB']].astype(str).copy()\n",
    "data['tag'] = data[['patient','cluster.name']].astype(str).agg(':'.join, axis=1)\n",
    "# filter the data more harshly because less assured of quality\n",
    "data['TRB'][~data['TRB'].isin(a_trb.obs.index)] = np.nan\n",
    "data = data.dropna(subset=['TRB'])\n",
    "counts = data['tag'].value_counts(); tags = counts.index[counts >= min_cells]\n",
    "# compile the Xs\n",
    "Xs = []\n",
    "for tag in tqdm(tags):\n",
    "    trbs = data.loc[data['tag'] == tag, 'TRB']\n",
    "    mask = trbs[trbs.isin(a_trb.obs.index)]\n",
    "    X_ = pd.Series(a_trb[mask].X.mean(0), name=tag)\n",
    "    Xs.append(X_)\n",
    "og_trb_zheng2021_X = pd.concat(Xs, axis=1).T"
   ]
  },
  {
   "cell_type": "markdown",
   "id": "3b6f6395-2ed5-4ffe-b581-ab3a4cadf875",
   "metadata": {},
   "source": [
    "### Modeling"
   ]
  },
  {
   "cell_type": "code",
   "execution_count": null,
   "id": "d380e81f-d4b1-427c-9e78-0847a710c357",
   "metadata": {
    "tags": []
   },
   "outputs": [],
   "source": [
    "from sklearn.linear_model import LogisticRegression\n",
    "# define a function to interrogate the data\n",
    "def interrogate_with_globals():\n",
    "    # create statistics tracking dataframe\n",
    "    df_stat = pd.DataFrame(columns=['auroc','auprc','f1_score','balacc'])\n",
    "    # create tracking variables for downstream visualization and statistics\n",
    "    probas, probas_bin, truths = [], [], []\n",
    "    fprs, tprs, pres, recs = [], [], [], []\n",
    "    # train utilizing random forest models in a stratified shuffled manner\n",
    "    skf = StratifiedShuffleSplit(n_splits=10, random_state=0, test_size=1/4)\n",
    "    for idxs_train, idxs_test in skf.split(X1, y1):\n",
    "        # instantiate the random forest model\n",
    "        clf = LogisticRegression()\n",
    "        # fit the random forest model using Dataset #1\n",
    "        clf = clf.fit(X1.iloc[idxs_train], y1.iloc[idxs_train])\n",
    "\n",
    "        # predict on Dataset #2 correcting to all indices if requested\n",
    "        if pred_on_all:\n",
    "            idxs_test = range(X2.shape[0])\n",
    "        # derive the probabilities\n",
    "        proba = clf.predict_proba(X2.iloc[idxs_test])[:, clf.classes_ == 1]\n",
    "        probas.append(pd.Series(proba[:, 0], index=X2.index[idxs_test]))\n",
    "        # binarize into categorical predictions\n",
    "        proba_bin = 1 * (proba >= 0.50)\n",
    "        probas_bin.append(pd.Series(proba_bin[:, 0], index=X2.index[idxs_test]))\n",
    "        # retrieve the associated ground truth\n",
    "        truth = y2.iloc[idxs_test]\n",
    "        truths.append(truth.copy())\n",
    "\n",
    "        # compute subsequent AUROC and AUPRC related metrics\n",
    "        fpr, tpr, _ = roc_curve(truth, proba)\n",
    "        pre, rec, _ = precision_recall_curve(truth, proba)\n",
    "        fprs.append(fpr); tprs.append(tpr); pres.append(pre); recs.append(rec)\n",
    "        # save the relevant statistics\n",
    "        df_stat.loc[df_stat.shape[0]] = auc(fpr, tpr), auc(rec, pre), \\\n",
    "                                        f1_score(truth, proba_bin, average='binary'), \\\n",
    "                                        balanced_accuracy_score(truth, proba_bin)\n",
    "\n",
    "    # check the difference\n",
    "    for stat in df_stat.columns:\n",
    "        fig, ax = plt.subplots(figsize=[1, 4]); ax.grid(False)\n",
    "        sns.boxplot(y=df_stat[stat], linewidth=1.5, saturation=1, showfliers=False, linecolor='dodgerblue', color='skyblue')\n",
    "        sns.stripplot(y=df_stat[stat], linewidth=1.5, s=6, alpha=0.5, color='skyblue', edgecolor='dodgerblue')\n",
    "        ax.set_xlim(-0.75, 0.75); ax.set_ylabel(stat.upper())\n",
    "        print(stat.upper(), df_stat[stat].mean(), df_stat[stat].std() / np.sqrt(df_stat.shape[0])*1.96)\n",
    "\n",
    "    # plot the FPR, TPR\n",
    "    fig, ax = plt.subplots(figsize=[4, 4]); ax.grid(False)\n",
    "    xl = np.arange(0, 1.01, 0.01); yls = []\n",
    "    for fpr, tpr in zip(fprs, tprs):\n",
    "        ax.plot(fpr, tpr, color='skyblue', linestyle='--', lw=1)\n",
    "        yls.append(np.interp(xl, fpr, tpr))\n",
    "    yl = np.vstack(yls).mean(0)\n",
    "    ax.plot(xl, yl, color='dodgerblue', lw=2)\n",
    "    ax.plot([0, 1], [0, 1], color='lightgray', linestyle='dotted')\n",
    "    ax.set(xlabel='False Positive Rate', ylabel='True Positive Rate')\n",
    "\n",
    "    # plot the precision recall\n",
    "    fig, ax = plt.subplots(figsize=[4, 4]); ax.grid(False)\n",
    "    xl = np.arange(0, 1.01, 0.01); yls = []\n",
    "    for pre, rec in zip(pres, recs):\n",
    "        ax.plot(rec[::-1], pre[::-1], color='skyblue', linestyle='--', lw=1)\n",
    "        yls.append(np.interp(xl, rec[::-1], pre[::-1]))\n",
    "    yl = np.vstack(yls).mean(0)\n",
    "    ax.plot(xl, yl, color='dodgerblue', lw=2)\n",
    "    ax.plot([0, 1], [0.5]*2, color='lightgray', linestyle='dotted')\n",
    "    ax.set(xlabel='Recall', ylabel='Precision')\n",
    "\n",
    "    from sklearn.metrics import confusion_matrix\n",
    "    # define the results\n",
    "    result = pd.DataFrame(columns=['Truth','PredProb'])\n",
    "    for proba, truth in zip(probas, truths):\n",
    "        result.loc[result.shape[0]] = '+', proba[truth == 1].mean()\n",
    "        result.loc[result.shape[0]] = '-', proba[truth == 0].mean()\n",
    "\n",
    "    # compare the average prediction probabilities\n",
    "    fig, ax = plt.subplots(figsize=[2, 4]); ax.grid(False)\n",
    "    sns.boxplot(x='Truth', y='PredProb', data=result, linewidth=1.5, saturation=1,\n",
    "                showfliers=False, linecolor='dodgerblue', color='skyblue',\n",
    "                order=['-', '+'], palette=['lightgray','skyblue'])\n",
    "    np.random.seed(0)\n",
    "    sns.stripplot(x='Truth', y='PredProb', data=result, jitter=0.4, palette=['dodgerblue'], order=['+'], alpha=0.6, s=6)\n",
    "    sns.stripplot(x='Truth', y='PredProb', data=result, jitter=0.4, palette=['grey'], order=['-'], alpha=0.6, s=6)\n",
    "    ax.set_xlim(-1, 2); ax.set_ylabel('Prediction Probability'); ax.set_xlabel('Ground Truth')\n",
    "    ax.get_children()[0].set_hatch('//')\n",
    "    ax.get_children()[0].set_edgecolor('grey')\n",
    "    for idx in range(1, 6):\n",
    "        ax.get_children()[idx].set_color('grey')\n",
    "\n",
    "    # report statistics\n",
    "    print('p-value for + vs. -:')\n",
    "    print(ss.mannwhitneyu(result.loc[result['Truth'] == '+', 'PredProb'], result.loc[result['Truth'] == '-', 'PredProb']))\n",
    "    print('average:')\n",
    "    print(df_stat.mean(0))\n",
    "    print('95% cis:')\n",
    "    print(df_stat.std(0) / np.sqrt(10) * 1.96)\n",
    "    return df_stat, probas, truths"
   ]
  },
  {
   "cell_type": "code",
   "execution_count": null,
   "id": "2aeabb3e-6785-4a37-a7f0-c66a8735397e",
   "metadata": {
    "tags": []
   },
   "outputs": [],
   "source": [
    "import warnings\n",
    "warnings.filterwarnings('ignore')"
   ]
  },
  {
   "cell_type": "markdown",
   "id": "aebe59d0-6c35-4a63-8bc1-8b47d91bbd01",
   "metadata": {},
   "source": [
    "#### Fetal Donors..."
   ]
  },
  {
   "cell_type": "code",
   "execution_count": null,
   "id": "80c5a576-a1d4-4487-906c-2fa8917455d1",
   "metadata": {
    "tags": []
   },
   "outputs": [],
   "source": [
    "# define the data to train on\n",
    "X1 = og_trb_suo2022_X.copy()\n",
    "# setup a mask for CD8+ cells\n",
    "y1 = pd.Series(X1.index.str.contains(':TYPE_1_INNATE_T'), index=X1.index)\n",
    "print(X1.shape[0], y1.sum(), y1.mean())\n",
    "\n",
    "# define the data to predict on\n",
    "X2 = og_trb_suo2022_X.copy()\n",
    "# setup a mask for CD8+ cells\n",
    "y2 = pd.Series(X2.index.str.contains(':TYPE_1_INNATE_T'), index=X2.index)\n",
    "print(X2.shape[0], y2.sum(), y2.mean())\n",
    "\n",
    "# define whether we are to predict on the complete data\n",
    "pred_on_all = False\n",
    "# perform predictions with all\n",
    "df_stat_fetal, _, _ = interrogate_with_globals()"
   ]
  },
  {
   "cell_type": "markdown",
   "id": "5f80d990-270c-4c53-a917-2e78fb2c4069",
   "metadata": {},
   "source": [
    "#### Fetal... --> COVID-19 and Adult Healthy Donors..."
   ]
  },
  {
   "cell_type": "code",
   "execution_count": null,
   "id": "95456ac2-cdc1-4fe8-932d-5730f6df9288",
   "metadata": {
    "tags": []
   },
   "outputs": [],
   "source": [
    "# define the data to train on\n",
    "X1 = og_trb_suo2022_X.copy()\n",
    "# setup a mask for CD8+ cells\n",
    "y1 = pd.Series(X1.index.str.contains(':TYPE_1_INNATE_T'), index=X1.index)\n",
    "print(X1.shape[0], y1.sum(), y1.mean())\n",
    "\n",
    "# define the data to predict on\n",
    "X2 = og_trb_su2022_X.copy()\n",
    "X2 = X2.loc[~X2.index.str.endswith('nan')]\n",
    "X2 = X2.loc[~X2.index.str.endswith('CD8_Naive_14')]\n",
    "# setup a mask for CD8+ cells\n",
    "y2 = pd.Series(X2.index.str.contains('CD8_Cytotoxic_3'), index=X2.index)\n",
    "print(X2.shape[0], y2.sum(), y2.mean())\n",
    "\n",
    "# define whether we are to predict on the complete data\n",
    "pred_on_all = True\n",
    "# perform predictions with all\n",
    "df_stat_covid, probas_covid, _ = interrogate_with_globals()"
   ]
  },
  {
   "cell_type": "code",
   "execution_count": null,
   "id": "0dc8a947-0eea-45df-b88e-5d38ad9b73ca",
   "metadata": {
    "tags": []
   },
   "outputs": [],
   "source": [
    "# visualize the distribution\n",
    "df_plot = pd.concat(probas_covid, axis=1).reset_index().melt(id_vars='index')\n",
    "df_plot[['sample','phenotype']] = df_plot['index'].str.split(':', expand=True)\n",
    "df_plot['value'] -= df_plot['value'].mean()\n",
    "df_plot['value'] /= df_plot['value'].std()\n",
    "fig, ax = plt.subplots(figsize=[5, 2.5]); ax.grid(False)\n",
    "order = df_plot.groupby('phenotype').mean(numeric_only=True)['value'].sort_values().index\n",
    "sns.barplot(x='phenotype', y='value', data=df_plot, ci=95, errwidth=1.5, linewidth=1.5, ax=ax, order=order,\n",
    "            capsize=0.3, errcolor='dodgerblue', edgecolor='dodgerblue', color='skyblue', saturation=1)\n",
    "ax.tick_params(axis='x', labelrotation=90)\n",
    "ax.axhline(0, color='k')\n",
    "ax.set_xlim(-1, len(order))\n",
    "ax.set(xlabel='Adult PT and HD CD8+ T Cell States', ylabel='Type I Innate Score')"
   ]
  },
  {
   "cell_type": "markdown",
   "id": "c0d568c6-0458-43cd-a758-2c2255b406c9",
   "metadata": {},
   "source": [
    "#### Fetal... --> Pan-Cancer..."
   ]
  },
  {
   "cell_type": "code",
   "execution_count": null,
   "id": "668dcb1f-515c-4dd4-8b45-9432e6771def",
   "metadata": {
    "tags": []
   },
   "outputs": [],
   "source": [
    "# define the data to train on\n",
    "X1 = og_trb_suo2022_X.copy()\n",
    "# setup a mask for CD8+ cells\n",
    "y1 = pd.Series(X1.index.str.contains(':TYPE_1_INNATE_T'), index=X1.index)\n",
    "print(X1.shape[0], y1.sum(), y1.mean())\n",
    "\n",
    "# define the data to predict on\n",
    "X2 = og_trb_zheng2021_X.copy()\n",
    "# setup a mask for CD8+ cells\n",
    "y2 = pd.Series(X2.index.str.contains('KIR'), index=X2.index)\n",
    "print(X2.shape[0], y2.sum(), y2.mean())\n",
    "\n",
    "# define whether we are to predict on the complete data\n",
    "pred_on_all = True\n",
    "# perform predictions with all\n",
    "df_stat_tumor, probas_tumor, _ = interrogate_with_globals()"
   ]
  },
  {
   "cell_type": "code",
   "execution_count": null,
   "id": "d6c5a79b-aa98-4b40-a953-314993b374c0",
   "metadata": {
    "tags": []
   },
   "outputs": [],
   "source": [
    "# visualize the distribution\n",
    "df_plot = pd.concat(probas_tumor, axis=1).reset_index().melt(id_vars='index')\n",
    "df_plot[['sample','phenotype']] = df_plot['index'].str.split(':', expand=True)\n",
    "df_plot['value'] -= df_plot['value'].mean()\n",
    "df_plot['value'] /= df_plot['value'].std()\n",
    "fig, ax = plt.subplots(figsize=[5, 4]); ax.grid(False)\n",
    "order = df_plot.groupby('phenotype').mean(numeric_only=True)['value'].sort_values().index\n",
    "sns.barplot(x='phenotype', y='value', data=df_plot, ci=95, errwidth=1.5, linewidth=1.5, ax=ax, order=order,\n",
    "            capsize=0.3, errcolor='dodgerblue', edgecolor='dodgerblue', color='skyblue', saturation=1)\n",
    "ax.tick_params(axis='x', labelrotation=90)\n",
    "ax.axhline(0, color='k')\n",
    "ax.set_xlim(-1, len(order))\n",
    "ax.set(xlabel='Pan-Cancer CD8+ T Cell States', ylabel='Type I Innate Score')"
   ]
  },
  {
   "cell_type": "markdown",
   "id": "351743b7-114a-40ba-b2e0-390354c868ea",
   "metadata": {},
   "source": [
    "### Confirm Predictions with Transcriptomic Analyses"
   ]
  },
  {
   "cell_type": "code",
   "execution_count": null,
   "id": "c432ba8a-8de4-4678-83b5-8209e60c5737",
   "metadata": {},
   "outputs": [],
   "source": [
    "# read in the original H5AD file\n",
    "adata = sc.read_h5ad('../external_data/SUO_SCIENCE2022_FETAL/PAN.A01.v01.raw_count.20210429.NKT.embedding.abTCR.h5ad')\n",
    "# normalize the data\n",
    "sc.pp.normalize_total(adata, target_sum=1e6)\n",
    "sc.pp.log1p(adata)\n",
    "# can we isolate out the two populations?\n",
    "adata_ = adata[adata.obs['celltype_annotation'] == 'TYPE_1_INNATE_T'].copy()\n",
    "sc.pp.neighbors(adata_, use_rep='X_scvi', n_neighbors=30)\n",
    "sc.tl.umap(adata_)\n",
    "# compute the leidens\n",
    "sc.tl.leiden(adata_, resolution=0.9)\n",
    "adata_.obs['phenotype'] = np.nan\n",
    "adata_.obs['phenotype'][adata_.obs['leiden'].isin(['3','4','7'])] = 'MAIT-like'\n",
    "adata_.obs['phenotype'][adata_.obs['leiden'].isin(['0','1','5'])] = 'KIR-like'\n",
    "# write out the data\n",
    "adata_.write('../outs/fetal.toit.h5ad')\n",
    "\n",
    "# color on the phenotype\n",
    "adata_ = sc.read_h5ad('../outs/fetal.toit.h5ad')\n",
    "adata_.obs['phenotype'] = adata_.obs['phenotype'].astype(str)\n",
    "adata_.obs['phenotype'] = adata_.obs['phenotype'].str.replace('nan','Interm.')\n",
    "adata_.uns['phenotype_colors'] = [x for x in sns.color_palette('Set2', 3).as_hex()]\n",
    "sc.pl.umap(adata_, color=['phenotype'])"
   ]
  },
  {
   "cell_type": "code",
   "execution_count": null,
   "id": "38602f58-de5f-4aba-b302-403896b58690",
   "metadata": {
    "tags": []
   },
   "outputs": [],
   "source": [
    "from matplotlib.colors import to_rgb, to_hex\n",
    "# change colors\n",
    "colors = [list(to_rgb(x)) for x in adata_.uns['phenotype_colors']]\n",
    "colors_neo = []\n",
    "for color in colors:\n",
    "    color[-1] *= 2.00\n",
    "    color[0] *= 1.25\n",
    "    color[0] = min(1, color[0])\n",
    "    color[-1] = min(1, color[-1])\n",
    "    color = np.array(color) * 0.95\n",
    "    colors_neo.append(to_hex(color))\n",
    "adata_.uns['phenotype_colors'] = colors_neo\n",
    "sc.pl.umap(adata_, color=['phenotype'])"
   ]
  },
  {
   "cell_type": "markdown",
   "id": "2157ccc6-d49f-49a8-8a03-0ce471cf1507",
   "metadata": {},
   "source": [
    "#### KIR and MAIT -like Signatures"
   ]
  },
  {
   "cell_type": "code",
   "execution_count": null,
   "id": "3a76890e-8c5b-4abc-81f7-021b6471e8fb",
   "metadata": {},
   "outputs": [],
   "source": [
    "# look for marker genes\n",
    "sc.pl.dotplot(adata_, groupby='phenotype', use_raw=False, dot_max=0.80, vmin=0, vmax=8,\n",
    "              categories_order=['MAIT-like','Interm.','KIR-like'],\n",
    "              var_names=['NKG7','KLRB1','IL7R','CXCR4','IFNGR1','IL23R','CXCR6','RORC',\n",
    "                         'ZBTB16','GATA3','IFNG','ZNF683','ICOS','TCF7','LEF1','KLRD1','IL10RA',\n",
    "                         'TOX','PDCD1','TNFRSF9','KIR3DL1','KIR3DL2','KIR2DL1','KIR2DL3',], cmap='Blues')"
   ]
  },
  {
   "cell_type": "code",
   "execution_count": null,
   "id": "33934ae1-c374-4f97-a5cf-c1e1914ea5b6",
   "metadata": {
    "tags": []
   },
   "outputs": [],
   "source": [
    "# compute the MAGIC imputed gene expression\n",
    "mdata_ = adata_.copy()\n",
    "sc.pp.filter_genes(mdata_, min_cells=1)\n",
    "sc.external.pp.magic(mdata_, random_state=0, t=3)\n",
    "# define the gene lists\n",
    "genes_mait = ['RORC','KLRB1','CXCR6','IL23R']\n",
    "genes_kir = ['KIR2DL1','KIR2DL3','KIR3DL1','KIR3DL2']\n",
    "# derive the signatures\n",
    "sc.tl.score_genes(mdata_, gene_list=genes_mait, score_name='score_MAIT', random_state=0, use_raw=False)\n",
    "sc.tl.score_genes(mdata_, gene_list=genes_kir, score_name='score_KIR', random_state=0, use_raw=False)\n",
    "# plot the signatures\n",
    "mdata_.obs[['score_MAIT','score_KIR']] -= mdata_.obs[['score_MAIT','score_KIR']].mean()\n",
    "mdata_.obs[['score_MAIT','score_KIR']] /= mdata_.obs[['score_MAIT','score_KIR']].std()\n",
    "# look at the scores but weighted accordingly\n",
    "for k in ['score_MAIT','score_KIR']:\n",
    "    vs = mdata_.obs[k].copy()\n",
    "    vmin, vmax = np.percentile(vs, 2), np.percentile(vs, 98)\n",
    "    sc.pl.umap(mdata_, color=[k], cmap='Blues', vmin=vmin, vmax=vmax)"
   ]
  },
  {
   "cell_type": "markdown",
   "id": "6e5328a6-447e-4476-80ee-846b26d41015",
   "metadata": {},
   "source": [
    "#### TCR Gene Usage"
   ]
  },
  {
   "cell_type": "code",
   "execution_count": null,
   "id": "f02ea78c-7d08-4868-86ac-14b1ff6625eb",
   "metadata": {
    "tags": []
   },
   "outputs": [],
   "source": [
    "# get the counts for each category\n",
    "genes = adata_.obs.loc[adata_.obs['leiden'].isin(['3','4','7']), 'IR_VJ_1_v_gene'].dropna()\n",
    "counts_mait = genes[~genes.str.lower().isin(['nan','none'])].astype(str).value_counts()\n",
    "genes = adata_.obs.loc[adata_.obs['leiden'].isin(['0','1','5']), 'IR_VJ_1_v_gene'].dropna()\n",
    "counts_kir = genes[~genes.str.lower().isin(['nan','none'])].astype(str).value_counts()\n",
    "genes = adata_.obs['IR_VJ_1_v_gene'].dropna()\n",
    "counts_type1 = genes[~genes.str.lower().isin(['nan','none'])].astype(str).value_counts()\n",
    "genes = adata.obs.loc[adata.obs['celltype_annotation'].isin(['CD8+T']), 'IR_VJ_1_v_gene'].dropna()\n",
    "counts_cd8 = genes[~genes.str.lower().isin(['nan','none'])].astype(str).value_counts()"
   ]
  },
  {
   "cell_type": "code",
   "execution_count": null,
   "id": "86af4193-e4dd-470a-b843-07a8f0bc51aa",
   "metadata": {
    "tags": []
   },
   "outputs": [],
   "source": [
    "# derive the order for TRAV\n",
    "idxs = counts_kir.index.union(counts_mait.index).union(counts_type1.index).union(counts_cd8.index)\n",
    "converts = idxs.to_series().str.slice(4).str.split('/DV', expand=True)[0].str.split('-', expand=True).astype(float)\n",
    "converts[1] = converts[1].fillna(0) / 10; converts = converts.sum(1)\n",
    "order = idxs.sort_values(key=lambda x: converts.loc[x])\n",
    "# look at the different TRAV usages\n",
    "x, y = counts_kir.reindex(idxs).fillna(0) / counts_kir.sum() * 100, counts_mait.reindex(idxs).fillna(0) / counts_mait.sum() * 100\n",
    "z = counts_type1.reindex(idxs).fillna(0) / counts_type1.sum() * 100\n",
    "fig, ax = plt.subplots(figsize=[4, 4]); ax.grid(False)\n",
    "ax.scatter(x - z, y - z, s=z*10, color='skyblue')\n",
    "ax.scatter(x.loc['TRAV1-2'] - z.loc['TRAV1-2'], y.loc['TRAV1-2'] - z.loc['TRAV1-2'], color='dodgerblue',\n",
    "           edgecolor='k', s=z.loc['TRAV1-2']*10)\n",
    "ax.set(xlabel='TRAV % KIR-like - Type I', ylabel='TRAV % MAIT-like - Type I')\n",
    "ax.axhline(0, color='k', linestyle='--'); ax.axvline(0, color='k', linestyle='--')\n",
    "# plot the levels over genomic distance\n",
    "fig, ax = plt.subplots(figsize=[12, 4]); ax.grid(False)\n",
    "ax.scatter(order, y.loc[order] - x.loc[order], color='skyblue', s=z*10)\n",
    "ax.scatter(['TRAV1-2'], y.loc['TRAV1-2'] - x.loc['TRAV1-2'], color='dodgerblue', s=z.loc['TRAV1-2']*10, edgecolor='k')\n",
    "ax.tick_params(axis='x', labelrotation=90); ax.axhline(0, color='k', linestyle='--')\n",
    "ax.set_ylabel('TRAV % MAIT-like - KIR-like')\n",
    "# derive the correlation\n",
    "mask = ~x.isna(); ss.pearsonr(x[mask] - z[mask], y[mask] - z[mask])"
   ]
  },
  {
   "cell_type": "code",
   "execution_count": null,
   "id": "c6487a46-570d-4d2f-9b63-8e34224ad178",
   "metadata": {
    "tags": []
   },
   "outputs": [],
   "source": [
    "# get the counts for each category\n",
    "genes = adata_.obs.loc[adata_.obs['leiden'].isin(['3','4','7']), 'IR_VJ_1_j_gene'].dropna()\n",
    "counts_mait = genes[~genes.str.lower().isin(['nan','none'])].astype(str).value_counts()\n",
    "genes = adata_.obs.loc[adata_.obs['leiden'].isin(['0','1','5']), 'IR_VJ_1_j_gene'].dropna()\n",
    "counts_kir = genes[~genes.str.lower().isin(['nan','none'])].astype(str).value_counts()\n",
    "genes = adata_.obs['IR_VJ_1_j_gene'].dropna()\n",
    "counts_type1 = genes[~genes.str.lower().isin(['nan','none'])].astype(str).value_counts()\n",
    "genes = adata.obs.loc[adata.obs['celltype_annotation'].isin(['CD8+T']), 'IR_VJ_1_j_gene'].dropna()\n",
    "counts_cd8 = genes[~genes.str.lower().isin(['nan','none'])].astype(str).value_counts()"
   ]
  },
  {
   "cell_type": "code",
   "execution_count": null,
   "id": "9ad82687-5dc9-4622-b33b-de3f928b9764",
   "metadata": {
    "tags": []
   },
   "outputs": [],
   "source": [
    "# derive the order for TRAV\n",
    "idxs = counts_kir.index.union(counts_mait.index).union(counts_type1.index).union(counts_cd8.index)\n",
    "converts = idxs.to_series().str.slice(4).str.split('/DV', expand=True)[0].str.split('-', expand=True).astype(float)[0]\n",
    "order = idxs.sort_values(key=lambda x: converts.loc[x])\n",
    "# look at the different TRAV usages\n",
    "x, y = counts_kir.reindex(idxs).fillna(0) / counts_kir.sum() * 100, counts_mait.reindex(idxs).fillna(0) / counts_mait.sum() * 100\n",
    "z = counts_type1.reindex(idxs).fillna(0) / counts_type1.sum() * 100\n",
    "fig, ax = plt.subplots(figsize=[4, 4]); ax.grid(False)\n",
    "ax.scatter(x - z, y - z, s=z*10, color='skyblue')\n",
    "for gene in ['TRAJ33','TRAJ20','TRAJ12']:\n",
    "    ax.scatter(x.loc[gene] - z.loc[gene], y.loc[gene] - z.loc[gene], color='dodgerblue', edgecolor='k', s=z.loc[gene]*10)\n",
    "ax.set(xlabel='TRAJ % KIR-like - Type I', ylabel='TRAJ % MAIT-like - Type I')\n",
    "ax.axhline(0, color='k', linestyle='--'); ax.axvline(0, color='k', linestyle='--')\n",
    "# plot the levels over genomic distance\n",
    "fig, ax = plt.subplots(figsize=[12, 4]); ax.grid(False)\n",
    "ax.scatter(order, y.loc[order] - x.loc[order], color='skyblue', s=z*10)\n",
    "for gene in ['TRAJ33','TRAJ20','TRAJ12']:\n",
    "    ax.scatter([gene], y.loc[gene] - x.loc[gene], color='dodgerblue', s=z.loc[gene]*10, edgecolor='k')\n",
    "ax.tick_params(axis='x', labelrotation=90); ax.axhline(0, color='k', linestyle='--')\n",
    "ax.set_ylabel('TRAJ % MAIT-like - KIR-like')\n",
    "# derive the correlation\n",
    "mask = ~x.isna(); ss.pearsonr(x[mask] - z[mask], y[mask] - z[mask])"
   ]
  },
  {
   "cell_type": "markdown",
   "id": "1c905d8e-cacf-4f34-93e4-a7c95e1418e4",
   "metadata": {},
   "source": [
    "### Celltypist Mapping"
   ]
  },
  {
   "cell_type": "code",
   "execution_count": null,
   "id": "72c426bb-bff0-440c-a63c-038d871701b0",
   "metadata": {
    "tags": []
   },
   "outputs": [],
   "source": [
    "from scipy.sparse import csr_matrix\n",
    "# read in the data\n",
    "adata_ = sc.read_h5ad('../outs/fetal.toit.h5ad')\n",
    "# reverse ln(CPM+1) by exp(X)-1\n",
    "adata_.X = csr_matrix(np.exp(adata_.X.toarray())-1)\n",
    "sc.pp.normalize_total(adata_, target_sum=1e4)\n",
    "sc.pp.log1p(adata_)\n",
    "\n",
    "import celltypist\n",
    "# train the model\n",
    "sc.pp.filter_genes(adata_, min_cells=1)\n",
    "new_model = celltypist.train(adata_[~adata_.obs['phenotype'].isna()], labels='phenotype', n_jobs=10, feature_selection=True)\n",
    "new_model.write('../outs/celltypist.toit.pkl')"
   ]
  },
  {
   "cell_type": "code",
   "execution_count": null,
   "id": "50e45195-b373-494f-8a78-ecbef3405064",
   "metadata": {
    "tags": []
   },
   "outputs": [],
   "source": [
    "# now change the adata\n",
    "adata_raw = sc.read_h5ad('../../COVID_ISB_STORAGE/upto_v16_P_GE_int_RAW_gex_cd8_t_cells.h5ad')\n",
    "adata_covid.X = adata_raw[adata_covid.obs.index, adata_covid.var.index].X\n",
    "# ^ verified as int\n",
    "sc.pp.normalize_total(adata_covid, target_sum=1e4)\n",
    "sc.pp.log1p(adata_covid)\n",
    "\n",
    "# inference via the model\n",
    "predictions = celltypist.annotate(adata_covid, model='../outs/celltypist.toit.pkl', majority_voting=False)\n",
    "adata_covid.obs[predictions.probability_matrix.columns] = predictions.probability_matrix\n",
    "adata_covid.obs['conf_score'] = predictions.to_adata().obs['conf_score']\n",
    "# examine MAIT-like cell placement\n",
    "fig, ax = plt.subplots(figsize=[6, 4]); ax.grid(False)\n",
    "sns.barplot(x='phenotype_leiden', y='MAIT-like_TYPE_1_INNATE_T', data=adata_covid.obs,\n",
    "            order=adata_covid.obs['phenotype_leiden'].cat.categories,\n",
    "            palette=adata_covid.uns['phenotype_leiden_colors'], ci=95, capsize=0.3,\n",
    "            errcolor='#2b2b2b', edgecolor='#2b2b2b', linewidth=1.5, errwidth=1.5)\n",
    "ax.tick_params(axis='x', labelrotation=90)"
   ]
  }
 ],
 "metadata": {
  "kernelspec": {
   "display_name": "Environment (base_py39)",
   "language": "python",
   "name": "base_py39"
  },
  "language_info": {
   "codemirror_mode": {
    "name": "ipython",
    "version": 3
   },
   "file_extension": ".py",
   "mimetype": "text/x-python",
   "name": "python",
   "nbconvert_exporter": "python",
   "pygments_lexer": "ipython3",
   "version": "3.9.18"
  }
 },
 "nbformat": 4,
 "nbformat_minor": 5
}

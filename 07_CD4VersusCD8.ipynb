{
 "cells": [
  {
   "cell_type": "code",
   "execution_count": null,
   "id": "b2f8fc8c-4777-4b3d-8d7b-0ce07412c211",
   "metadata": {
    "tags": []
   },
   "outputs": [],
   "source": [
    "import matplotlib.pyplot as plt\n",
    "import numpy as np\n",
    "import pandas as pd\n",
    "import scanpy as sc\n",
    "import scipy.stats as ss\n",
    "import seaborn as sns\n",
    "sc.settings.set_figure_params(dpi=100)"
   ]
  },
  {
   "cell_type": "markdown",
   "id": "5b3ecb3b-88e5-4f1e-8974-805514c70f16",
   "metadata": {},
   "source": [
    "### Gather Data"
   ]
  },
  {
   "cell_type": "code",
   "execution_count": null,
   "id": "6d9a51c6-7cc0-4aa5-b63f-e43af219174f",
   "metadata": {},
   "outputs": [],
   "source": [
    "from sklearn.model_selection import StratifiedShuffleSplit\n",
    "from sklearn.ensemble import RandomForestClassifier\n",
    "from sklearn.metrics import auc, roc_curve, precision_recall_curve, f1_score, balanced_accuracy_score, accuracy_score\n",
    "import pickle as pkl\n",
    "# read in data\n",
    "a_trb = sc.read_h5ad('../outs/adata.trb.h5ad')\n",
    "# load the pickled data\n",
    "with open('../external_data/results.tcr.pkl', 'rb') as f:\n",
    "    results_tcr = pkl.load(f)\n",
    "with open('../external_data/results.ag.pkl', 'rb') as f:\n",
    "    results_ag = pkl.load(f)"
   ]
  },
  {
   "cell_type": "markdown",
   "id": "a13ad7cc-5b58-4d16-91fe-4962fc59fc56",
   "metadata": {},
   "source": [
    "#### Fetal Donors (Suo and Dann et al. 2022)"
   ]
  },
  {
   "cell_type": "code",
   "execution_count": null,
   "id": "32b4a200-23d8-4719-b6e8-376f6fab6fcd",
   "metadata": {
    "tags": []
   },
   "outputs": [],
   "source": [
    "from tqdm import tqdm\n",
    "# define the minimum number of cells\n",
    "min_cells = 2\n",
    "# get the tag, keeping only pairs that have at least min_cells cells\n",
    "clusters = ['CD8+T','TREG','CD4+T']\n",
    "mask = results_tcr['SUO_SCIENCE2022_FETAL']['celltype_annotation'].isin(clusters)\n",
    "data = results_tcr['SUO_SCIENCE2022_FETAL'].loc[mask, ['donor','celltype_annotation','TRB']].astype(str).copy()\n",
    "data['tag'] = data[['donor','celltype_annotation']].astype(str).agg(':'.join, axis=1)\n",
    "# filter the data more harshly because less assured of quality\n",
    "data['TRB'][~data['TRB'].isin(a_trb.obs.index)] = np.nan\n",
    "data = data.dropna(subset=['TRB'])\n",
    "counts = data['tag'].value_counts(); tags = counts.index[counts >= min_cells]\n",
    "# compile the Xs\n",
    "Xs = []\n",
    "for tag in tqdm(tags):\n",
    "    trbs = data.loc[data['tag'] == tag, 'TRB']\n",
    "    mask = trbs[trbs.isin(a_trb.obs.index)]\n",
    "    X_ = pd.Series(a_trb[mask].X.mean(0), name=tag)\n",
    "    Xs.append(X_)\n",
    "og_trb_suo2022_X = pd.concat(Xs, axis=1).T"
   ]
  },
  {
   "cell_type": "markdown",
   "id": "7812a117-ae93-4a65-98d4-b186e3bec6bb",
   "metadata": {},
   "source": [
    "#### Adults with COVID-19 and Healthy Donors (Su, Yuan, and Chen et al. 2022)"
   ]
  },
  {
   "cell_type": "code",
   "execution_count": null,
   "id": "9dd4153f-4181-434d-b9e8-67294c11138f",
   "metadata": {
    "tags": []
   },
   "outputs": [],
   "source": [
    "# derive annotations\n",
    "results_tcr['SU_CELL2022_COVID19'][['batch','subbatch','sample']] = \\\n",
    "results_tcr['SU_CELL2022_COVID19']['batch_info'].str.split(':', expand=True)\n",
    "# get the tag, keeping only pairs that have at least min_cells cells\n",
    "data = results_tcr['SU_CELL2022_COVID19'][['sample','TcellType','TRB']].astype(str).copy()\n",
    "data['tag'] = data[['sample','TcellType']].astype(str).agg(':'.join, axis=1)\n",
    "# filter the data more harshly because less assured of quality\n",
    "data['TRB'][~data['TRB'].isin(a_trb.obs.index)] = np.nan\n",
    "data = data.dropna(subset=['TRB'])\n",
    "counts = data['tag'].value_counts(); tags = counts.index[counts >= min_cells]\n",
    "# compile the Xs\n",
    "Xs = []\n",
    "for tag in tqdm(tags):\n",
    "    trbs = data.loc[data['tag'] == tag, 'TRB']\n",
    "    mask = trbs[trbs.isin(a_trb.obs.index)]\n",
    "    X_ = pd.Series(a_trb[mask].X.mean(0), name=tag)\n",
    "    Xs.append(X_)\n",
    "og_trb_su2022_X = pd.concat(Xs, axis=1).T"
   ]
  },
  {
   "cell_type": "markdown",
   "id": "0fe65bc4-62e0-4a57-a245-b7e795fa8fd5",
   "metadata": {},
   "source": [
    "#### Pan-Cancer Types (Zheng, Qin, and Si et al. 2021)"
   ]
  },
  {
   "cell_type": "code",
   "execution_count": null,
   "id": "982fd63e-8403-4570-a7e1-921940ecfb2f",
   "metadata": {
    "tags": []
   },
   "outputs": [],
   "source": [
    "# get the tag, keeping only pairs that have at least min_cells cells\n",
    "data = results_tcr['ZHENG_SCIENCE2021_PANCAN'][['patient','TcellType','TRB']].astype(str).copy()\n",
    "data['tag'] = data[['patient','TcellType']].astype(str).agg(':'.join, axis=1)\n",
    "# filter the data more harshly because less assured of quality\n",
    "data['TRB'][~data['TRB'].isin(a_trb.obs.index)] = np.nan\n",
    "data = data.dropna(subset=['TRB'])\n",
    "counts = data['tag'].value_counts(); tags = counts.index[counts >= min_cells]\n",
    "# compile the Xs\n",
    "Xs = []\n",
    "for tag in tqdm(tags):\n",
    "    trbs = data.loc[data['tag'] == tag, 'TRB']\n",
    "    mask = trbs[trbs.isin(a_trb.obs.index)]\n",
    "    X_ = pd.Series(a_trb[mask].X.mean(0), name=tag)\n",
    "    Xs.append(X_)\n",
    "og_trb_zheng2021_X = pd.concat(Xs, axis=1).T"
   ]
  },
  {
   "cell_type": "markdown",
   "id": "1a5fea72-29e8-4dfb-9e61-1fa36aaf89c5",
   "metadata": {},
   "source": [
    "### Modeling with Random Forest 100 Trees"
   ]
  },
  {
   "cell_type": "code",
   "execution_count": null,
   "id": "9cbfd7c6-742a-401d-83a9-dcf195831358",
   "metadata": {
    "tags": []
   },
   "outputs": [],
   "source": [
    "import warnings\n",
    "warnings.filterwarnings('ignore')"
   ]
  },
  {
   "cell_type": "code",
   "execution_count": null,
   "id": "46835050-2703-473c-b4e1-9a83e6eb844c",
   "metadata": {
    "tags": []
   },
   "outputs": [],
   "source": [
    "# define a function to interrogate the data\n",
    "def interrogate_with_globals():\n",
    "    # create statistics tracking dataframe\n",
    "    df_stat = pd.DataFrame(columns=['auroc','auprc'])\n",
    "    # create tracking variables for downstream visualization and statistics\n",
    "    probas, probas_bin, truths = [], [], []\n",
    "    fprs, tprs, pres, recs = [], [], [], []\n",
    "    # train utilizing random forest models in a stratified shuffled manner\n",
    "    skf = StratifiedShuffleSplit(n_splits=10, random_state=0, test_size=1/4)\n",
    "    for idxs_train, idxs_test in skf.split(X1, y1):\n",
    "        # instantiate the random forest model\n",
    "        clf = RandomForestClassifier(random_state=0, n_estimators=100)\n",
    "        # fit the random forest model using Dataset #1\n",
    "        clf = clf.fit(X1.iloc[idxs_train], y1.iloc[idxs_train])\n",
    "\n",
    "        # predict on Dataset #2 correcting to all indices if requested\n",
    "        if pred_on_all:\n",
    "            idxs_test = range(X2.shape[0])\n",
    "        # derive the probabilities\n",
    "        proba = clf.predict_proba(X2.iloc[idxs_test])[:, clf.classes_ == 1]\n",
    "        probas.append(pd.Series(proba[:, 0], index=X2.index[idxs_test]))\n",
    "        # binarize into categorical predictions\n",
    "        proba_bin = 1 * (proba >= 0.50)\n",
    "        probas_bin.append(pd.Series(proba_bin[:, 0], index=X2.index[idxs_test]))\n",
    "        # retrieve the associated ground truth\n",
    "        truth = y2.iloc[idxs_test]\n",
    "        truths.append(truth.copy())\n",
    "\n",
    "        # compute subsequent AUROC and AUPRC related metrics\n",
    "        fpr, tpr, _ = roc_curve(truth, proba)\n",
    "        pre, rec, _ = precision_recall_curve(truth, proba)\n",
    "        fprs.append(fpr); tprs.append(tpr); pres.append(pre); recs.append(rec)\n",
    "        # save the relevant statistics\n",
    "        df_stat.loc[df_stat.shape[0]] = auc(fpr, tpr), auc(rec, pre)\n",
    "\n",
    "    # check the difference\n",
    "    for stat in df_stat.columns:\n",
    "        fig, ax = plt.subplots(figsize=[1, 4]); ax.grid(False)\n",
    "        sns.boxplot(y=df_stat[stat], linewidth=1.5, saturation=1, showfliers=False, linecolor='dodgerblue', color='skyblue')\n",
    "        sns.stripplot(y=df_stat[stat], linewidth=1.5, s=6, alpha=0.5, color='skyblue', edgecolor='dodgerblue')\n",
    "        ax.set_xlim(-0.75, 0.75); ax.set_ylabel(stat.upper())\n",
    "        print(stat.upper(), df_stat[stat].mean(), df_stat[stat].std() / np.sqrt(df_stat.shape[0])*1.96)\n",
    "\n",
    "    # plot the FPR, TPR\n",
    "    fig, ax = plt.subplots(figsize=[4, 4]); ax.grid(False)\n",
    "    xl = np.arange(0, 1.01, 0.01); yls = []\n",
    "    for fpr, tpr in zip(fprs, tprs):\n",
    "        ax.plot(fpr, tpr, color='skyblue', linestyle='--', lw=1)\n",
    "        yls.append(np.interp(xl, fpr, tpr))\n",
    "    yl = np.vstack(yls).mean(0)\n",
    "    ax.plot(xl, yl, color='dodgerblue', lw=2)\n",
    "    ax.plot([0, 1], [0, 1], color='lightgray', linestyle='dotted')\n",
    "    ax.set(xlabel='False Positive Rate', ylabel='True Positive Rate')\n",
    "\n",
    "    # plot the precision recall\n",
    "    fig, ax = plt.subplots(figsize=[4, 4]); ax.grid(False)\n",
    "    xl = np.arange(0, 1.01, 0.01); yls = []\n",
    "    for pre, rec in zip(pres, recs):\n",
    "        ax.plot(rec[::-1], pre[::-1], color='skyblue', linestyle='--', lw=1)\n",
    "        yls.append(np.interp(xl, rec[::-1], pre[::-1]))\n",
    "    yl = np.vstack(yls).mean(0)\n",
    "    ax.plot(xl, yl, color='dodgerblue', lw=2)\n",
    "    ax.plot([0, 1], [0.5]*2, color='lightgray', linestyle='dotted')\n",
    "    ax.set(xlabel='Recall', ylabel='Precision')\n",
    "\n",
    "    from sklearn.metrics import confusion_matrix\n",
    "    # define the results\n",
    "    result = pd.DataFrame(columns=['Truth','PredProb'])\n",
    "    for proba, truth in zip(probas, truths):\n",
    "        result.loc[result.shape[0]] = '+', proba[truth == 1].mean()\n",
    "        result.loc[result.shape[0]] = '-', proba[truth == 0].mean()\n",
    "\n",
    "    # compare the average prediction probabilities\n",
    "    fig, ax = plt.subplots(figsize=[2, 4]); ax.grid(False)\n",
    "    sns.boxplot(x='Truth', y='PredProb', data=result, linewidth=1.5, saturation=1,\n",
    "                showfliers=False, linecolor='dodgerblue', color='skyblue',\n",
    "                order=['-', '+'], palette=['lightgray','skyblue'])\n",
    "    np.random.seed(0)\n",
    "    sns.stripplot(x='Truth', y='PredProb', data=result, jitter=0.4, palette=['dodgerblue'], order=['+'], alpha=0.6, s=6)\n",
    "    sns.stripplot(x='Truth', y='PredProb', data=result, jitter=0.4, palette=['grey'], order=['-'], alpha=0.6, s=6)\n",
    "    ax.set_xlim(-1, 2); ax.set_ylabel('Prediction Probability'); ax.set_xlabel('Ground Truth')\n",
    "    ax.get_children()[0].set_hatch('//')\n",
    "    ax.get_children()[0].set_edgecolor('grey')\n",
    "    for idx in range(1, 6):\n",
    "        ax.get_children()[idx].set_color('grey')\n",
    "\n",
    "    # report statistics\n",
    "    print('p-value for + vs. -:')\n",
    "    print(ss.mannwhitneyu(result.loc[result['Truth'] == '+', 'PredProb'], result.loc[result['Truth'] == '-', 'PredProb']))\n",
    "    print('average:')\n",
    "    print(df_stat.mean(0))\n",
    "    print('95% cis:')\n",
    "    print(df_stat.std(0) / np.sqrt(10) * 1.96)\n",
    "    return df_stat"
   ]
  },
  {
   "cell_type": "markdown",
   "id": "42396c4d-a836-4155-8a1e-0c754e733a75",
   "metadata": {},
   "source": [
    "#### Fetal Donors..."
   ]
  },
  {
   "cell_type": "code",
   "execution_count": null,
   "id": "ba558958-60bb-467d-b117-c400806c1b6a",
   "metadata": {
    "tags": []
   },
   "outputs": [],
   "source": [
    "# define the data to train on\n",
    "X1 = og_trb_suo2022_X.copy()\n",
    "# setup a mask for CD8+ cells\n",
    "y1 = pd.Series(X1.index.str.contains(':CD8'), index=X1.index)\n",
    "print(X1.shape[0], y1.sum(), y1.mean())\n",
    "\n",
    "# define the data to predict on\n",
    "X2 = og_trb_suo2022_X.copy()\n",
    "# setup a mask for CD8+ cells\n",
    "y2 = pd.Series(X2.index.str.contains(':CD8'), index=X2.index)\n",
    "print(X2.shape[0], y2.sum(), y2.mean())\n",
    "\n",
    "# define whether we are to predict on the complete data\n",
    "pred_on_all = False\n",
    "# perform predictions with all\n",
    "df_stat_fetal = interrogate_with_globals()"
   ]
  },
  {
   "cell_type": "markdown",
   "id": "50a85e61-7b57-4e03-8d17-fa3a8a39868c",
   "metadata": {},
   "source": [
    "#### COVID-19 and Adult Healthy Donors..."
   ]
  },
  {
   "cell_type": "code",
   "execution_count": null,
   "id": "eee89ba1-8d41-4f87-a247-bda00da41ded",
   "metadata": {
    "tags": []
   },
   "outputs": [],
   "source": [
    "# define the data to train on\n",
    "X1 = og_trb_su2022_X.copy()\n",
    "# setup a mask for CD8+ cells\n",
    "y1 = pd.Series(X1.index.str.contains(':CD8'), index=X1.index)\n",
    "print(X1.shape[0], y1.sum(), y1.mean())\n",
    "\n",
    "# define the data to predict on\n",
    "X2 = og_trb_su2022_X.copy()\n",
    "# setup a mask for CD8+ cells\n",
    "y2 = pd.Series(X2.index.str.contains(':CD8'), index=X2.index)\n",
    "print(X2.shape[0], y2.sum(), y2.mean())\n",
    "\n",
    "# define whether we are to predict on the complete data\n",
    "pred_on_all = False\n",
    "# perform predictions with all\n",
    "df_stat_covid = interrogate_with_globals()"
   ]
  },
  {
   "cell_type": "markdown",
   "id": "b5296954-804d-4449-a271-4fa3f4ed87eb",
   "metadata": {},
   "source": [
    "#### Pan-Cancer..."
   ]
  },
  {
   "cell_type": "code",
   "execution_count": null,
   "id": "e6e7373e-5cb0-4e61-b809-235038c75393",
   "metadata": {
    "tags": []
   },
   "outputs": [],
   "source": [
    "# define the data to train on\n",
    "X1 = og_trb_zheng2021_X.copy()\n",
    "# setup a mask for CD8+ cells\n",
    "y1 = pd.Series(X1.index.str.contains(':CD8'), index=X1.index)\n",
    "print(X1.shape[0], y1.sum(), y1.mean())\n",
    "\n",
    "# define the data to predict on\n",
    "X2 = og_trb_zheng2021_X.copy()\n",
    "# setup a mask for CD8+ cells\n",
    "y2 = pd.Series(X2.index.str.contains(':CD8'), index=X2.index)\n",
    "print(X2.shape[0], y2.sum(), y2.mean())\n",
    "\n",
    "# define whether we are to predict on the complete data\n",
    "pred_on_all = False\n",
    "# perform predictions with all\n",
    "df_stat_tumor = interrogate_with_globals()"
   ]
  },
  {
   "cell_type": "markdown",
   "id": "e08dceef-ae44-476f-8bc0-e1f4e32a3753",
   "metadata": {},
   "source": [
    "#### Fetal Donors... --> Pan-Cancer..."
   ]
  },
  {
   "cell_type": "code",
   "execution_count": null,
   "id": "3fbe18e2-c74a-42da-aa32-e3baa81114a4",
   "metadata": {
    "tags": []
   },
   "outputs": [],
   "source": [
    "# define the data to train on\n",
    "X1 = og_trb_suo2022_X.copy()\n",
    "# setup a mask for CD8+ cells\n",
    "y1 = pd.Series(X1.index.str.contains(':CD8'), index=X1.index)\n",
    "print(X1.shape[0], y1.sum(), y1.mean())\n",
    "\n",
    "# define the data to predict on\n",
    "X2 = og_trb_zheng2021_X.copy()\n",
    "# setup a mask for CD8+ cells\n",
    "y2 = pd.Series(X2.index.str.contains(':CD8'), index=X2.index)\n",
    "print(X2.shape[0], y2.sum(), y2.mean())\n",
    "\n",
    "# define whether we are to predict on the complete data\n",
    "pred_on_all = True\n",
    "# perform predictions with all\n",
    "df_stat_fetal2tumor = interrogate_with_globals()"
   ]
  },
  {
   "cell_type": "markdown",
   "id": "ec16b2ae-f7c2-4365-afb0-672d31ed81ff",
   "metadata": {},
   "source": [
    "#### Fetal Donors... --> Adult COVID-19 and Healthy Donors..."
   ]
  },
  {
   "cell_type": "code",
   "execution_count": null,
   "id": "0ef049d0-b9f7-460b-a658-98e5328b8169",
   "metadata": {
    "tags": []
   },
   "outputs": [],
   "source": [
    "# define the data to train on\n",
    "X1 = og_trb_suo2022_X.copy()\n",
    "# setup a mask for CD8+ cells\n",
    "y1 = pd.Series(X1.index.str.contains(':CD8'), index=X1.index)\n",
    "print(X1.shape[0], y1.sum(), y1.mean())\n",
    "\n",
    "# define the data to predict on\n",
    "X2 = og_trb_su2022_X.copy()\n",
    "# setup a mask for CD8+ cells\n",
    "y2 = pd.Series(X2.index.str.contains(':CD8'), index=X2.index)\n",
    "print(X2.shape[0], y2.sum(), y2.mean())\n",
    "\n",
    "# define whether we are to predict on the complete data\n",
    "pred_on_all = True\n",
    "# perform predictions with all\n",
    "df_stat_fetal2covid = interrogate_with_globals()"
   ]
  },
  {
   "cell_type": "markdown",
   "id": "7ee92dcb-4227-4f23-b992-8ab27f09102f",
   "metadata": {},
   "source": [
    "#### Fetal Donors... --> Adult COVID-19 and Healthy Donors... + Pan-Cancer..."
   ]
  },
  {
   "cell_type": "code",
   "execution_count": null,
   "id": "f2d68e99-fd9f-4dc8-a1de-714715892fce",
   "metadata": {
    "tags": []
   },
   "outputs": [],
   "source": [
    "# define the data to train on\n",
    "X1 = og_trb_suo2022_X.copy()\n",
    "# setup a mask for CD8+ cells\n",
    "y1 = pd.Series(X1.index.str.contains(':CD8'), index=X1.index)\n",
    "print(X1.shape[0], y1.sum(), y1.mean())\n",
    "\n",
    "# define the data to predict on\n",
    "# > covid-19 and healthy donors\n",
    "X2A = og_trb_su2022_X.copy()\n",
    "# setup a mask for CD8+ cells\n",
    "y2A = pd.Series(X2A.index.str.contains(':CD8'), index=X2A.index)\n",
    "print(X2A.shape[0], y2A.sum(), y2A.mean())\n",
    "# > pan-cancer types\n",
    "X2B = og_trb_zheng2021_X.copy()\n",
    "# setup a mask for CD8+ cells\n",
    "y2B = pd.Series(X2B.index.str.contains(':CD8'), index=X2B.index)\n",
    "print(X2B.shape[0], y2B.sum(), y2B.mean())\n",
    "# > concatenate the two datasets\n",
    "X2 = pd.concat([X2A, X2B], axis=0)\n",
    "y2 = pd.concat([y2A, y2B], axis=0)\n",
    "print(X2.shape[0], y2.sum(), y2.mean())\n",
    "\n",
    "# define whether we are to predict on the complete data\n",
    "pred_on_all = True\n",
    "# perform predictions with all\n",
    "df_stat_fetal2adult = interrogate_with_globals()"
   ]
  },
  {
   "cell_type": "markdown",
   "id": "cf5f6938-9028-4fec-9a69-606e11a3a885",
   "metadata": {},
   "source": [
    "#### Fetal Donors... <-- Pan-Cancer..."
   ]
  },
  {
   "cell_type": "code",
   "execution_count": null,
   "id": "0db3c4f4-de98-447a-9216-35f6ce0493da",
   "metadata": {
    "tags": []
   },
   "outputs": [],
   "source": [
    "# define the data to train on\n",
    "X1 = og_trb_suo2022_X.copy()\n",
    "# setup a mask for CD8+ cells\n",
    "y1 = pd.Series(X1.index.str.contains(':CD8'), index=X1.index)\n",
    "print(X1.shape[0], y1.sum(), y1.mean())\n",
    "\n",
    "# define the data to predict on\n",
    "X2 = og_trb_zheng2021_X.copy()\n",
    "# setup a mask for CD8+ cells\n",
    "y2 = pd.Series(X2.index.str.contains(':CD8'), index=X2.index)\n",
    "print(X2.shape[0], y2.sum(), y2.mean())\n",
    "\n",
    "# reverse the comparison\n",
    "X1, y1, X2, y2 = X2, y2, X1, y1\n",
    "\n",
    "# define whether we are to predict on the complete data\n",
    "pred_on_all = True\n",
    "# perform predictions with all\n",
    "df_stat_tumor2fetal = interrogate_with_globals()"
   ]
  },
  {
   "cell_type": "markdown",
   "id": "3b1d8f8b-e3e9-410e-88f0-81a1fa3addaa",
   "metadata": {},
   "source": [
    "#### Fetal Donors... <-- Adult COVID-19 and Healthy Donors..."
   ]
  },
  {
   "cell_type": "code",
   "execution_count": null,
   "id": "e8a45881-2865-44c8-9086-7e640d57b285",
   "metadata": {
    "tags": []
   },
   "outputs": [],
   "source": [
    "# define the data to train on\n",
    "X1 = og_trb_suo2022_X.copy()\n",
    "# setup a mask for CD8+ cells\n",
    "y1 = pd.Series(X1.index.str.contains(':CD8'), index=X1.index)\n",
    "print(X1.shape[0], y1.sum(), y1.mean())\n",
    "\n",
    "# define the data to predict on\n",
    "X2 = og_trb_su2022_X.copy()\n",
    "# setup a mask for CD8+ cells\n",
    "y2 = pd.Series(X2.index.str.contains(':CD8'), index=X2.index)\n",
    "print(X2.shape[0], y2.sum(), y2.mean())\n",
    "\n",
    "# reverse the comparison\n",
    "X1, y1, X2, y2 = X2, y2, X1, y1\n",
    "\n",
    "# define whether we are to predict on the complete data\n",
    "pred_on_all = True\n",
    "# perform predictions with all\n",
    "df_stat_covid2fetal = interrogate_with_globals()"
   ]
  },
  {
   "cell_type": "markdown",
   "id": "afa9ee08-be70-4933-a279-95d5dd3b2f1b",
   "metadata": {},
   "source": [
    "#### Fetal Donors... <-- Adult COVID-19 and Healthy Donors... + Pan-Cancer..."
   ]
  },
  {
   "cell_type": "code",
   "execution_count": null,
   "id": "7da52426-1f77-45ef-b49b-5d353e76ec0b",
   "metadata": {
    "tags": []
   },
   "outputs": [],
   "source": [
    "# define the data to train on\n",
    "X1 = og_trb_suo2022_X.copy()\n",
    "# setup a mask for CD8+ cells\n",
    "y1 = pd.Series(X1.index.str.contains(':CD8'), index=X1.index)\n",
    "print(X1.shape[0], y1.sum(), y1.mean())\n",
    "\n",
    "# define the data to predict on\n",
    "# > covid-19 and healthy donors\n",
    "X2A = og_trb_su2022_X.copy()\n",
    "# setup a mask for CD8+ cells\n",
    "y2A = pd.Series(X2A.index.str.contains(':CD8'), index=X2A.index)\n",
    "print(X2A.shape[0], y2A.sum(), y2A.mean())\n",
    "# > pan-cancer types\n",
    "X2B = og_trb_zheng2021_X.copy()\n",
    "# setup a mask for CD8+ cells\n",
    "y2B = pd.Series(X2B.index.str.contains(':CD8'), index=X2B.index)\n",
    "print(X2B.shape[0], y2B.sum(), y2B.mean())\n",
    "# > concatenate the two datasets\n",
    "X2 = pd.concat([X2A, X2B], axis=0)\n",
    "y2 = pd.concat([y2A, y2B], axis=0)\n",
    "print(X2.shape[0], y2.sum(), y2.mean())\n",
    "\n",
    "# reverse the comparison\n",
    "X1, y1, X2, y2 = X2, y2, X1, y1\n",
    "\n",
    "# define whether we are to predict on the complete data\n",
    "pred_on_all = True\n",
    "# perform predictions with all\n",
    "df_stat_adult2fetal = interrogate_with_globals()"
   ]
  },
  {
   "cell_type": "markdown",
   "id": "4a4c83cf-6352-4f88-a99a-4fadfb3ee026",
   "metadata": {},
   "source": [
    "#### Adult COVID-19 and Healthy Donors... --> Pan-Cancer..."
   ]
  },
  {
   "cell_type": "code",
   "execution_count": null,
   "id": "8559bd60-be2b-4757-b045-5bbcca42a399",
   "metadata": {
    "tags": []
   },
   "outputs": [],
   "source": [
    "# define the data to train on\n",
    "X1 = og_trb_su2022_X.copy()\n",
    "# setup a mask for CD8+ cells\n",
    "y1 = pd.Series(X1.index.str.contains(':CD8'), index=X2A.index)\n",
    "print(X1.shape[0], y1.sum(), y1.mean())\n",
    "\n",
    "# define the data to predict on\n",
    "X2 = og_trb_zheng2021_X.copy()\n",
    "# setup a mask for CD8+ cells\n",
    "y2 = pd.Series(X2.index.str.contains(':CD8'), index=X2.index)\n",
    "print(X2.shape[0], y2.sum(), y2.mean())\n",
    "\n",
    "# define whether we are to predict on the complete data\n",
    "pred_on_all = True\n",
    "# perform predictions with all\n",
    "df_stat_covid2tumor = interrogate_with_globals()"
   ]
  },
  {
   "cell_type": "markdown",
   "id": "d8afbccd-1867-4121-aa7b-298894060a3f",
   "metadata": {},
   "source": [
    "#### Adult COVID-19 and Healthy Donors... <-- Pan-Cancer..."
   ]
  },
  {
   "cell_type": "code",
   "execution_count": null,
   "id": "50651c8d-64a9-45df-9369-aacf9bea3355",
   "metadata": {
    "tags": []
   },
   "outputs": [],
   "source": [
    "# define the data to train on\n",
    "X1 = og_trb_su2022_X.copy()\n",
    "# setup a mask for CD8+ cells\n",
    "y1 = pd.Series(X1.index.str.contains(':CD8'), index=X2A.index)\n",
    "print(X1.shape[0], y1.sum(), y1.mean())\n",
    "\n",
    "# define the data to predict on\n",
    "X2 = og_trb_zheng2021_X.copy()\n",
    "# setup a mask for CD8+ cells\n",
    "y2 = pd.Series(X2.index.str.contains(':CD8'), index=X2.index)\n",
    "print(X2.shape[0], y2.sum(), y2.mean())\n",
    "\n",
    "# reverse the comparison\n",
    "X1, y1, X2, y2 = X2, y2, X1, y1\n",
    "\n",
    "# define whether we are to predict on the complete data\n",
    "pred_on_all = True\n",
    "# perform predictions with all\n",
    "df_stat_tumor2covid = interrogate_with_globals()"
   ]
  },
  {
   "cell_type": "code",
   "execution_count": null,
   "id": "74510726-5cea-4cfa-92d3-085f8053ac7c",
   "metadata": {
    "tags": []
   },
   "outputs": [],
   "source": [
    "import pickle as pkl\n",
    "# save all of the values\n",
    "df_stats = {'adult2fetal':df_stat_adult2fetal,\n",
    "            'covid2fetal':df_stat_covid2fetal, 'covid2tumor':df_stat_covid2tumor, 'covid':df_stat_covid,\n",
    "            'tumor2covid':df_stat_tumor2covid, 'tumor':df_stat_tumor, 'tumor2fetal':df_stat_tumor2fetal,\n",
    "            'fetal2adult':df_stat_fetal2adult,\n",
    "            'fetal2covid':df_stat_fetal2covid, 'fetal2tumor':df_stat_fetal2tumor, 'fetal':df_stat_fetal,}\n",
    "with open('../outs/250421_cd4vscd8_randomforest100.pkl', 'wb') as f:\n",
    "    pkl.dump(df_stats, f)"
   ]
  },
  {
   "cell_type": "markdown",
   "id": "b182c4d0-39db-4fac-9954-ac1a203ce9a7",
   "metadata": {},
   "source": [
    "### Modeling with Random Forest 200 Trees"
   ]
  },
  {
   "cell_type": "code",
   "execution_count": null,
   "id": "b442cd81-f4d1-49d8-8337-5627fd9f066f",
   "metadata": {
    "tags": []
   },
   "outputs": [],
   "source": [
    "# define a function to interrogate the data\n",
    "def interrogate_with_globals():\n",
    "    # create statistics tracking dataframe\n",
    "    df_stat = pd.DataFrame(columns=['auroc','auprc'])\n",
    "    # create tracking variables for downstream visualization and statistics\n",
    "    probas, probas_bin, truths = [], [], []\n",
    "    fprs, tprs, pres, recs = [], [], [], []\n",
    "    # train utilizing random forest models in a stratified shuffled manner\n",
    "    skf = StratifiedShuffleSplit(n_splits=10, random_state=0, test_size=1/4)\n",
    "    for idxs_train, idxs_test in skf.split(X1, y1):\n",
    "        # instantiate the random forest model\n",
    "        clf = RandomForestClassifier(random_state=0, n_estimators=200)\n",
    "        # fit the random forest model using Dataset #1\n",
    "        clf = clf.fit(X1.iloc[idxs_train], y1.iloc[idxs_train])\n",
    "\n",
    "        # predict on Dataset #2 correcting to all indices if requested\n",
    "        if pred_on_all:\n",
    "            idxs_test = range(X2.shape[0])\n",
    "        # derive the probabilities\n",
    "        proba = clf.predict_proba(X2.iloc[idxs_test])[:, clf.classes_ == 1]\n",
    "        probas.append(pd.Series(proba[:, 0], index=X2.index[idxs_test]))\n",
    "        # binarize into categorical predictions\n",
    "        proba_bin = 1 * (proba >= 0.50)\n",
    "        probas_bin.append(pd.Series(proba_bin[:, 0], index=X2.index[idxs_test]))\n",
    "        # retrieve the associated ground truth\n",
    "        truth = y2.iloc[idxs_test]\n",
    "        truths.append(truth.copy())\n",
    "\n",
    "        # compute subsequent AUROC and AUPRC related metrics\n",
    "        fpr, tpr, _ = roc_curve(truth, proba)\n",
    "        pre, rec, _ = precision_recall_curve(truth, proba)\n",
    "        fprs.append(fpr); tprs.append(tpr); pres.append(pre); recs.append(rec)\n",
    "        # save the relevant statistics\n",
    "        df_stat.loc[df_stat.shape[0]] = auc(fpr, tpr), auc(rec, pre)\n",
    "\n",
    "    # check the difference\n",
    "    for stat in df_stat.columns:\n",
    "        fig, ax = plt.subplots(figsize=[1, 4]); ax.grid(False)\n",
    "        sns.boxplot(y=df_stat[stat], linewidth=1.5, saturation=1, showfliers=False, linecolor='dodgerblue', color='skyblue')\n",
    "        sns.stripplot(y=df_stat[stat], linewidth=1.5, s=6, alpha=0.5, color='skyblue', edgecolor='dodgerblue')\n",
    "        ax.set_xlim(-0.75, 0.75); ax.set_ylabel(stat.upper())\n",
    "        print(stat.upper(), df_stat[stat].mean(), df_stat[stat].std() / np.sqrt(df_stat.shape[0])*1.96)\n",
    "\n",
    "    # plot the FPR, TPR\n",
    "    fig, ax = plt.subplots(figsize=[4, 4]); ax.grid(False)\n",
    "    xl = np.arange(0, 1.01, 0.01); yls = []\n",
    "    for fpr, tpr in zip(fprs, tprs):\n",
    "        ax.plot(fpr, tpr, color='skyblue', linestyle='--', lw=1)\n",
    "        yls.append(np.interp(xl, fpr, tpr))\n",
    "    yl = np.vstack(yls).mean(0)\n",
    "    ax.plot(xl, yl, color='dodgerblue', lw=2)\n",
    "    ax.plot([0, 1], [0, 1], color='lightgray', linestyle='dotted')\n",
    "    ax.set(xlabel='False Positive Rate', ylabel='True Positive Rate')\n",
    "\n",
    "    # plot the precision recall\n",
    "    fig, ax = plt.subplots(figsize=[4, 4]); ax.grid(False)\n",
    "    xl = np.arange(0, 1.01, 0.01); yls = []\n",
    "    for pre, rec in zip(pres, recs):\n",
    "        ax.plot(rec[::-1], pre[::-1], color='skyblue', linestyle='--', lw=1)\n",
    "        yls.append(np.interp(xl, rec[::-1], pre[::-1]))\n",
    "    yl = np.vstack(yls).mean(0)\n",
    "    ax.plot(xl, yl, color='dodgerblue', lw=2)\n",
    "    ax.plot([0, 1], [0.5]*2, color='lightgray', linestyle='dotted')\n",
    "    ax.set(xlabel='Recall', ylabel='Precision')\n",
    "\n",
    "    from sklearn.metrics import confusion_matrix\n",
    "    # define the results\n",
    "    result = pd.DataFrame(columns=['Truth','PredProb'])\n",
    "    for proba, truth in zip(probas, truths):\n",
    "        result.loc[result.shape[0]] = '+', proba[truth == 1].mean()\n",
    "        result.loc[result.shape[0]] = '-', proba[truth == 0].mean()\n",
    "\n",
    "    # compare the average prediction probabilities\n",
    "    fig, ax = plt.subplots(figsize=[2, 4]); ax.grid(False)\n",
    "    sns.boxplot(x='Truth', y='PredProb', data=result, linewidth=1.5, saturation=1,\n",
    "                showfliers=False, linecolor='dodgerblue', color='skyblue',\n",
    "                order=['-', '+'], palette=['lightgray','skyblue'])\n",
    "    np.random.seed(0)\n",
    "    sns.stripplot(x='Truth', y='PredProb', data=result, jitter=0.4, palette=['dodgerblue'], order=['+'], alpha=0.6, s=6)\n",
    "    sns.stripplot(x='Truth', y='PredProb', data=result, jitter=0.4, palette=['grey'], order=['-'], alpha=0.6, s=6)\n",
    "    ax.set_xlim(-1, 2); ax.set_ylabel('Prediction Probability'); ax.set_xlabel('Ground Truth')\n",
    "    ax.get_children()[0].set_hatch('//')\n",
    "    ax.get_children()[0].set_edgecolor('grey')\n",
    "    for idx in range(1, 6):\n",
    "        ax.get_children()[idx].set_color('grey')\n",
    "\n",
    "    # report statistics\n",
    "    print('p-value for + vs. -:')\n",
    "    print(ss.mannwhitneyu(result.loc[result['Truth'] == '+', 'PredProb'], result.loc[result['Truth'] == '-', 'PredProb']))\n",
    "    print('average:')\n",
    "    print(df_stat.mean(0))\n",
    "    print('95% cis:')\n",
    "    print(df_stat.std(0) / np.sqrt(10) * 1.96)\n",
    "    return df_stat"
   ]
  },
  {
   "cell_type": "markdown",
   "id": "6de59f14-1e97-4635-bc29-67c847738876",
   "metadata": {},
   "source": [
    "#### Fetal Donors..."
   ]
  },
  {
   "cell_type": "code",
   "execution_count": null,
   "id": "522f7360-8b7d-4ee9-b228-fdad5a77acda",
   "metadata": {
    "tags": []
   },
   "outputs": [],
   "source": [
    "# define the data to train on\n",
    "X1 = og_trb_suo2022_X.copy()\n",
    "# setup a mask for CD8+ cells\n",
    "y1 = pd.Series(X1.index.str.contains(':CD8'), index=X1.index)\n",
    "print(X1.shape[0], y1.sum(), y1.mean())\n",
    "\n",
    "# define the data to predict on\n",
    "X2 = og_trb_suo2022_X.copy()\n",
    "# setup a mask for CD8+ cells\n",
    "y2 = pd.Series(X2.index.str.contains(':CD8'), index=X2.index)\n",
    "print(X2.shape[0], y2.sum(), y2.mean())\n",
    "\n",
    "# define whether we are to predict on the complete data\n",
    "pred_on_all = False\n",
    "# perform predictions with all\n",
    "df_stat_fetal = interrogate_with_globals()"
   ]
  },
  {
   "cell_type": "markdown",
   "id": "5df9110f-0ee8-4951-ba2e-ced47e88905f",
   "metadata": {},
   "source": [
    "#### COVID-19 and Adult Healthy Donors..."
   ]
  },
  {
   "cell_type": "code",
   "execution_count": null,
   "id": "47d697e0-d87a-49ce-a3ac-b88c163ce1fe",
   "metadata": {
    "tags": []
   },
   "outputs": [],
   "source": [
    "# define the data to train on\n",
    "X1 = og_trb_su2022_X.copy()\n",
    "# setup a mask for CD8+ cells\n",
    "y1 = pd.Series(X1.index.str.contains(':CD8'), index=X1.index)\n",
    "print(X1.shape[0], y1.sum(), y1.mean())\n",
    "\n",
    "# define the data to predict on\n",
    "X2 = og_trb_su2022_X.copy()\n",
    "# setup a mask for CD8+ cells\n",
    "y2 = pd.Series(X2.index.str.contains(':CD8'), index=X2.index)\n",
    "print(X2.shape[0], y2.sum(), y2.mean())\n",
    "\n",
    "# define whether we are to predict on the complete data\n",
    "pred_on_all = False\n",
    "# perform predictions with all\n",
    "df_stat_covid = interrogate_with_globals()"
   ]
  },
  {
   "cell_type": "markdown",
   "id": "6364b27e-f1a3-4e25-9be7-5b8fc1b267ee",
   "metadata": {},
   "source": [
    "#### Pan-Cancer..."
   ]
  },
  {
   "cell_type": "code",
   "execution_count": null,
   "id": "e39acc2d-da32-4e44-955e-4daab9535708",
   "metadata": {
    "tags": []
   },
   "outputs": [],
   "source": [
    "# define the data to train on\n",
    "X1 = og_trb_zheng2021_X.copy()\n",
    "# setup a mask for CD8+ cells\n",
    "y1 = pd.Series(X1.index.str.contains(':CD8'), index=X1.index)\n",
    "print(X1.shape[0], y1.sum(), y1.mean())\n",
    "\n",
    "# define the data to predict on\n",
    "X2 = og_trb_zheng2021_X.copy()\n",
    "# setup a mask for CD8+ cells\n",
    "y2 = pd.Series(X2.index.str.contains(':CD8'), index=X2.index)\n",
    "print(X2.shape[0], y2.sum(), y2.mean())\n",
    "\n",
    "# define whether we are to predict on the complete data\n",
    "pred_on_all = False\n",
    "# perform predictions with all\n",
    "df_stat_tumor = interrogate_with_globals()"
   ]
  },
  {
   "cell_type": "markdown",
   "id": "e2123fa5-44d7-44b2-a634-a58e4e94a6b6",
   "metadata": {},
   "source": [
    "#### Fetal Donors... --> Pan-Cancer..."
   ]
  },
  {
   "cell_type": "code",
   "execution_count": null,
   "id": "58800462-c5ee-406d-8959-780034615e43",
   "metadata": {
    "tags": []
   },
   "outputs": [],
   "source": [
    "# define the data to train on\n",
    "X1 = og_trb_suo2022_X.copy()\n",
    "# setup a mask for CD8+ cells\n",
    "y1 = pd.Series(X1.index.str.contains(':CD8'), index=X1.index)\n",
    "print(X1.shape[0], y1.sum(), y1.mean())\n",
    "\n",
    "# define the data to predict on\n",
    "X2 = og_trb_zheng2021_X.copy()\n",
    "# setup a mask for CD8+ cells\n",
    "y2 = pd.Series(X2.index.str.contains(':CD8'), index=X2.index)\n",
    "print(X2.shape[0], y2.sum(), y2.mean())\n",
    "\n",
    "# define whether we are to predict on the complete data\n",
    "pred_on_all = True\n",
    "# perform predictions with all\n",
    "df_stat_fetal2tumor = interrogate_with_globals()"
   ]
  },
  {
   "cell_type": "markdown",
   "id": "e13c9d00-b1e1-48a7-bf40-eede7c2a1022",
   "metadata": {},
   "source": [
    "#### Fetal Donors... --> Adult COVID-19 and Healthy Donors..."
   ]
  },
  {
   "cell_type": "code",
   "execution_count": null,
   "id": "aa8b7e35-fa27-4b55-9ab6-469707803a7b",
   "metadata": {
    "tags": []
   },
   "outputs": [],
   "source": [
    "# define the data to train on\n",
    "X1 = og_trb_suo2022_X.copy()\n",
    "# setup a mask for CD8+ cells\n",
    "y1 = pd.Series(X1.index.str.contains(':CD8'), index=X1.index)\n",
    "print(X1.shape[0], y1.sum(), y1.mean())\n",
    "\n",
    "# define the data to predict on\n",
    "X2 = og_trb_su2022_X.copy()\n",
    "# setup a mask for CD8+ cells\n",
    "y2 = pd.Series(X2.index.str.contains(':CD8'), index=X2.index)\n",
    "print(X2.shape[0], y2.sum(), y2.mean())\n",
    "\n",
    "# define whether we are to predict on the complete data\n",
    "pred_on_all = True\n",
    "# perform predictions with all\n",
    "df_stat_fetal2covid = interrogate_with_globals()"
   ]
  },
  {
   "cell_type": "markdown",
   "id": "4900d85a-132c-44ce-a355-e9ba70cd1d14",
   "metadata": {},
   "source": [
    "#### Fetal Donors... --> Adult COVID-19 and Healthy Donors... + Pan-Cancer..."
   ]
  },
  {
   "cell_type": "code",
   "execution_count": null,
   "id": "6e354163-f00b-40e9-8b12-ffb4886f56f7",
   "metadata": {
    "tags": []
   },
   "outputs": [],
   "source": [
    "# define the data to train on\n",
    "X1 = og_trb_suo2022_X.copy()\n",
    "# setup a mask for CD8+ cells\n",
    "y1 = pd.Series(X1.index.str.contains(':CD8'), index=X1.index)\n",
    "print(X1.shape[0], y1.sum(), y1.mean())\n",
    "\n",
    "# define the data to predict on\n",
    "# > covid-19 and healthy donors\n",
    "X2A = og_trb_su2022_X.copy()\n",
    "# setup a mask for CD8+ cells\n",
    "y2A = pd.Series(X2A.index.str.contains(':CD8'), index=X2A.index)\n",
    "print(X2A.shape[0], y2A.sum(), y2A.mean())\n",
    "# > pan-cancer types\n",
    "X2B = og_trb_zheng2021_X.copy()\n",
    "# setup a mask for CD8+ cells\n",
    "y2B = pd.Series(X2B.index.str.contains(':CD8'), index=X2B.index)\n",
    "print(X2B.shape[0], y2B.sum(), y2B.mean())\n",
    "# > concatenate the two datasets\n",
    "X2 = pd.concat([X2A, X2B], axis=0)\n",
    "y2 = pd.concat([y2A, y2B], axis=0)\n",
    "print(X2.shape[0], y2.sum(), y2.mean())\n",
    "\n",
    "# define whether we are to predict on the complete data\n",
    "pred_on_all = True\n",
    "# perform predictions with all\n",
    "df_stat_fetal2adult = interrogate_with_globals()"
   ]
  },
  {
   "cell_type": "markdown",
   "id": "80ec2014-553e-49f7-87af-6374a0f1f305",
   "metadata": {},
   "source": [
    "#### Fetal Donors... <-- Pan-Cancer..."
   ]
  },
  {
   "cell_type": "code",
   "execution_count": null,
   "id": "e5026a8c-34fd-478e-868a-f8252ac626b0",
   "metadata": {
    "tags": []
   },
   "outputs": [],
   "source": [
    "# define the data to train on\n",
    "X1 = og_trb_suo2022_X.copy()\n",
    "# setup a mask for CD8+ cells\n",
    "y1 = pd.Series(X1.index.str.contains(':CD8'), index=X1.index)\n",
    "print(X1.shape[0], y1.sum(), y1.mean())\n",
    "\n",
    "# define the data to predict on\n",
    "X2 = og_trb_zheng2021_X.copy()\n",
    "# setup a mask for CD8+ cells\n",
    "y2 = pd.Series(X2.index.str.contains(':CD8'), index=X2.index)\n",
    "print(X2.shape[0], y2.sum(), y2.mean())\n",
    "\n",
    "# reverse the comparison\n",
    "X1, y1, X2, y2 = X2, y2, X1, y1\n",
    "\n",
    "# define whether we are to predict on the complete data\n",
    "pred_on_all = True\n",
    "# perform predictions with all\n",
    "df_stat_tumor2fetal = interrogate_with_globals()"
   ]
  },
  {
   "cell_type": "markdown",
   "id": "e67c43c7-867f-4c9b-86dd-5ad2aca348d0",
   "metadata": {},
   "source": [
    "#### Fetal Donors... <-- Adult COVID-19 and Healthy Donors..."
   ]
  },
  {
   "cell_type": "code",
   "execution_count": null,
   "id": "cfc61b2d-e7bc-468a-95bd-00f402bbf80e",
   "metadata": {
    "tags": []
   },
   "outputs": [],
   "source": [
    "# define the data to train on\n",
    "X1 = og_trb_suo2022_X.copy()\n",
    "# setup a mask for CD8+ cells\n",
    "y1 = pd.Series(X1.index.str.contains(':CD8'), index=X1.index)\n",
    "print(X1.shape[0], y1.sum(), y1.mean())\n",
    "\n",
    "# define the data to predict on\n",
    "X2 = og_trb_su2022_X.copy()\n",
    "# setup a mask for CD8+ cells\n",
    "y2 = pd.Series(X2.index.str.contains(':CD8'), index=X2.index)\n",
    "print(X2.shape[0], y2.sum(), y2.mean())\n",
    "\n",
    "# reverse the comparison\n",
    "X1, y1, X2, y2 = X2, y2, X1, y1\n",
    "\n",
    "# define whether we are to predict on the complete data\n",
    "pred_on_all = True\n",
    "# perform predictions with all\n",
    "df_stat_covid2fetal = interrogate_with_globals()"
   ]
  },
  {
   "cell_type": "markdown",
   "id": "dc8c43f2-14fc-4301-93d4-f9c273e50806",
   "metadata": {},
   "source": [
    "#### Fetal Donors... <-- Adult COVID-19 and Healthy Donors... + Pan-Cancer..."
   ]
  },
  {
   "cell_type": "code",
   "execution_count": null,
   "id": "9db01b78-e540-484a-81f5-97c6934fe0f6",
   "metadata": {
    "tags": []
   },
   "outputs": [],
   "source": [
    "# define the data to train on\n",
    "X1 = og_trb_suo2022_X.copy()\n",
    "# setup a mask for CD8+ cells\n",
    "y1 = pd.Series(X1.index.str.contains(':CD8'), index=X1.index)\n",
    "print(X1.shape[0], y1.sum(), y1.mean())\n",
    "\n",
    "# define the data to predict on\n",
    "# > covid-19 and healthy donors\n",
    "X2A = og_trb_su2022_X.copy()\n",
    "# setup a mask for CD8+ cells\n",
    "y2A = pd.Series(X2A.index.str.contains(':CD8'), index=X2A.index)\n",
    "print(X2A.shape[0], y2A.sum(), y2A.mean())\n",
    "# > pan-cancer types\n",
    "X2B = og_trb_zheng2021_X.copy()\n",
    "# setup a mask for CD8+ cells\n",
    "y2B = pd.Series(X2B.index.str.contains(':CD8'), index=X2B.index)\n",
    "print(X2B.shape[0], y2B.sum(), y2B.mean())\n",
    "# > concatenate the two datasets\n",
    "X2 = pd.concat([X2A, X2B], axis=0)\n",
    "y2 = pd.concat([y2A, y2B], axis=0)\n",
    "print(X2.shape[0], y2.sum(), y2.mean())\n",
    "\n",
    "# reverse the comparison\n",
    "X1, y1, X2, y2 = X2, y2, X1, y1\n",
    "\n",
    "# define whether we are to predict on the complete data\n",
    "pred_on_all = True\n",
    "# perform predictions with all\n",
    "df_stat_adult2fetal = interrogate_with_globals()"
   ]
  },
  {
   "cell_type": "markdown",
   "id": "04cef3c5-8e13-42dd-a981-5e2e6837ae9a",
   "metadata": {},
   "source": [
    "#### Adult COVID-19 and Healthy Donors... --> Pan-Cancer..."
   ]
  },
  {
   "cell_type": "code",
   "execution_count": null,
   "id": "770034a9-ae6d-460e-b7cf-a699f79405c0",
   "metadata": {
    "tags": []
   },
   "outputs": [],
   "source": [
    "# define the data to train on\n",
    "X1 = og_trb_su2022_X.copy()\n",
    "# setup a mask for CD8+ cells\n",
    "y1 = pd.Series(X1.index.str.contains(':CD8'), index=X2A.index)\n",
    "print(X1.shape[0], y1.sum(), y1.mean())\n",
    "\n",
    "# define the data to predict on\n",
    "X2 = og_trb_zheng2021_X.copy()\n",
    "# setup a mask for CD8+ cells\n",
    "y2 = pd.Series(X2.index.str.contains(':CD8'), index=X2.index)\n",
    "print(X2.shape[0], y2.sum(), y2.mean())\n",
    "\n",
    "# define whether we are to predict on the complete data\n",
    "pred_on_all = True\n",
    "# perform predictions with all\n",
    "df_stat_covid2tumor = interrogate_with_globals()"
   ]
  },
  {
   "cell_type": "markdown",
   "id": "f914f34a-a5f8-4de3-bb09-86ea22e9098c",
   "metadata": {},
   "source": [
    "#### Adult COVID-19 and Healthy Donors... <-- Pan-Cancer..."
   ]
  },
  {
   "cell_type": "code",
   "execution_count": null,
   "id": "d652971a-d43f-41ce-80ac-ce0e177e5b7f",
   "metadata": {
    "tags": []
   },
   "outputs": [],
   "source": [
    "# define the data to train on\n",
    "X1 = og_trb_su2022_X.copy()\n",
    "# setup a mask for CD8+ cells\n",
    "y1 = pd.Series(X1.index.str.contains(':CD8'), index=X2A.index)\n",
    "print(X1.shape[0], y1.sum(), y1.mean())\n",
    "\n",
    "# define the data to predict on\n",
    "X2 = og_trb_zheng2021_X.copy()\n",
    "# setup a mask for CD8+ cells\n",
    "y2 = pd.Series(X2.index.str.contains(':CD8'), index=X2.index)\n",
    "print(X2.shape[0], y2.sum(), y2.mean())\n",
    "\n",
    "# reverse the comparison\n",
    "X1, y1, X2, y2 = X2, y2, X1, y1\n",
    "\n",
    "# define whether we are to predict on the complete data\n",
    "pred_on_all = True\n",
    "# perform predictions with all\n",
    "df_stat_tumor2covid = interrogate_with_globals()"
   ]
  },
  {
   "cell_type": "code",
   "execution_count": null,
   "id": "6591bc7c-c526-4431-a845-9fc760677520",
   "metadata": {
    "tags": []
   },
   "outputs": [],
   "source": [
    "import pickle as pkl\n",
    "# save all of the values\n",
    "df_stats = {'adult2fetal':df_stat_adult2fetal,\n",
    "            'covid2fetal':df_stat_covid2fetal, 'covid2tumor':df_stat_covid2tumor, 'covid':df_stat_covid,\n",
    "            'tumor2covid':df_stat_tumor2covid, 'tumor':df_stat_tumor, 'tumor2fetal':df_stat_tumor2fetal,\n",
    "            'fetal2adult':df_stat_fetal2adult,\n",
    "            'fetal2covid':df_stat_fetal2covid, 'fetal2tumor':df_stat_fetal2tumor, 'fetal':df_stat_fetal,}\n",
    "with open('../outs/250421_cd4vscd8_randomforest200.pkl', 'wb') as f:\n",
    "    pkl.dump(df_stats, f)"
   ]
  },
  {
   "cell_type": "markdown",
   "id": "c9d3eb16-a985-4c4f-8385-f70502de75a9",
   "metadata": {},
   "source": [
    "### Modeling with Random Forest 500 Trees"
   ]
  },
  {
   "cell_type": "code",
   "execution_count": null,
   "id": "4495153c-c910-44b4-a3be-1e5b10bcca5e",
   "metadata": {
    "tags": []
   },
   "outputs": [],
   "source": [
    "# define a function to interrogate the data\n",
    "def interrogate_with_globals():\n",
    "    # create statistics tracking dataframe\n",
    "    df_stat = pd.DataFrame(columns=['auroc','auprc'])\n",
    "    # create tracking variables for downstream visualization and statistics\n",
    "    probas, probas_bin, truths = [], [], []\n",
    "    fprs, tprs, pres, recs = [], [], [], []\n",
    "    # train utilizing random forest models in a stratified shuffled manner\n",
    "    skf = StratifiedShuffleSplit(n_splits=10, random_state=0, test_size=1/4)\n",
    "    for idxs_train, idxs_test in skf.split(X1, y1):\n",
    "        # instantiate the random forest model\n",
    "        clf = RandomForestClassifier(random_state=0, n_estimators=500)\n",
    "        # fit the random forest model using Dataset #1\n",
    "        clf = clf.fit(X1.iloc[idxs_train], y1.iloc[idxs_train])\n",
    "\n",
    "        # predict on Dataset #2 correcting to all indices if requested\n",
    "        if pred_on_all:\n",
    "            idxs_test = range(X2.shape[0])\n",
    "        # derive the probabilities\n",
    "        proba = clf.predict_proba(X2.iloc[idxs_test])[:, clf.classes_ == 1]\n",
    "        probas.append(pd.Series(proba[:, 0], index=X2.index[idxs_test]))\n",
    "        # binarize into categorical predictions\n",
    "        proba_bin = 1 * (proba >= 0.50)\n",
    "        probas_bin.append(pd.Series(proba_bin[:, 0], index=X2.index[idxs_test]))\n",
    "        # retrieve the associated ground truth\n",
    "        truth = y2.iloc[idxs_test]\n",
    "        truths.append(truth.copy())\n",
    "\n",
    "        # compute subsequent AUROC and AUPRC related metrics\n",
    "        fpr, tpr, _ = roc_curve(truth, proba)\n",
    "        pre, rec, _ = precision_recall_curve(truth, proba)\n",
    "        fprs.append(fpr); tprs.append(tpr); pres.append(pre); recs.append(rec)\n",
    "        # save the relevant statistics\n",
    "        df_stat.loc[df_stat.shape[0]] = auc(fpr, tpr), auc(rec, pre)\n",
    "\n",
    "    # check the difference\n",
    "    for stat in df_stat.columns:\n",
    "        fig, ax = plt.subplots(figsize=[1, 4]); ax.grid(False)\n",
    "        sns.boxplot(y=df_stat[stat], linewidth=1.5, saturation=1, showfliers=False, linecolor='dodgerblue', color='skyblue')\n",
    "        sns.stripplot(y=df_stat[stat], linewidth=1.5, s=6, alpha=0.5, color='skyblue', edgecolor='dodgerblue')\n",
    "        ax.set_xlim(-0.75, 0.75); ax.set_ylabel(stat.upper())\n",
    "        print(stat.upper(), df_stat[stat].mean(), df_stat[stat].std() / np.sqrt(df_stat.shape[0])*1.96)\n",
    "\n",
    "    # plot the FPR, TPR\n",
    "    fig, ax = plt.subplots(figsize=[4, 4]); ax.grid(False)\n",
    "    xl = np.arange(0, 1.01, 0.01); yls = []\n",
    "    for fpr, tpr in zip(fprs, tprs):\n",
    "        ax.plot(fpr, tpr, color='skyblue', linestyle='--', lw=1)\n",
    "        yls.append(np.interp(xl, fpr, tpr))\n",
    "    yl = np.vstack(yls).mean(0)\n",
    "    ax.plot(xl, yl, color='dodgerblue', lw=2)\n",
    "    ax.plot([0, 1], [0, 1], color='lightgray', linestyle='dotted')\n",
    "    ax.set(xlabel='False Positive Rate', ylabel='True Positive Rate')\n",
    "\n",
    "    # plot the precision recall\n",
    "    fig, ax = plt.subplots(figsize=[4, 4]); ax.grid(False)\n",
    "    xl = np.arange(0, 1.01, 0.01); yls = []\n",
    "    for pre, rec in zip(pres, recs):\n",
    "        ax.plot(rec[::-1], pre[::-1], color='skyblue', linestyle='--', lw=1)\n",
    "        yls.append(np.interp(xl, rec[::-1], pre[::-1]))\n",
    "    yl = np.vstack(yls).mean(0)\n",
    "    ax.plot(xl, yl, color='dodgerblue', lw=2)\n",
    "    ax.plot([0, 1], [0.5]*2, color='lightgray', linestyle='dotted')\n",
    "    ax.set(xlabel='Recall', ylabel='Precision')\n",
    "\n",
    "    from sklearn.metrics import confusion_matrix\n",
    "    # define the results\n",
    "    result = pd.DataFrame(columns=['Truth','PredProb'])\n",
    "    for proba, truth in zip(probas, truths):\n",
    "        result.loc[result.shape[0]] = '+', proba[truth == 1].mean()\n",
    "        result.loc[result.shape[0]] = '-', proba[truth == 0].mean()\n",
    "\n",
    "    # compare the average prediction probabilities\n",
    "    fig, ax = plt.subplots(figsize=[2, 4]); ax.grid(False)\n",
    "    sns.boxplot(x='Truth', y='PredProb', data=result, linewidth=1.5, saturation=1,\n",
    "                showfliers=False, linecolor='dodgerblue', color='skyblue',\n",
    "                order=['-', '+'], palette=['lightgray','skyblue'])\n",
    "    np.random.seed(0)\n",
    "    sns.stripplot(x='Truth', y='PredProb', data=result, jitter=0.4, palette=['dodgerblue'], order=['+'], alpha=0.6, s=6)\n",
    "    sns.stripplot(x='Truth', y='PredProb', data=result, jitter=0.4, palette=['grey'], order=['-'], alpha=0.6, s=6)\n",
    "    ax.set_xlim(-1, 2); ax.set_ylabel('Prediction Probability'); ax.set_xlabel('Ground Truth')\n",
    "    ax.get_children()[0].set_hatch('//')\n",
    "    ax.get_children()[0].set_edgecolor('grey')\n",
    "    for idx in range(1, 6):\n",
    "        ax.get_children()[idx].set_color('grey')\n",
    "\n",
    "    # report statistics\n",
    "    print('p-value for + vs. -:')\n",
    "    print(ss.mannwhitneyu(result.loc[result['Truth'] == '+', 'PredProb'], result.loc[result['Truth'] == '-', 'PredProb']))\n",
    "    print('average:')\n",
    "    print(df_stat.mean(0))\n",
    "    print('95% cis:')\n",
    "    print(df_stat.std(0) / np.sqrt(10) * 1.96)\n",
    "    return df_stat"
   ]
  },
  {
   "cell_type": "markdown",
   "id": "6ff0cf67-e2e5-40b5-9ef5-74eb00d547d2",
   "metadata": {},
   "source": [
    "#### Fetal Donors..."
   ]
  },
  {
   "cell_type": "code",
   "execution_count": null,
   "id": "3ac12394-ee51-4235-81ba-879db3370fbd",
   "metadata": {
    "tags": []
   },
   "outputs": [],
   "source": [
    "# define the data to train on\n",
    "X1 = og_trb_suo2022_X.copy()\n",
    "# setup a mask for CD8+ cells\n",
    "y1 = pd.Series(X1.index.str.contains(':CD8'), index=X1.index)\n",
    "print(X1.shape[0], y1.sum(), y1.mean())\n",
    "\n",
    "# define the data to predict on\n",
    "X2 = og_trb_suo2022_X.copy()\n",
    "# setup a mask for CD8+ cells\n",
    "y2 = pd.Series(X2.index.str.contains(':CD8'), index=X2.index)\n",
    "print(X2.shape[0], y2.sum(), y2.mean())\n",
    "\n",
    "# define whether we are to predict on the complete data\n",
    "pred_on_all = False\n",
    "# perform predictions with all\n",
    "df_stat_fetal = interrogate_with_globals()"
   ]
  },
  {
   "cell_type": "markdown",
   "id": "f544e52f-1b1c-43d3-9982-2ee92a36e767",
   "metadata": {},
   "source": [
    "#### COVID-19 and Adult Healthy Donors..."
   ]
  },
  {
   "cell_type": "code",
   "execution_count": null,
   "id": "09cf02e4-e4a0-4918-b76d-cf5bfbb56200",
   "metadata": {
    "tags": []
   },
   "outputs": [],
   "source": [
    "# define the data to train on\n",
    "X1 = og_trb_su2022_X.copy()\n",
    "# setup a mask for CD8+ cells\n",
    "y1 = pd.Series(X1.index.str.contains(':CD8'), index=X1.index)\n",
    "print(X1.shape[0], y1.sum(), y1.mean())\n",
    "\n",
    "# define the data to predict on\n",
    "X2 = og_trb_su2022_X.copy()\n",
    "# setup a mask for CD8+ cells\n",
    "y2 = pd.Series(X2.index.str.contains(':CD8'), index=X2.index)\n",
    "print(X2.shape[0], y2.sum(), y2.mean())\n",
    "\n",
    "# define whether we are to predict on the complete data\n",
    "pred_on_all = False\n",
    "# perform predictions with all\n",
    "df_stat_covid = interrogate_with_globals()"
   ]
  },
  {
   "cell_type": "markdown",
   "id": "fbecaa44-103f-448e-8a20-d928cfd16e03",
   "metadata": {},
   "source": [
    "#### Pan-Cancer..."
   ]
  },
  {
   "cell_type": "code",
   "execution_count": null,
   "id": "ac73cf3c-e460-4477-97cf-d41a4b4f1a6f",
   "metadata": {
    "tags": []
   },
   "outputs": [],
   "source": [
    "# define the data to train on\n",
    "X1 = og_trb_zheng2021_X.copy()\n",
    "# setup a mask for CD8+ cells\n",
    "y1 = pd.Series(X1.index.str.contains(':CD8'), index=X1.index)\n",
    "print(X1.shape[0], y1.sum(), y1.mean())\n",
    "\n",
    "# define the data to predict on\n",
    "X2 = og_trb_zheng2021_X.copy()\n",
    "# setup a mask for CD8+ cells\n",
    "y2 = pd.Series(X2.index.str.contains(':CD8'), index=X2.index)\n",
    "print(X2.shape[0], y2.sum(), y2.mean())\n",
    "\n",
    "# define whether we are to predict on the complete data\n",
    "pred_on_all = False\n",
    "# perform predictions with all\n",
    "df_stat_tumor = interrogate_with_globals()"
   ]
  },
  {
   "cell_type": "markdown",
   "id": "e7b5b233-67bc-41b0-b004-d5c66af46b46",
   "metadata": {},
   "source": [
    "#### Fetal Donors... --> Pan-Cancer..."
   ]
  },
  {
   "cell_type": "code",
   "execution_count": null,
   "id": "21875841-359a-4a98-bad0-d2a021fa100e",
   "metadata": {
    "tags": []
   },
   "outputs": [],
   "source": [
    "# define the data to train on\n",
    "X1 = og_trb_suo2022_X.copy()\n",
    "# setup a mask for CD8+ cells\n",
    "y1 = pd.Series(X1.index.str.contains(':CD8'), index=X1.index)\n",
    "print(X1.shape[0], y1.sum(), y1.mean())\n",
    "\n",
    "# define the data to predict on\n",
    "X2 = og_trb_zheng2021_X.copy()\n",
    "# setup a mask for CD8+ cells\n",
    "y2 = pd.Series(X2.index.str.contains(':CD8'), index=X2.index)\n",
    "print(X2.shape[0], y2.sum(), y2.mean())\n",
    "\n",
    "# define whether we are to predict on the complete data\n",
    "pred_on_all = True\n",
    "# perform predictions with all\n",
    "df_stat_fetal2tumor = interrogate_with_globals()"
   ]
  },
  {
   "cell_type": "markdown",
   "id": "854954a9-6319-42ea-9c4d-7440892c2e7c",
   "metadata": {},
   "source": [
    "#### Fetal Donors... --> Adult COVID-19 and Healthy Donors..."
   ]
  },
  {
   "cell_type": "code",
   "execution_count": null,
   "id": "809d0cfe-7f09-496f-a692-d52a2b66950c",
   "metadata": {
    "tags": []
   },
   "outputs": [],
   "source": [
    "# define the data to train on\n",
    "X1 = og_trb_suo2022_X.copy()\n",
    "# setup a mask for CD8+ cells\n",
    "y1 = pd.Series(X1.index.str.contains(':CD8'), index=X1.index)\n",
    "print(X1.shape[0], y1.sum(), y1.mean())\n",
    "\n",
    "# define the data to predict on\n",
    "X2 = og_trb_su2022_X.copy()\n",
    "# setup a mask for CD8+ cells\n",
    "y2 = pd.Series(X2.index.str.contains(':CD8'), index=X2.index)\n",
    "print(X2.shape[0], y2.sum(), y2.mean())\n",
    "\n",
    "# define whether we are to predict on the complete data\n",
    "pred_on_all = True\n",
    "# perform predictions with all\n",
    "df_stat_fetal2covid = interrogate_with_globals()"
   ]
  },
  {
   "cell_type": "markdown",
   "id": "f15d5955-a721-4523-b752-5329717bad53",
   "metadata": {},
   "source": [
    "#### Fetal Donors... --> Adult COVID-19 and Healthy Donors... + Pan-Cancer..."
   ]
  },
  {
   "cell_type": "code",
   "execution_count": null,
   "id": "f07a341d-bfa9-4c9f-ad87-ed11f8a00dde",
   "metadata": {
    "tags": []
   },
   "outputs": [],
   "source": [
    "# define the data to train on\n",
    "X1 = og_trb_suo2022_X.copy()\n",
    "# setup a mask for CD8+ cells\n",
    "y1 = pd.Series(X1.index.str.contains(':CD8'), index=X1.index)\n",
    "print(X1.shape[0], y1.sum(), y1.mean())\n",
    "\n",
    "# define the data to predict on\n",
    "# > covid-19 and healthy donors\n",
    "X2A = og_trb_su2022_X.copy()\n",
    "# setup a mask for CD8+ cells\n",
    "y2A = pd.Series(X2A.index.str.contains(':CD8'), index=X2A.index)\n",
    "print(X2A.shape[0], y2A.sum(), y2A.mean())\n",
    "# > pan-cancer types\n",
    "X2B = og_trb_zheng2021_X.copy()\n",
    "# setup a mask for CD8+ cells\n",
    "y2B = pd.Series(X2B.index.str.contains(':CD8'), index=X2B.index)\n",
    "print(X2B.shape[0], y2B.sum(), y2B.mean())\n",
    "# > concatenate the two datasets\n",
    "X2 = pd.concat([X2A, X2B], axis=0)\n",
    "y2 = pd.concat([y2A, y2B], axis=0)\n",
    "print(X2.shape[0], y2.sum(), y2.mean())\n",
    "\n",
    "# define whether we are to predict on the complete data\n",
    "pred_on_all = True\n",
    "# perform predictions with all\n",
    "df_stat_fetal2adult = interrogate_with_globals()"
   ]
  },
  {
   "cell_type": "markdown",
   "id": "c1d5434e-dda6-4e19-8e37-e8c8564c7eb5",
   "metadata": {},
   "source": [
    "#### Fetal Donors... <-- Pan-Cancer..."
   ]
  },
  {
   "cell_type": "code",
   "execution_count": null,
   "id": "fc814e95-6426-41df-a95f-89de79892d4c",
   "metadata": {
    "tags": []
   },
   "outputs": [],
   "source": [
    "# define the data to train on\n",
    "X1 = og_trb_suo2022_X.copy()\n",
    "# setup a mask for CD8+ cells\n",
    "y1 = pd.Series(X1.index.str.contains(':CD8'), index=X1.index)\n",
    "print(X1.shape[0], y1.sum(), y1.mean())\n",
    "\n",
    "# define the data to predict on\n",
    "X2 = og_trb_zheng2021_X.copy()\n",
    "# setup a mask for CD8+ cells\n",
    "y2 = pd.Series(X2.index.str.contains(':CD8'), index=X2.index)\n",
    "print(X2.shape[0], y2.sum(), y2.mean())\n",
    "\n",
    "# reverse the comparison\n",
    "X1, y1, X2, y2 = X2, y2, X1, y1\n",
    "\n",
    "# define whether we are to predict on the complete data\n",
    "pred_on_all = True\n",
    "# perform predictions with all\n",
    "df_stat_tumor2fetal = interrogate_with_globals()"
   ]
  },
  {
   "cell_type": "markdown",
   "id": "7314ec2d-d89f-48de-89a0-81475d86e7c9",
   "metadata": {},
   "source": [
    "#### Fetal Donors... <-- Adult COVID-19 and Healthy Donors..."
   ]
  },
  {
   "cell_type": "code",
   "execution_count": null,
   "id": "35288a0e-2939-41c9-8886-50440c08b97c",
   "metadata": {
    "tags": []
   },
   "outputs": [],
   "source": [
    "# define the data to train on\n",
    "X1 = og_trb_suo2022_X.copy()\n",
    "# setup a mask for CD8+ cells\n",
    "y1 = pd.Series(X1.index.str.contains(':CD8'), index=X1.index)\n",
    "print(X1.shape[0], y1.sum(), y1.mean())\n",
    "\n",
    "# define the data to predict on\n",
    "X2 = og_trb_su2022_X.copy()\n",
    "# setup a mask for CD8+ cells\n",
    "y2 = pd.Series(X2.index.str.contains(':CD8'), index=X2.index)\n",
    "print(X2.shape[0], y2.sum(), y2.mean())\n",
    "\n",
    "# reverse the comparison\n",
    "X1, y1, X2, y2 = X2, y2, X1, y1\n",
    "\n",
    "# define whether we are to predict on the complete data\n",
    "pred_on_all = True\n",
    "# perform predictions with all\n",
    "df_stat_covid2fetal = interrogate_with_globals()"
   ]
  },
  {
   "cell_type": "markdown",
   "id": "ef002084-82c3-4f22-9579-2ad30fc1ae4d",
   "metadata": {},
   "source": [
    "#### Fetal Donors... <-- Adult COVID-19 and Healthy Donors... + Pan-Cancer..."
   ]
  },
  {
   "cell_type": "code",
   "execution_count": null,
   "id": "6a6bc473-5689-4b48-9a98-610d46affb0e",
   "metadata": {
    "tags": []
   },
   "outputs": [],
   "source": [
    "# define the data to train on\n",
    "X1 = og_trb_suo2022_X.copy()\n",
    "# setup a mask for CD8+ cells\n",
    "y1 = pd.Series(X1.index.str.contains(':CD8'), index=X1.index)\n",
    "print(X1.shape[0], y1.sum(), y1.mean())\n",
    "\n",
    "# define the data to predict on\n",
    "# > covid-19 and healthy donors\n",
    "X2A = og_trb_su2022_X.copy()\n",
    "# setup a mask for CD8+ cells\n",
    "y2A = pd.Series(X2A.index.str.contains(':CD8'), index=X2A.index)\n",
    "print(X2A.shape[0], y2A.sum(), y2A.mean())\n",
    "# > pan-cancer types\n",
    "X2B = og_trb_zheng2021_X.copy()\n",
    "# setup a mask for CD8+ cells\n",
    "y2B = pd.Series(X2B.index.str.contains(':CD8'), index=X2B.index)\n",
    "print(X2B.shape[0], y2B.sum(), y2B.mean())\n",
    "# > concatenate the two datasets\n",
    "X2 = pd.concat([X2A, X2B], axis=0)\n",
    "y2 = pd.concat([y2A, y2B], axis=0)\n",
    "print(X2.shape[0], y2.sum(), y2.mean())\n",
    "\n",
    "# reverse the comparison\n",
    "X1, y1, X2, y2 = X2, y2, X1, y1\n",
    "\n",
    "# define whether we are to predict on the complete data\n",
    "pred_on_all = True\n",
    "# perform predictions with all\n",
    "df_stat_adult2fetal = interrogate_with_globals()"
   ]
  },
  {
   "cell_type": "markdown",
   "id": "6b2ea650-cef9-41b2-b004-f36188dc5c07",
   "metadata": {},
   "source": [
    "#### Adult COVID-19 and Healthy Donors... --> Pan-Cancer..."
   ]
  },
  {
   "cell_type": "code",
   "execution_count": null,
   "id": "5a4cff66-9a76-48d9-9246-aac5132535f2",
   "metadata": {
    "tags": []
   },
   "outputs": [],
   "source": [
    "# define the data to train on\n",
    "X1 = og_trb_su2022_X.copy()\n",
    "# setup a mask for CD8+ cells\n",
    "y1 = pd.Series(X1.index.str.contains(':CD8'), index=X2A.index)\n",
    "print(X1.shape[0], y1.sum(), y1.mean())\n",
    "\n",
    "# define the data to predict on\n",
    "X2 = og_trb_zheng2021_X.copy()\n",
    "# setup a mask for CD8+ cells\n",
    "y2 = pd.Series(X2.index.str.contains(':CD8'), index=X2.index)\n",
    "print(X2.shape[0], y2.sum(), y2.mean())\n",
    "\n",
    "# define whether we are to predict on the complete data\n",
    "pred_on_all = True\n",
    "# perform predictions with all\n",
    "df_stat_covid2tumor = interrogate_with_globals()"
   ]
  },
  {
   "cell_type": "markdown",
   "id": "dfe86e4b-502d-4394-aa30-f8d2cbb09c11",
   "metadata": {},
   "source": [
    "#### Adult COVID-19 and Healthy Donors... <-- Pan-Cancer..."
   ]
  },
  {
   "cell_type": "code",
   "execution_count": null,
   "id": "73fb0398-8678-49a8-ab1e-9cefb4f57a53",
   "metadata": {
    "tags": []
   },
   "outputs": [],
   "source": [
    "# define the data to train on\n",
    "X1 = og_trb_su2022_X.copy()\n",
    "# setup a mask for CD8+ cells\n",
    "y1 = pd.Series(X1.index.str.contains(':CD8'), index=X2A.index)\n",
    "print(X1.shape[0], y1.sum(), y1.mean())\n",
    "\n",
    "# define the data to predict on\n",
    "X2 = og_trb_zheng2021_X.copy()\n",
    "# setup a mask for CD8+ cells\n",
    "y2 = pd.Series(X2.index.str.contains(':CD8'), index=X2.index)\n",
    "print(X2.shape[0], y2.sum(), y2.mean())\n",
    "\n",
    "# reverse the comparison\n",
    "X1, y1, X2, y2 = X2, y2, X1, y1\n",
    "\n",
    "# define whether we are to predict on the complete data\n",
    "pred_on_all = True\n",
    "# perform predictions with all\n",
    "df_stat_tumor2covid = interrogate_with_globals()"
   ]
  },
  {
   "cell_type": "code",
   "execution_count": null,
   "id": "4bb0a4d5-4ba7-4964-b8f2-fbd2c515a9f6",
   "metadata": {
    "tags": []
   },
   "outputs": [],
   "source": [
    "import pickle as pkl\n",
    "# save all of the values\n",
    "df_stats = {'adult2fetal':df_stat_adult2fetal,\n",
    "            'covid2fetal':df_stat_covid2fetal, 'covid2tumor':df_stat_covid2tumor, 'covid':df_stat_covid,\n",
    "            'tumor2covid':df_stat_tumor2covid, 'tumor':df_stat_tumor, 'tumor2fetal':df_stat_tumor2fetal,\n",
    "            'fetal2adult':df_stat_fetal2adult,\n",
    "            'fetal2covid':df_stat_fetal2covid, 'fetal2tumor':df_stat_fetal2tumor, 'fetal':df_stat_fetal,}\n",
    "with open('../outs/250421_cd4vscd8_randomforest500.pkl', 'wb') as f:\n",
    "    pkl.dump(df_stats, f)"
   ]
  },
  {
   "cell_type": "markdown",
   "id": "b11345c3-89b1-4e04-a7b5-ea124602ed68",
   "metadata": {},
   "source": [
    "### Modeling with LogisticRegression"
   ]
  },
  {
   "cell_type": "code",
   "execution_count": null,
   "id": "5f24d3d6-3c5e-4ad1-a02b-75fa9f29aa5f",
   "metadata": {
    "tags": []
   },
   "outputs": [],
   "source": [
    "from sklearn.linear_model import LogisticRegression\n",
    "# define a function to interrogate the data\n",
    "def interrogate_with_globals():\n",
    "    # create statistics tracking dataframe\n",
    "    df_stat = pd.DataFrame(columns=['auroc','auprc'])\n",
    "    # create tracking variables for downstream visualization and statistics\n",
    "    probas, probas_bin, truths = [], [], []\n",
    "    fprs, tprs, pres, recs = [], [], [], []\n",
    "    # train utilizing random forest models in a stratified shuffled manner\n",
    "    skf = StratifiedShuffleSplit(n_splits=10, random_state=0, test_size=1/4)\n",
    "    for idxs_train, idxs_test in skf.split(X1, y1):\n",
    "        # instantiate the random forest model\n",
    "        clf = LogisticRegression()\n",
    "        # fit the random forest model using Dataset #1\n",
    "        clf = clf.fit(X1.iloc[idxs_train], y1.iloc[idxs_train])\n",
    "\n",
    "        # predict on Dataset #2 correcting to all indices if requested\n",
    "        if pred_on_all:\n",
    "            idxs_test = range(X2.shape[0])\n",
    "        # derive the probabilities\n",
    "        proba = clf.predict_proba(X2.iloc[idxs_test])[:, clf.classes_ == 1]\n",
    "        probas.append(pd.Series(proba[:, 0], index=X2.index[idxs_test]))\n",
    "        # binarize into categorical predictions\n",
    "        proba_bin = 1 * (proba >= 0.50)\n",
    "        probas_bin.append(pd.Series(proba_bin[:, 0], index=X2.index[idxs_test]))\n",
    "        # retrieve the associated ground truth\n",
    "        truth = y2.iloc[idxs_test]\n",
    "        truths.append(truth.copy())\n",
    "\n",
    "        # compute subsequent AUROC and AUPRC related metrics\n",
    "        fpr, tpr, _ = roc_curve(truth, proba)\n",
    "        pre, rec, _ = precision_recall_curve(truth, proba)\n",
    "        fprs.append(fpr); tprs.append(tpr); pres.append(pre); recs.append(rec)\n",
    "        # save the relevant statistics\n",
    "        df_stat.loc[df_stat.shape[0]] = auc(fpr, tpr), auc(rec, pre)\n",
    "\n",
    "    # check the difference\n",
    "    for stat in df_stat.columns:\n",
    "        fig, ax = plt.subplots(figsize=[1, 4]); ax.grid(False)\n",
    "        sns.boxplot(y=df_stat[stat], linewidth=1.5, saturation=1, showfliers=False, linecolor='dodgerblue', color='skyblue')\n",
    "        sns.stripplot(y=df_stat[stat], linewidth=1.5, s=6, alpha=0.5, color='skyblue', edgecolor='dodgerblue')\n",
    "        ax.set_xlim(-0.75, 0.75); ax.set_ylabel(stat.upper())\n",
    "        print(stat.upper(), df_stat[stat].mean(), df_stat[stat].std() / np.sqrt(df_stat.shape[0])*1.96)\n",
    "\n",
    "    # plot the FPR, TPR\n",
    "    fig, ax = plt.subplots(figsize=[4, 4]); ax.grid(False)\n",
    "    xl = np.arange(0, 1.01, 0.01); yls = []\n",
    "    for fpr, tpr in zip(fprs, tprs):\n",
    "        ax.plot(fpr, tpr, color='skyblue', linestyle='--', lw=1)\n",
    "        yls.append(np.interp(xl, fpr, tpr))\n",
    "    yl = np.vstack(yls).mean(0)\n",
    "    ax.plot(xl, yl, color='dodgerblue', lw=2)\n",
    "    ax.plot([0, 1], [0, 1], color='lightgray', linestyle='dotted')\n",
    "    ax.set(xlabel='False Positive Rate', ylabel='True Positive Rate')\n",
    "\n",
    "    # plot the precision recall\n",
    "    fig, ax = plt.subplots(figsize=[4, 4]); ax.grid(False)\n",
    "    xl = np.arange(0, 1.01, 0.01); yls = []\n",
    "    for pre, rec in zip(pres, recs):\n",
    "        ax.plot(rec[::-1], pre[::-1], color='skyblue', linestyle='--', lw=1)\n",
    "        yls.append(np.interp(xl, rec[::-1], pre[::-1]))\n",
    "    yl = np.vstack(yls).mean(0)\n",
    "    ax.plot(xl, yl, color='dodgerblue', lw=2)\n",
    "    ax.plot([0, 1], [0.5]*2, color='lightgray', linestyle='dotted')\n",
    "    ax.set(xlabel='Recall', ylabel='Precision')\n",
    "\n",
    "    from sklearn.metrics import confusion_matrix\n",
    "    # define the results\n",
    "    result = pd.DataFrame(columns=['Truth','PredProb'])\n",
    "    for proba, truth in zip(probas, truths):\n",
    "        result.loc[result.shape[0]] = '+', proba[truth == 1].mean()\n",
    "        result.loc[result.shape[0]] = '-', proba[truth == 0].mean()\n",
    "\n",
    "    # compare the average prediction probabilities\n",
    "    fig, ax = plt.subplots(figsize=[2, 4]); ax.grid(False)\n",
    "    sns.boxplot(x='Truth', y='PredProb', data=result, linewidth=1.5, saturation=1,\n",
    "                showfliers=False, linecolor='dodgerblue', color='skyblue',\n",
    "                order=['-', '+'], palette=['lightgray','skyblue'])\n",
    "    np.random.seed(0)\n",
    "    sns.stripplot(x='Truth', y='PredProb', data=result, jitter=0.4, palette=['dodgerblue'], order=['+'], alpha=0.6, s=6)\n",
    "    sns.stripplot(x='Truth', y='PredProb', data=result, jitter=0.4, palette=['grey'], order=['-'], alpha=0.6, s=6)\n",
    "    ax.set_xlim(-1, 2); ax.set_ylabel('Prediction Probability'); ax.set_xlabel('Ground Truth')\n",
    "    ax.get_children()[0].set_hatch('//')\n",
    "    ax.get_children()[0].set_edgecolor('grey')\n",
    "    for idx in range(1, 6):\n",
    "        ax.get_children()[idx].set_color('grey')\n",
    "\n",
    "    # report statistics\n",
    "    print('p-value for + vs. -:')\n",
    "    print(ss.mannwhitneyu(result.loc[result['Truth'] == '+', 'PredProb'], result.loc[result['Truth'] == '-', 'PredProb']))\n",
    "    print('average:')\n",
    "    print(df_stat.mean(0))\n",
    "    print('95% cis:')\n",
    "    print(df_stat.std(0) / np.sqrt(10) * 1.96)\n",
    "    return df_stat"
   ]
  },
  {
   "cell_type": "markdown",
   "id": "51841e23-47f9-4cea-97c9-ccc4eddf4e19",
   "metadata": {},
   "source": [
    "#### Fetal Donors..."
   ]
  },
  {
   "cell_type": "code",
   "execution_count": null,
   "id": "f2408070-0ced-4cc2-a587-5023e14d46d4",
   "metadata": {
    "tags": []
   },
   "outputs": [],
   "source": [
    "# define the data to train on\n",
    "X1 = og_trb_suo2022_X.copy()\n",
    "# setup a mask for CD8+ cells\n",
    "y1 = pd.Series(X1.index.str.contains(':CD8'), index=X1.index)\n",
    "print(X1.shape[0], y1.sum(), y1.mean())\n",
    "\n",
    "# define the data to predict on\n",
    "X2 = og_trb_suo2022_X.copy()\n",
    "# setup a mask for CD8+ cells\n",
    "y2 = pd.Series(X2.index.str.contains(':CD8'), index=X2.index)\n",
    "print(X2.shape[0], y2.sum(), y2.mean())\n",
    "\n",
    "# define whether we are to predict on the complete data\n",
    "pred_on_all = False\n",
    "# perform predictions with all\n",
    "df_stat_fetal = interrogate_with_globals()"
   ]
  },
  {
   "cell_type": "markdown",
   "id": "f51ec2f9-d8b0-4c5e-95cd-2a8c4b0aeeee",
   "metadata": {},
   "source": [
    "#### COVID-19 and Adult Healthy Donors..."
   ]
  },
  {
   "cell_type": "code",
   "execution_count": null,
   "id": "67d437ac-73f1-42e8-a66e-da3065b6deb2",
   "metadata": {
    "tags": []
   },
   "outputs": [],
   "source": [
    "# define the data to train on\n",
    "X1 = og_trb_su2022_X.copy()\n",
    "# setup a mask for CD8+ cells\n",
    "y1 = pd.Series(X1.index.str.contains(':CD8'), index=X1.index)\n",
    "print(X1.shape[0], y1.sum(), y1.mean())\n",
    "\n",
    "# define the data to predict on\n",
    "X2 = og_trb_su2022_X.copy()\n",
    "# setup a mask for CD8+ cells\n",
    "y2 = pd.Series(X2.index.str.contains(':CD8'), index=X2.index)\n",
    "print(X2.shape[0], y2.sum(), y2.mean())\n",
    "\n",
    "# define whether we are to predict on the complete data\n",
    "pred_on_all = False\n",
    "# perform predictions with all\n",
    "df_stat_covid = interrogate_with_globals()"
   ]
  },
  {
   "cell_type": "markdown",
   "id": "77352ee8-c361-4567-8faf-f7c251d5115d",
   "metadata": {},
   "source": [
    "#### Pan-Cancer..."
   ]
  },
  {
   "cell_type": "code",
   "execution_count": null,
   "id": "6f7525ab-3d9d-4886-8dc1-273a15cc8400",
   "metadata": {
    "tags": []
   },
   "outputs": [],
   "source": [
    "# define the data to train on\n",
    "X1 = og_trb_zheng2021_X.copy()\n",
    "# setup a mask for CD8+ cells\n",
    "y1 = pd.Series(X1.index.str.contains(':CD8'), index=X1.index)\n",
    "print(X1.shape[0], y1.sum(), y1.mean())\n",
    "\n",
    "# define the data to predict on\n",
    "X2 = og_trb_zheng2021_X.copy()\n",
    "# setup a mask for CD8+ cells\n",
    "y2 = pd.Series(X2.index.str.contains(':CD8'), index=X2.index)\n",
    "print(X2.shape[0], y2.sum(), y2.mean())\n",
    "\n",
    "# define whether we are to predict on the complete data\n",
    "pred_on_all = False\n",
    "# perform predictions with all\n",
    "df_stat_tumor = interrogate_with_globals()"
   ]
  },
  {
   "cell_type": "markdown",
   "id": "2da743cc-a111-4558-ad2d-41bad743563c",
   "metadata": {},
   "source": [
    "#### Fetal Donors... --> Pan-Cancer..."
   ]
  },
  {
   "cell_type": "code",
   "execution_count": null,
   "id": "355bb4b9-c919-4203-b3fe-ea44814830d1",
   "metadata": {
    "tags": []
   },
   "outputs": [],
   "source": [
    "# define the data to train on\n",
    "X1 = og_trb_suo2022_X.copy()\n",
    "# setup a mask for CD8+ cells\n",
    "y1 = pd.Series(X1.index.str.contains(':CD8'), index=X1.index)\n",
    "print(X1.shape[0], y1.sum(), y1.mean())\n",
    "\n",
    "# define the data to predict on\n",
    "X2 = og_trb_zheng2021_X.copy()\n",
    "# setup a mask for CD8+ cells\n",
    "y2 = pd.Series(X2.index.str.contains(':CD8'), index=X2.index)\n",
    "print(X2.shape[0], y2.sum(), y2.mean())\n",
    "\n",
    "# define whether we are to predict on the complete data\n",
    "pred_on_all = True\n",
    "# perform predictions with all\n",
    "df_stat_fetal2tumor = interrogate_with_globals()"
   ]
  },
  {
   "cell_type": "markdown",
   "id": "7e4fa3b1-a482-40e4-8811-2618439dd63a",
   "metadata": {},
   "source": [
    "#### Fetal Donors... --> Adult COVID-19 and Healthy Donors..."
   ]
  },
  {
   "cell_type": "code",
   "execution_count": null,
   "id": "d72123f8-09b5-4ad9-97e8-04f2a9b03691",
   "metadata": {
    "tags": []
   },
   "outputs": [],
   "source": [
    "# define the data to train on\n",
    "X1 = og_trb_suo2022_X.copy()\n",
    "# setup a mask for CD8+ cells\n",
    "y1 = pd.Series(X1.index.str.contains(':CD8'), index=X1.index)\n",
    "print(X1.shape[0], y1.sum(), y1.mean())\n",
    "\n",
    "# define the data to predict on\n",
    "X2 = og_trb_su2022_X.copy()\n",
    "# setup a mask for CD8+ cells\n",
    "y2 = pd.Series(X2.index.str.contains(':CD8'), index=X2.index)\n",
    "print(X2.shape[0], y2.sum(), y2.mean())\n",
    "\n",
    "# define whether we are to predict on the complete data\n",
    "pred_on_all = True\n",
    "# perform predictions with all\n",
    "df_stat_fetal2covid = interrogate_with_globals()"
   ]
  },
  {
   "cell_type": "markdown",
   "id": "f9d96dd2-a64c-4e9d-a221-1102e794064a",
   "metadata": {},
   "source": [
    "#### Fetal Donors... --> Adult COVID-19 and Healthy Donors... + Pan-Cancer..."
   ]
  },
  {
   "cell_type": "code",
   "execution_count": null,
   "id": "af790de1-07d6-4776-82d3-bced64349d61",
   "metadata": {
    "tags": []
   },
   "outputs": [],
   "source": [
    "# define the data to train on\n",
    "X1 = og_trb_suo2022_X.copy()\n",
    "# setup a mask for CD8+ cells\n",
    "y1 = pd.Series(X1.index.str.contains(':CD8'), index=X1.index)\n",
    "print(X1.shape[0], y1.sum(), y1.mean())\n",
    "\n",
    "# define the data to predict on\n",
    "# > covid-19 and healthy donors\n",
    "X2A = og_trb_su2022_X.copy()\n",
    "# setup a mask for CD8+ cells\n",
    "y2A = pd.Series(X2A.index.str.contains(':CD8'), index=X2A.index)\n",
    "print(X2A.shape[0], y2A.sum(), y2A.mean())\n",
    "# > pan-cancer types\n",
    "X2B = og_trb_zheng2021_X.copy()\n",
    "# setup a mask for CD8+ cells\n",
    "y2B = pd.Series(X2B.index.str.contains(':CD8'), index=X2B.index)\n",
    "print(X2B.shape[0], y2B.sum(), y2B.mean())\n",
    "# > concatenate the two datasets\n",
    "X2 = pd.concat([X2A, X2B], axis=0)\n",
    "y2 = pd.concat([y2A, y2B], axis=0)\n",
    "print(X2.shape[0], y2.sum(), y2.mean())\n",
    "\n",
    "# define whether we are to predict on the complete data\n",
    "pred_on_all = True\n",
    "# perform predictions with all\n",
    "df_stat_fetal2adult = interrogate_with_globals()"
   ]
  },
  {
   "cell_type": "markdown",
   "id": "5bb72d40-bb3f-415a-b0b2-5bee7485fe9b",
   "metadata": {},
   "source": [
    "#### Fetal Donors... <-- Pan-Cancer..."
   ]
  },
  {
   "cell_type": "code",
   "execution_count": null,
   "id": "789889b5-2788-4ab6-89e1-a4555883b5ed",
   "metadata": {
    "tags": []
   },
   "outputs": [],
   "source": [
    "# define the data to train on\n",
    "X1 = og_trb_suo2022_X.copy()\n",
    "# setup a mask for CD8+ cells\n",
    "y1 = pd.Series(X1.index.str.contains(':CD8'), index=X1.index)\n",
    "print(X1.shape[0], y1.sum(), y1.mean())\n",
    "\n",
    "# define the data to predict on\n",
    "X2 = og_trb_zheng2021_X.copy()\n",
    "# setup a mask for CD8+ cells\n",
    "y2 = pd.Series(X2.index.str.contains(':CD8'), index=X2.index)\n",
    "print(X2.shape[0], y2.sum(), y2.mean())\n",
    "\n",
    "# reverse the comparison\n",
    "X1, y1, X2, y2 = X2, y2, X1, y1\n",
    "\n",
    "# define whether we are to predict on the complete data\n",
    "pred_on_all = True\n",
    "# perform predictions with all\n",
    "df_stat_tumor2fetal = interrogate_with_globals()"
   ]
  },
  {
   "cell_type": "markdown",
   "id": "b19968ea-7146-4f6a-b98a-e19c2f9a7466",
   "metadata": {},
   "source": [
    "#### Fetal Donors... <-- Adult COVID-19 and Healthy Donors..."
   ]
  },
  {
   "cell_type": "code",
   "execution_count": null,
   "id": "bba11ea0-946f-48c4-8e70-ff7700ce8345",
   "metadata": {
    "tags": []
   },
   "outputs": [],
   "source": [
    "# define the data to train on\n",
    "X1 = og_trb_suo2022_X.copy()\n",
    "# setup a mask for CD8+ cells\n",
    "y1 = pd.Series(X1.index.str.contains(':CD8'), index=X1.index)\n",
    "print(X1.shape[0], y1.sum(), y1.mean())\n",
    "\n",
    "# define the data to predict on\n",
    "X2 = og_trb_su2022_X.copy()\n",
    "# setup a mask for CD8+ cells\n",
    "y2 = pd.Series(X2.index.str.contains(':CD8'), index=X2.index)\n",
    "print(X2.shape[0], y2.sum(), y2.mean())\n",
    "\n",
    "# reverse the comparison\n",
    "X1, y1, X2, y2 = X2, y2, X1, y1\n",
    "\n",
    "# define whether we are to predict on the complete data\n",
    "pred_on_all = True\n",
    "# perform predictions with all\n",
    "df_stat_covid2fetal = interrogate_with_globals()"
   ]
  },
  {
   "cell_type": "markdown",
   "id": "921607e6-321b-41d5-97bc-d2162b04006c",
   "metadata": {},
   "source": [
    "#### Fetal Donors... <-- Adult COVID-19 and Healthy Donors... + Pan-Cancer..."
   ]
  },
  {
   "cell_type": "code",
   "execution_count": null,
   "id": "92e6fdd1-4971-47bc-9f8e-bc530742ee45",
   "metadata": {
    "tags": []
   },
   "outputs": [],
   "source": [
    "# define the data to train on\n",
    "X1 = og_trb_suo2022_X.copy()\n",
    "# setup a mask for CD8+ cells\n",
    "y1 = pd.Series(X1.index.str.contains(':CD8'), index=X1.index)\n",
    "print(X1.shape[0], y1.sum(), y1.mean())\n",
    "\n",
    "# define the data to predict on\n",
    "# > covid-19 and healthy donors\n",
    "X2A = og_trb_su2022_X.copy()\n",
    "# setup a mask for CD8+ cells\n",
    "y2A = pd.Series(X2A.index.str.contains(':CD8'), index=X2A.index)\n",
    "print(X2A.shape[0], y2A.sum(), y2A.mean())\n",
    "# > pan-cancer types\n",
    "X2B = og_trb_zheng2021_X.copy()\n",
    "# setup a mask for CD8+ cells\n",
    "y2B = pd.Series(X2B.index.str.contains(':CD8'), index=X2B.index)\n",
    "print(X2B.shape[0], y2B.sum(), y2B.mean())\n",
    "# > concatenate the two datasets\n",
    "X2 = pd.concat([X2A, X2B], axis=0)\n",
    "y2 = pd.concat([y2A, y2B], axis=0)\n",
    "print(X2.shape[0], y2.sum(), y2.mean())\n",
    "\n",
    "# reverse the comparison\n",
    "X1, y1, X2, y2 = X2, y2, X1, y1\n",
    "\n",
    "# define whether we are to predict on the complete data\n",
    "pred_on_all = True\n",
    "# perform predictions with all\n",
    "df_stat_adult2fetal = interrogate_with_globals()"
   ]
  },
  {
   "cell_type": "markdown",
   "id": "dc63ce3b-ce0d-4461-8b8f-b226e6c4d340",
   "metadata": {},
   "source": [
    "#### Adult COVID-19 and Healthy Donors... --> Pan-Cancer..."
   ]
  },
  {
   "cell_type": "code",
   "execution_count": null,
   "id": "6fb3afba-167f-4605-94f1-bf457f731922",
   "metadata": {
    "tags": []
   },
   "outputs": [],
   "source": [
    "# define the data to train on\n",
    "X1 = og_trb_su2022_X.copy()\n",
    "# setup a mask for CD8+ cells\n",
    "y1 = pd.Series(X1.index.str.contains(':CD8'), index=X2A.index)\n",
    "print(X1.shape[0], y1.sum(), y1.mean())\n",
    "\n",
    "# define the data to predict on\n",
    "X2 = og_trb_zheng2021_X.copy()\n",
    "# setup a mask for CD8+ cells\n",
    "y2 = pd.Series(X2.index.str.contains(':CD8'), index=X2.index)\n",
    "print(X2.shape[0], y2.sum(), y2.mean())\n",
    "\n",
    "# define whether we are to predict on the complete data\n",
    "pred_on_all = True\n",
    "# perform predictions with all\n",
    "df_stat_covid2tumor = interrogate_with_globals()"
   ]
  },
  {
   "cell_type": "markdown",
   "id": "98b6c1e4-8f24-435f-818f-1524efbea4dd",
   "metadata": {},
   "source": [
    "#### Adult COVID-19 and Healthy Donors... <-- Pan-Cancer..."
   ]
  },
  {
   "cell_type": "code",
   "execution_count": null,
   "id": "89431c21-8669-4f38-b1e4-09100e9226c5",
   "metadata": {
    "tags": []
   },
   "outputs": [],
   "source": [
    "# define the data to train on\n",
    "X1 = og_trb_su2022_X.copy()\n",
    "# setup a mask for CD8+ cells\n",
    "y1 = pd.Series(X1.index.str.contains(':CD8'), index=X2A.index)\n",
    "print(X1.shape[0], y1.sum(), y1.mean())\n",
    "\n",
    "# define the data to predict on\n",
    "X2 = og_trb_zheng2021_X.copy()\n",
    "# setup a mask for CD8+ cells\n",
    "y2 = pd.Series(X2.index.str.contains(':CD8'), index=X2.index)\n",
    "print(X2.shape[0], y2.sum(), y2.mean())\n",
    "\n",
    "# reverse the comparison\n",
    "X1, y1, X2, y2 = X2, y2, X1, y1\n",
    "\n",
    "# define whether we are to predict on the complete data\n",
    "pred_on_all = True\n",
    "# perform predictions with all\n",
    "df_stat_tumor2covid = interrogate_with_globals()"
   ]
  },
  {
   "cell_type": "code",
   "execution_count": null,
   "id": "141366f9-1fb3-4829-bee3-2898f647ee13",
   "metadata": {
    "tags": []
   },
   "outputs": [],
   "source": [
    "import pickle as pkl\n",
    "# save all of the values\n",
    "df_stats = {'adult2fetal':df_stat_adult2fetal,\n",
    "            'covid2fetal':df_stat_covid2fetal, 'covid2tumor':df_stat_covid2tumor, 'covid':df_stat_covid,\n",
    "            'tumor2covid':df_stat_tumor2covid, 'tumor':df_stat_tumor, 'tumor2fetal':df_stat_tumor2fetal,\n",
    "            'fetal2adult':df_stat_fetal2adult,\n",
    "            'fetal2covid':df_stat_fetal2covid, 'fetal2tumor':df_stat_fetal2tumor, 'fetal':df_stat_fetal,}\n",
    "with open('../outs/250421_cd4vscd8_logisticregression.pkl', 'wb') as f:\n",
    "    pkl.dump(df_stats, f)"
   ]
  },
  {
   "cell_type": "markdown",
   "id": "57a85420-5415-430c-b8d1-e2aef920cb68",
   "metadata": {},
   "source": [
    "### Integrate Data Together into a Single Visualization"
   ]
  },
  {
   "cell_type": "code",
   "execution_count": null,
   "id": "9fb85e40-837c-493a-a97c-7824aba15a0a",
   "metadata": {
    "tags": []
   },
   "outputs": [],
   "source": [
    "# define the helper functions\n",
    "x2l = {'adult2fetal':'Adult COVID-19+HD and Pan-Cancer --> Fetal',\n",
    "       'covid2fetal':'Adult COVID-19+HD --> Fetal',\n",
    "       'covid2tumor':'Adult COVID-19+HD --> Fetal',\n",
    "       'covid':'Adult COVID-19+HD (w/ Self)',\n",
    "       'tumor2covid':'Adult Pan-Cancer to COVID-19+HD',\n",
    "       'tumor':'Adult Pan-Cancer (w/ Self)',\n",
    "       'tumor2fetal':'Adult Pan-Cancer --> Fetal',\n",
    "       'fetal2adult':'Fetal --> Adult COVID-19+HD and Pan-Cancer',\n",
    "       'fetal2covid':'Fetal --> Adult COVID-19+HD',\n",
    "       'fetal2tumor':'Fetal --> Adult Pan-Cancer',\n",
    "       'fetal':'Fetal (w/ Self)'}"
   ]
  },
  {
   "cell_type": "code",
   "execution_count": null,
   "id": "723b2c23-ff36-41fe-95c3-ddf3d120fcb2",
   "metadata": {
    "tags": []
   },
   "outputs": [],
   "source": [
    "# define a plotting function\n",
    "def visualize_on_globals():\n",
    "    # assemble the plotting dataframe\n",
    "    df_plot = pd.DataFrame(columns=['x','y'])\n",
    "    for k, vs in df_stats.items():\n",
    "        for v in vs[key]:\n",
    "            df_plot.loc[df_plot.shape[0]] = k, v\n",
    "\n",
    "    # create the ordered box plots\n",
    "    fig, ax = plt.subplots(figsize=[4, 4]); ax.grid(False)\n",
    "    order = df_plot.groupby('x').mean()['y'].sort_values().index\n",
    "    sns.boxplot(x='x', y='y', data=df_plot, linewidth=1.5, linecolor='dodgerblue',\n",
    "                color='skyblue', saturation=1, showfliers=False, order=order)\n",
    "    sns.stripplot(x='x', y='y', data=df_plot, linewidth=1.5, edgecolor='dodgerblue',\n",
    "                  color='skyblue', jitter=0.25, order=order, s=5, alpha=0.5)\n",
    "    ax.tick_params(axis='x', labelrotation=90)\n",
    "    ax.axhline(0.5, color='grey', linestyle='--')\n",
    "    ax.set_xticklabels([x2l[x.get_text()] for x in ax.get_xticklabels()])\n",
    "    ax.set(xlabel='Datasets Utilized', ylabel=key_label)\n",
    "    # statistically test if these means are the same\n",
    "    print(ss.kruskal(*[df_plot.loc[df_plot['x'] == x, 'y'] for x in df_plot['x'].unique()]))"
   ]
  },
  {
   "cell_type": "markdown",
   "id": "841b60eb-c025-44f0-8b8b-ead4464529d0",
   "metadata": {},
   "source": [
    "#### LR"
   ]
  },
  {
   "cell_type": "code",
   "execution_count": null,
   "id": "a73ab14b-67fb-4381-930f-104970dbe042",
   "metadata": {
    "tags": []
   },
   "outputs": [],
   "source": [
    "# define the parameters\n",
    "key, key_label = 'auroc', 'AUROC'\n",
    "visualize_on_globals()"
   ]
  },
  {
   "cell_type": "code",
   "execution_count": null,
   "id": "296af3da-1eb6-4f29-beed-c2001d3c6fdb",
   "metadata": {
    "tags": []
   },
   "outputs": [],
   "source": [
    "# define the parameters\n",
    "key, key_label = 'auprc', 'AUPRC'\n",
    "visualize_on_globals()"
   ]
  },
  {
   "cell_type": "markdown",
   "id": "51a7ca5b-b8d0-4833-83a3-fdf8aceeea86",
   "metadata": {},
   "source": [
    "#### RF 100"
   ]
  },
  {
   "cell_type": "code",
   "execution_count": null,
   "id": "458b8604-051f-4e1d-8f44-4d5b3f81134d",
   "metadata": {
    "tags": []
   },
   "outputs": [],
   "source": [
    "# read in thedata\n",
    "with open('../outs/250421_cd4vscd8_randomforest100.pkl', 'rb') as f:\n",
    "    df_stats = pkl.load(f)"
   ]
  },
  {
   "cell_type": "code",
   "execution_count": null,
   "id": "fd321326-7993-42b5-80cb-dc26166127c3",
   "metadata": {
    "tags": []
   },
   "outputs": [],
   "source": [
    "# define the parameters\n",
    "key, key_label = 'auroc', 'AUROC'\n",
    "visualize_on_globals()"
   ]
  },
  {
   "cell_type": "code",
   "execution_count": null,
   "id": "b44c8980-378a-4ab2-9b9c-48e4d118cdc0",
   "metadata": {
    "tags": []
   },
   "outputs": [],
   "source": [
    "# define the parameters\n",
    "key, key_label = 'auprc', 'AUPRC'\n",
    "visualize_on_globals()"
   ]
  },
  {
   "cell_type": "markdown",
   "id": "6aa5b1c7-244a-42f8-bfcb-24b2d7018165",
   "metadata": {},
   "source": [
    "#### RF 200"
   ]
  },
  {
   "cell_type": "code",
   "execution_count": null,
   "id": "aeb601ab-ccbd-46ae-bbb2-7b0cf00f2c20",
   "metadata": {
    "tags": []
   },
   "outputs": [],
   "source": [
    "# read in thedata\n",
    "with open('../outs/250421_cd4vscd8_randomforest200.pkl', 'rb') as f:\n",
    "    df_stats = pkl.load(f)"
   ]
  },
  {
   "cell_type": "code",
   "execution_count": null,
   "id": "497da66c-a654-48fa-b510-c5b5ca0cc19a",
   "metadata": {
    "tags": []
   },
   "outputs": [],
   "source": [
    "# define the parameters\n",
    "key, key_label = 'auroc', 'AUROC'\n",
    "visualize_on_globals()"
   ]
  },
  {
   "cell_type": "code",
   "execution_count": null,
   "id": "1b850022-6c1d-4108-93e8-2da0ea96429d",
   "metadata": {
    "tags": []
   },
   "outputs": [],
   "source": [
    "# define the parameters\n",
    "key, key_label = 'auprc', 'AUPRC'\n",
    "visualize_on_globals()"
   ]
  },
  {
   "cell_type": "markdown",
   "id": "525005d4-2306-4961-9ff6-4203e259df11",
   "metadata": {},
   "source": [
    "#### RF 500"
   ]
  },
  {
   "cell_type": "code",
   "execution_count": null,
   "id": "4d4f57cf-eeb1-4dad-9e82-cce623325cb7",
   "metadata": {
    "tags": []
   },
   "outputs": [],
   "source": [
    "# read in thedata\n",
    "with open('../outs/250421_cd4vscd8_randomforest500.pkl', 'rb') as f:\n",
    "    df_stats = pkl.load(f)"
   ]
  },
  {
   "cell_type": "code",
   "execution_count": null,
   "id": "a6db5755-fbab-4cbb-967e-958a6bc7186a",
   "metadata": {
    "tags": []
   },
   "outputs": [],
   "source": [
    "# define the parameters\n",
    "key, key_label = 'auroc', 'AUROC'\n",
    "visualize_on_globals()"
   ]
  },
  {
   "cell_type": "code",
   "execution_count": null,
   "id": "a58777de-3628-489b-873e-958aef9c2e25",
   "metadata": {
    "tags": []
   },
   "outputs": [],
   "source": [
    "# define the parameters\n",
    "key, key_label = 'auprc', 'AUPRC'\n",
    "visualize_on_globals()"
   ]
  },
  {
   "cell_type": "markdown",
   "id": "4aeea6b7-2312-460f-bee1-174d211ef85a",
   "metadata": {},
   "source": [
    "#### Compilation into Circos Plot"
   ]
  },
  {
   "cell_type": "code",
   "execution_count": null,
   "id": "375d466a-f664-483b-ab3d-95f9108ebb4f",
   "metadata": {
    "tags": []
   },
   "outputs": [],
   "source": [
    "# derive the mapping for the labels\n",
    "x2l = {'lr':'LR','rf100':'RF$_{100}$','rf200':'RF$_{200}$','rf500':'RF$_{500}$'}"
   ]
  },
  {
   "cell_type": "code",
   "execution_count": null,
   "id": "3532b065-2b54-4bd5-8724-03b03c3f95ea",
   "metadata": {
    "tags": []
   },
   "outputs": [],
   "source": [
    "# read in the data, lr\n",
    "df_stat_lr = pd.Series()\n",
    "with open('../outs/250421_cd4vscd8_logisticregression.pkl', 'rb') as f:\n",
    "    df_stats = pkl.load(f)\n",
    "    for k, vs in df_stats.items():\n",
    "        df_stat_lr.loc[k] = vs['auroc'].mean()\n",
    "# read in the data, rf100\n",
    "df_stat_rf100 = pd.Series()\n",
    "with open('../outs/250421_cd4vscd8_randomforest100.pkl', 'rb') as f:\n",
    "    df_stats = pkl.load(f)\n",
    "    for k, vs in df_stats.items():\n",
    "        df_stat_rf100.loc[k] = vs['auroc'].mean()\n",
    "# read in the data, rf200\n",
    "df_stat_rf200 = pd.Series()\n",
    "with open('../outs/250421_cd4vscd8_randomforest200.pkl', 'rb') as f:\n",
    "    df_stats = pkl.load(f)\n",
    "    for k, vs in df_stats.items():\n",
    "        df_stat_rf200.loc[k] = vs['auroc'].mean()\n",
    "# read in the data, rf500\n",
    "df_stat_rf500 = pd.Series()\n",
    "with open('../outs/250421_cd4vscd8_randomforest500.pkl', 'rb') as f:\n",
    "    df_stats = pkl.load(f)\n",
    "    for k, vs in df_stats.items():\n",
    "        df_stat_rf500.loc[k] = vs['auroc'].mean()\n",
    "# compile the data together\n",
    "df_stat = pd.concat([df_stat_lr, df_stat_rf100, df_stat_rf200, df_stat_rf500], axis=1)\n",
    "df_stat.columns = ['lr','rf100','rf200','rf500']"
   ]
  },
  {
   "cell_type": "code",
   "execution_count": null,
   "id": "31f549d9-646f-4e3d-b7b8-e5c83248e9a1",
   "metadata": {
    "tags": []
   },
   "outputs": [],
   "source": [
    "# derive the values\n",
    "y2ls = {'adult2fetal':['a1','f2'],\n",
    "        'covid2fetal':['c1','f2'],\n",
    "        'covid2tumor':['c1','t2'],\n",
    "        'covid':['c1','c2'],\n",
    "        'tumor2covid':['t1','c2'],\n",
    "        'tumor':['t1','t2'],\n",
    "        'tumor2fetal':['t1','f2'],\n",
    "        'fetal2adult':['f1','a2'],\n",
    "        'fetal2covid':['f1','c2'],\n",
    "        'fetal2tumor':['f1','t2'],\n",
    "        'fetal':['f1','f2']}\n",
    "df_stat[['start','end']] = np.nan\n",
    "for idx in df_stat.index:\n",
    "    df_stat.loc[idx, ['start','end']] = y2ls[idx]\n",
    "df_stat = df_stat.loc[~(df_stat[['start','end']].isin(['a1','a2'])).any(axis=1)]"
   ]
  },
  {
   "cell_type": "code",
   "execution_count": null,
   "id": "edaea04e-900e-4ede-8d51-6941b573154d",
   "metadata": {
    "tags": []
   },
   "outputs": [],
   "source": [
    "from pycirclize import Circos\n",
    "\n",
    "# initialize Circos sectors\n",
    "sectors = ['f1','c1','t1','t2','c2','f2']\n",
    "circos = Circos({s:3 for s in sectors}, space=5)\n",
    "# write sector names\n",
    "for sector in circos.sectors:\n",
    "    sector.text(sector.name, r=110, size=15)\n",
    "# add links\n",
    "k2b = {k:0 for k in sectors}\n",
    "e2c = {'f2':'skyblue','c2':'dodgerblue','t2':'navy'}\n",
    "for start in ['f1','c1','t1']:\n",
    "    for end in ['f2','c2','t2']:\n",
    "        # retrieve the value to go from\n",
    "        b1 = k2b[start]\n",
    "        b2 = k2b[end]\n",
    "        # retrieve the value to plot\n",
    "        value = df_stat.loc[(df_stat['start'] == start)&(df_stat['end'] == end)]['lr'][0]\n",
    "        circos.link((start, b1, b1+value), (end, b2, b2+value), direction=1, color=e2c[end], ec='k', lw=1.5)\n",
    "        # update with the current positions\n",
    "        k2b[start] += value\n",
    "        k2b[end] += value\n",
    "    \n",
    "# save the figure\n",
    "circos.savefig('07I3_circos.png', dpi=300)"
   ]
  },
  {
   "cell_type": "code",
   "execution_count": null,
   "id": "e69fff76-b5e2-4558-a9e7-e68ba4991a31",
   "metadata": {
    "tags": []
   },
   "outputs": [],
   "source": [
    "# initialize Circos sectors\n",
    "circos = Circos({s:1.5 for s in sectors}, space=5)\n",
    "# write sector names\n",
    "for sector in circos.sectors:\n",
    "    sector.text(sector.name, r=110, size=15)\n",
    "# add links\n",
    "k2b = {k:0 for k in sectors}\n",
    "e2c = {'f2':'skyblue','c2':'dodgerblue','t2':'navy'}\n",
    "for start in ['f1','c1','t1']:\n",
    "    for end in ['f2','c2','t2']:\n",
    "        # retrieve the value to go from\n",
    "        b1 = k2b[start]\n",
    "        b2 = k2b[end]\n",
    "        # retrieve the value to plot\n",
    "        value = df_stat.loc[(df_stat['start'] == start)&(df_stat['end'] == end)]['lr'][0]-0.5\n",
    "        circos.link((start, b1, b1+value), (end, b2, b2+value), direction=1, color=e2c[end], ec='k', lw=1.5)\n",
    "        # update with the current positions\n",
    "        k2b[start] += value\n",
    "        k2b[end] += value\n",
    "    \n",
    "# save the figure\n",
    "circos.savefig('07I3_circos_50.png', dpi=300)"
   ]
  },
  {
   "cell_type": "code",
   "execution_count": null,
   "id": "a5288196-7ac4-4ed6-80e1-64538dd736c5",
   "metadata": {
    "tags": []
   },
   "outputs": [],
   "source": [
    "# initialize Circos sectors\n",
    "sectors = ['f1','c1','t1','t2','c2','f2']\n",
    "circos = Circos({s:1.5 for s in sectors}, space=5)\n",
    "# write sector names\n",
    "for sector in circos.sectors:\n",
    "    sector.text(sector.name, r=110, size=15)\n",
    "# add links\n",
    "k2b = {k:0 for k in sectors}\n",
    "e2c = {'f2':'skyblue','c2':'dodgerblue','t2':'navy'}\n",
    "for start in ['f1','c1','t1']:\n",
    "    for end in ['f2','c2','t2']:\n",
    "        # retrieve the value to go from\n",
    "        b1 = k2b[start]\n",
    "        b2 = k2b[end]\n",
    "        # retrieve the value to plot\n",
    "        value = np.random.choice([0, 0.25, 0.5])\n",
    "        circos.link((start, b1, b1+value), (end, b2, b2+value), direction=1, color=e2c[end], ec='k', lw=1.5)\n",
    "        # update with the current positions\n",
    "        k2b[start] += value\n",
    "        k2b[end] += value\n",
    "    \n",
    "# save the figure\n",
    "circos.savefig('07I3_circos_legend.png', dpi=100)"
   ]
  },
  {
   "cell_type": "markdown",
   "id": "d5755f2c-9fda-4d1f-a3a7-044bb2ba3d6c",
   "metadata": {},
   "source": [
    "### Identify CD4-like CD8+ T cells"
   ]
  },
  {
   "cell_type": "code",
   "execution_count": null,
   "id": "5b57fd0e-4aaa-42b2-8c5a-5c039258674e",
   "metadata": {
    "tags": []
   },
   "outputs": [],
   "source": [
    "from sklearn.linear_model import LogisticRegression\n",
    "# define a function to interrogate the data\n",
    "def interrogate_with_globals():\n",
    "    # create statistics tracking dataframe\n",
    "    df_stat = pd.DataFrame(columns=['auroc','auprc','f1_score','balacc'])\n",
    "    # create tracking variables for downstream visualization and statistics\n",
    "    probas, probas_bin, truths = [], [], []\n",
    "    fprs, tprs, pres, recs = [], [], [], []\n",
    "    # train utilizing random forest models in a stratified shuffled manner\n",
    "    skf = StratifiedShuffleSplit(n_splits=10, random_state=0, test_size=1/4)\n",
    "    for idxs_train, idxs_test in skf.split(X1, y1):\n",
    "        # instantiate the random forest model\n",
    "        clf = LogisticRegression()\n",
    "        # fit the random forest model using Dataset #1\n",
    "        clf = clf.fit(X1.iloc[idxs_train], y1.iloc[idxs_train])\n",
    "\n",
    "        # predict on Dataset #2 correcting to all indices if requested\n",
    "        if pred_on_all:\n",
    "            idxs_test = range(X2.shape[0])\n",
    "        # derive the probabilities\n",
    "        proba = clf.predict_proba(X2.iloc[idxs_test])[:, clf.classes_ == 1]\n",
    "        probas.append(pd.Series(proba[:, 0], index=X2.index[idxs_test]))\n",
    "        # binarize into categorical predictions\n",
    "        proba_bin = 1 * (proba >= 0.50)\n",
    "        probas_bin.append(pd.Series(proba_bin[:, 0], index=X2.index[idxs_test]))\n",
    "        # retrieve the associated ground truth\n",
    "        truth = y2.iloc[idxs_test]\n",
    "        truths.append(truth.copy())\n",
    "\n",
    "        # compute subsequent AUROC and AUPRC related metrics\n",
    "        fpr, tpr, _ = roc_curve(truth, proba)\n",
    "        pre, rec, _ = precision_recall_curve(truth, proba)\n",
    "        fprs.append(fpr); tprs.append(tpr); pres.append(pre); recs.append(rec)\n",
    "        # save the relevant statistics\n",
    "        df_stat.loc[df_stat.shape[0]] = auc(fpr, tpr), auc(rec, pre), \\\n",
    "                                        f1_score(truth, proba_bin, average='binary'), \\\n",
    "                                        balanced_accuracy_score(truth, proba_bin)\n",
    "\n",
    "    return df_stat, probas"
   ]
  },
  {
   "cell_type": "markdown",
   "id": "4fe8bf48-d7ed-410a-9673-d8e40b8df7fa",
   "metadata": {},
   "source": [
    "#### Derive CD4 vs. CD8 Scores on COVID-19 and Adult Healthy Donors..."
   ]
  },
  {
   "cell_type": "code",
   "execution_count": null,
   "id": "5b845185-e06d-4a23-bd7b-b50bc52aafc6",
   "metadata": {
    "tags": []
   },
   "outputs": [],
   "source": [
    "# define the data to train on\n",
    "X1 = og_trb_su2022_X.copy()\n",
    "# setup a mask for CD8+ cells\n",
    "y1 = pd.Series(X1.index.str.contains(':CD8'), index=X1.index)\n",
    "print(X1.shape[0], y1.sum(), y1.mean())\n",
    "\n",
    "# define the data to predict on\n",
    "X2 = og_trb_su2022_X.copy()\n",
    "# setup a mask for CD8+ cells\n",
    "y2 = pd.Series(X2.index.str.contains(':CD8'), index=X2.index)\n",
    "print(X2.shape[0], y2.sum(), y2.mean())\n",
    "\n",
    "# define whether we are to predict on the complete data\n",
    "pred_on_all = True\n",
    "# perform predictions with all\n",
    "df_stat_covid, probas_covid = interrogate_with_globals()"
   ]
  },
  {
   "cell_type": "code",
   "execution_count": null,
   "id": "09d128c4-170c-43b1-9e83-da441ecaaa2c",
   "metadata": {
    "tags": []
   },
   "outputs": [],
   "source": [
    "# project the CD8 probabilities\n",
    "proba_cd8 = pd.concat(probas_covid, axis=1).mean(1)\n",
    "fig, ax = plt.subplots(figsize=[4, 3]); ax.grid(False)\n",
    "mask = proba_cd8.index.str.endswith('CD8')\n",
    "sns.kdeplot(proba_cd8[mask], color='tab:green', lw=2, fill=True, alpha=0.8, bw_adjust=0.5, label='CD8+')\n",
    "mask = proba_cd8.index.str.endswith('CD4')\n",
    "sns.kdeplot(proba_cd8[mask], color='tab:orange', lw=2, fill=True, alpha=0.8, bw_adjust=0.5, label='CD4+')\n",
    "ax.set(xlabel='Probability of CD8+')\n",
    "ax.legend(bbox_transform=ax.transAxes, bbox_to_anchor=(1.01, .5), frameon=False, loc='center left')"
   ]
  },
  {
   "cell_type": "code",
   "execution_count": null,
   "id": "b96c6f92-2617-4660-a0cb-40f760617a7f",
   "metadata": {
    "tags": []
   },
   "outputs": [],
   "source": [
    "# retrieve clinical characteristics\n",
    "df_out = pd.read_table('../../COVID_ISB_STORAGE/observations_2021-11-03_1042.tsv', index_col=0)\n",
    "# look at the samples that have confident CD8s vs. those that do not\n",
    "samples_bad = proba_cd8[proba_cd8.index.str.endswith('CD8') & (proba_cd8 < 0.25)]\n",
    "samples_bad.index = samples_bad.index.str.slice(0, -4)\n",
    "samples_good = proba_cd8[proba_cd8.index.str.endswith('CD8') & (proba_cd8 >= 0.75)]\n",
    "samples_good.index = samples_good.index.str.slice(0, -4)\n",
    "# extract baseline samples\n",
    "s_bad = samples_bad[samples_bad.index.str.endswith('-1')]\n",
    "s_good = samples_good[samples_good.index.str.endswith('-1')]\n",
    "\n",
    "# get the tag, keeping only pairs that have at least min_cells cells\n",
    "data = results_tcr['SU_CELL2022_COVID19'][['sample','TcellType','TRB']].astype(str).copy()\n",
    "data['tag'] = data[['sample','TcellType']].astype(str).agg(':'.join, axis=1)\n",
    "data['TRB'][~data['TRB'].isin(a_trb.obs.index)] = np.nan\n",
    "data = data.dropna(subset=['TRB'])\n",
    "counts = data['tag'].value_counts(); tags = counts.index[counts >= min_cells]\n",
    "# subset accordingly\n",
    "counts = counts.loc[tags]\n",
    "counts_cd8 = counts.loc[counts.index.str.endswith(':CD8')]\n",
    "counts_cd4 = counts.loc[counts.index.str.endswith(':CD4')]"
   ]
  },
  {
   "cell_type": "code",
   "execution_count": null,
   "id": "78817fc8-a8e8-4a80-b6c0-362a8b5d4698",
   "metadata": {
    "tags": []
   },
   "outputs": [],
   "source": [
    "# look at the purity as a function of number of cells\n",
    "fig, ax = plt.subplots(figsize=[4, 4]); ax.grid(False)\n",
    "ax.scatter(proba_cd8.loc[counts_cd8.index], np.log10(counts_cd8), s=1, color='dodgerblue')\n",
    "ax.set(xlabel='CD8 Purity Confidence\\nPredicted Prob. of CD8+ as CD8',\n",
    "       ylabel='log$_{10}$(Number of CD8+ T cells)')\n",
    "ss.pearsonr(proba_cd8.loc[counts_cd8.index], np.log10(counts_cd8))"
   ]
  },
  {
   "cell_type": "code",
   "execution_count": null,
   "id": "2576d9b7-2ec6-422d-b5d9-9459f417eda6",
   "metadata": {
    "tags": []
   },
   "outputs": [],
   "source": [
    "# examine for any clinical outcome differences\n",
    "df_obs = pd.read_table('../../COVID_ISB_STORAGE/outcomes_2021-11-03_1042.tsv', index_col=0)\n",
    "# extract the baseline samples\n",
    "s_bad = samples_bad[samples_bad.index.str.endswith('-1')]\n",
    "s_good = samples_good[samples_good.index.str.endswith('-1')]\n",
    "# convert into the proper annotations\n",
    "s_bad.index = 'INCOV' + s_bad.index.str.slice(0, -2).str.zfill(3)\n",
    "s_good.index = 'INCOV' + s_good.index.str.slice(0, -2).str.zfill(3)\n",
    "# derive the relevant ys\n",
    "ys = df_obs.loc[s_bad.index.tolist()+s_good.index.tolist(), 'days_in_hospital']\n",
    "xs = ['bad']*len(s_bad)+['good']*len(s_good)\n",
    "xs_cont = pd.concat([s_bad, s_good], axis=0)\n",
    "# save for baseline\n",
    "xs1, xs_cont1, ys1 = xs, xs_cont, ys.loc[xs_cont.index]\n",
    "\n",
    "# compare the disease severity\n",
    "fig, ax = plt.subplots(figsize=[2, 4]); ax.grid(False)\n",
    "sns.boxplot(x=xs, y=ys.loc[xs_cont.index], linecolor='dodgerblue', color='skyblue', linewidth=1.5,\n",
    "            saturation=1, order=['bad','good'])\n",
    "ax.set_xlim(-0.75, 1.75)\n",
    "ax.set_xticklabels(['≥75%','<25%'][::-1])\n",
    "ax.set(xlabel='CD8 Purity Conf.', ylabel='Days in the Hospital')\n",
    "# ax.tick_params(axis='x', labelrotation=90)\n",
    "ss.mannwhitneyu(ys.loc[xs_cont.index][np.array(xs)=='bad'].tolist(),\n",
    "                ys.loc[xs_cont.index][np.array(xs)=='good'].tolist())"
   ]
  },
  {
   "cell_type": "code",
   "execution_count": null,
   "id": "1c2ac067-3d22-4f37-9d87-7ef5879d7b81",
   "metadata": {
    "tags": []
   },
   "outputs": [],
   "source": [
    "# repeat with WOS based clinical grading\n",
    "s_bad = samples_bad[samples_bad.index.str.endswith('-1')]\n",
    "s_good = samples_good[samples_good.index.str.endswith('-1')]\n",
    "s_bad.index = 'INCOV' + s_bad.index.str.slice(0, -2).str.zfill(3)\n",
    "s_good.index = 'INCOV' + s_good.index.str.slice(0, -2).str.zfill(3)\n",
    "\n",
    "# derive the relevant ys\n",
    "ys = df_out.loc[df_out['incov_redcap_event_name'] == 'baseline_blood_dra_arm_1', 'who_ordinal_scale'].dropna()\n",
    "ys = ys.str.replace('1 or 2', '1.5').astype(float)\n",
    "s_bad = s_bad.loc[s_bad.index.isin(ys.index)]\n",
    "s_good = s_good.loc[s_good.index.isin(ys.index)]\n",
    "xs = ['bad']*len(s_bad)+['good']*len(s_good)\n",
    "xs_cont = pd.concat([s_bad, s_good], axis=0)\n",
    "# save for baseline\n",
    "xs1, xs_cont1, ys1 = xs, xs_cont, ys.loc[xs_cont.index]\n",
    "\n",
    "# compare the disease severity\n",
    "fig, ax = plt.subplots(figsize=[2, 4]); ax.grid(False)\n",
    "sns.boxplot(x=xs, y=ys.loc[xs_cont.index], linecolor='dodgerblue', color='skyblue', linewidth=1.5,\n",
    "            saturation=1, order=['bad','good'])\n",
    "ax.set_xlim(-0.75, 1.75)\n",
    "ax.set_xticklabels(['≥75%','<25%'][::-1])\n",
    "ax.set(xlabel='CD8 Purity Conf.', ylabel='COVID-19 Severity (T1)')\n",
    "# ax.tick_params(axis='x', labelrotation=90)\n",
    "print(ss.mannwhitneyu(ys.loc[xs_cont.index][np.array(xs)=='bad'].tolist(),\n",
    "                ys.loc[xs_cont.index][np.array(xs)=='good'].tolist()))\n",
    "\n",
    "# extract the baseline samples\n",
    "s_bad = samples_bad[samples_bad.index.str.endswith('-1')]\n",
    "s_good = samples_good[samples_good.index.str.endswith('-1')]\n",
    "# convert into the proper annotations\n",
    "s_bad.index = 'INCOV' + s_bad.index.str.slice(0, -2).str.zfill(3)\n",
    "s_good.index = 'INCOV' + s_good.index.str.slice(0, -2).str.zfill(3)\n",
    "\n",
    "# derive the relevant ys\n",
    "ys = df_out.loc[df_out['incov_redcap_event_name'] == 'acute_blood_draw_arm_1', 'who_ordinal_scale'].dropna()\n",
    "ys = ys.str.replace('1 or 2', '1.5').astype(float)\n",
    "s_bad = s_bad.loc[s_bad.index.isin(ys.index)]\n",
    "s_good = s_good.loc[s_good.index.isin(ys.index)]\n",
    "xs = ['bad']*len(s_bad)+['good']*len(s_good)\n",
    "xs_cont = pd.concat([s_bad, s_good], axis=0)\n",
    "# save for baseline\n",
    "xs1, xs_cont1, ys1 = xs, xs_cont, ys.loc[xs_cont.index]\n",
    "\n",
    "# compare the disease severity\n",
    "fig, ax = plt.subplots(figsize=[2, 4]); ax.grid(False)\n",
    "sns.boxplot(x=xs, y=ys.loc[xs_cont.index], linecolor='dodgerblue', color='skyblue', linewidth=1.5,\n",
    "            saturation=1, order=['bad','good'], medianprops=dict(color='blue'))\n",
    "ax.set_xlim(-0.75, 1.75)\n",
    "ax.set_xticklabels(['≥75%','<25%'][::-1])\n",
    "ax.set(xlabel='CD8 Purity Conf.', ylabel='COVID-19 Severity (T2)')\n",
    "# ax.tick_params(axis='x', labelrotation=90)\n",
    "print(ss.mannwhitneyu(ys.loc[xs_cont.index][np.array(xs)=='bad'].tolist(),\n",
    "                ys.loc[xs_cont.index][np.array(xs)=='good'].tolist()))"
   ]
  },
  {
   "cell_type": "code",
   "execution_count": null,
   "id": "c9188110-c179-4091-9bea-53001f3743e9",
   "metadata": {
    "tags": []
   },
   "outputs": [],
   "source": [
    "# compare against plasma protein profiles\n",
    "df_pro = pd.read_excel('../../COVID_ISB_STORAGE/1-s2.0-S0092867422000721-mmc2.xlsx', sheet_name=1, index_col=1)\n",
    "df_pro = df_pro.loc[~df_pro.index.isna()]\n",
    "df_pro.index = df_pro.index.str.replace('-T','-')\n",
    "# derive a subset\n",
    "df_pro_ = df_pro.loc[df_pro.index.str.endswith('-1')].iloc[:, 5:].copy().T\n",
    "df_pro_['gene'] = df_pro_.index.to_series().str.split('_', expand=True)[0]\n",
    "df_pro_ = df_pro_.groupby('gene').mean()\n",
    "df_pro_ = df_pro_.T; df_pro_.index = df_pro_.index.str.slice(0, -2)\n",
    "# derive the relevant xs\n",
    "s_bad_, s_good_ = s_bad.loc[s_bad.index.isin(df_pro_.index)].copy(), s_good.loc[s_good.index.isin(df_pro_.index)].copy()\n",
    "# aggregate the p-values\n",
    "df_stat = pd.DataFrame(columns=['pval','diff'])\n",
    "for col in tqdm(df_pro_.columns):\n",
    "    p = ss.mannwhitneyu(df_pro_.loc[s_bad_.index, col], df_pro_.loc[s_good_.index, col])[1]\n",
    "    d = df_pro_.loc[s_bad_.index, col].mean() - df_pro_.loc[s_good_.index, col].mean()\n",
    "    df_stat.loc[col] = p, d\n",
    "# convert to fdrs\n",
    "import statsmodels.api as sm\n",
    "import statsmodels as sm\n",
    "df_stat['fdr'] = sm.stats.multitest.fdrcorrection(df_stat['pval'])[1]\n",
    "# plot the useable scatter\n",
    "fig, ax = plt.subplots(figsize=[4, 4]); ax.grid(False)\n",
    "ax.scatter(df_stat['diff'], -np.log10(df_stat['fdr']), s=1.5, color='dodgerblue')\n",
    "ax.axvline(0, color='k'); ax.axhline(0, color='k')\n",
    "ax.set(xlabel='Plasma Protein Abundance (T1)\\nPredicted CD8+ <25% - ≥75%', ylabel='-log$_{10}$(False Discovery Rate)')\n",
    "# save the data\n",
    "df_stat.to_csv('../outs/250424_plasmaprotein.t1diff_cd8goodbad.csv')"
   ]
  },
  {
   "cell_type": "code",
   "execution_count": null,
   "id": "cbcfc9f8-1238-4d52-a44c-6448d3de5fab",
   "metadata": {
    "tags": []
   },
   "outputs": [],
   "source": [
    "# derive a subset (T2)\n",
    "df_pro_ = df_pro.loc[df_pro.index.str.endswith('-2')].iloc[:, 5:].copy().T\n",
    "df_pro_['gene'] = df_pro_.index.to_series().str.split('_', expand=True)[0]\n",
    "df_pro_ = df_pro_.groupby('gene').mean()\n",
    "df_pro_ = df_pro_.T; df_pro_.index = df_pro_.index.str.slice(0, -2)\n",
    "# derive the relevant xs\n",
    "s_bad_, s_good_ = s_bad.loc[s_bad.index.isin(df_pro_.index)].copy(), s_good.loc[s_good.index.isin(df_pro_.index)].copy()\n",
    "# aggregate the p-values\n",
    "df_stat = pd.DataFrame(columns=['pval','diff'])\n",
    "for col in tqdm(df_pro_.columns):\n",
    "    p = ss.mannwhitneyu(df_pro_.loc[s_bad_.index, col], df_pro_.loc[s_good_.index, col])[1]\n",
    "    d = df_pro_.loc[s_bad_.index, col].mean() - df_pro_.loc[s_good_.index, col].mean()\n",
    "    df_stat.loc[col] = p, d\n",
    "# convert to fdrs\n",
    "import statsmodels.api as sm\n",
    "import statsmodels as sm\n",
    "df_stat['fdr'] = sm.stats.multitest.fdrcorrection(df_stat['pval'])[1]\n",
    "# plot the useable scatter\n",
    "fig, ax = plt.subplots(figsize=[4, 4]); ax.grid(False)\n",
    "ax.scatter(df_stat['diff'], -np.log10(df_stat['fdr']), s=1.5, color='dodgerblue')\n",
    "ax.axvline(0, color='k'); ax.axhline(0, color='k')\n",
    "ax.set(xlabel='Plasma Protein Abundance (T2)\\nPredicted CD8+ <25% - ≥75%', ylabel='-log$_{10}$(False Discovery Rate)')\n",
    "# save the data\n",
    "df_stat.to_csv('../outs/250424_plasmaprotein.t2diff_cd8goodbad.csv')"
   ]
  },
  {
   "cell_type": "markdown",
   "id": "d8b38ce5-1f36-4349-b09b-d1af882ee870",
   "metadata": {},
   "source": [
    "#### Visualize Single Cell Scores"
   ]
  },
  {
   "cell_type": "code",
   "execution_count": null,
   "id": "8549441d-caf2-48ec-981b-d27e275f885b",
   "metadata": {},
   "outputs": [],
   "source": [
    "# define the data to train on\n",
    "X1 = og_trb_su2022_X.copy()\n",
    "# setup a mask for CD8+ cells\n",
    "y1 = pd.Series(X1.index.str.contains(':CD8'), index=X1.index)\n",
    "# define the data to predict on\n",
    "trbs = results_tcr['SU_CELL2022_COVID19'].loc[adata.obs.index, 'TRB'].dropna().unique()\n",
    "trbs = a_trb.obs.index.intersection(trbs)\n",
    "X2 = pd.DataFrame(a_trb[trbs].X.toarray(), index=trbs)\n",
    "# setup a mask for CD8+ cells\n",
    "y2 = pd.Series(np.random.choice([0, 1], size=X2.shape[0]), index=X2.index)\n",
    "# define whether we are to predict on the complete data\n",
    "pred_on_all = True\n",
    "# perform predictions with all\n",
    "df_stat_covid, probas_covid = interrogate_with_globals()"
   ]
  },
  {
   "cell_type": "code",
   "execution_count": null,
   "id": "cd0ca40a-5e8a-4583-a778-d209887c1407",
   "metadata": {
    "tags": []
   },
   "outputs": [],
   "source": [
    "# grab the data\n",
    "adata = sc.read_h5ad('../../COVID_ISB_STORAGE/upto_v16_P_GE_int_gex_cd8_t_cells.has_abtcr_chain.h5ad')\n",
    "# derive the probabilities of being a CD8\n",
    "proba_cd8_sctcr = pd.concat(probas_covid, axis=1).mean(1)\n",
    "proba_cd8_sccell = results_tcr['SU_CELL2022_COVID19']['TRB'].map(proba_cd8_sctcr)\n",
    "adata.obs['prob_cd8_from_tcr'] = proba_cd8_sccell\n",
    "# derive the data\n",
    "adata.obs['score'] = adata.obs['prob_cd8_from_tcr'].copy()\n",
    "adata.obs['score'] -= adata.obs['score'].mean()\n",
    "adata.obs['score'] /= adata.obs['score'].std()\n",
    "# visualize the data\n",
    "fig, ax = plt.subplots(figsize=[4, 4]); ax.grid(False)\n",
    "sns.barplot(x='phenotype', y='score', data=adata.obs, color='skyblue', errcolor='dodgerblue',\n",
    "            edgecolor='dodgerblue', linewidth=1.5, saturation=1, ci=95, errwidth=1.5, capsize=0.3)\n",
    "ax.tick_params(axis='x', labelrotation=90); ax.set_xlim(-0.75, 5.75)\n",
    "ax.set(xlabel='Phenotype', ylabel='Relative CD8 Purity Confidence')\n",
    "ax.axhline(0, color='k')\n",
    "print(ss.kruskal(*[adata.obs['score'][adata.obs['phenotype'] == x].dropna().tolist() for x in adata.obs['phenotype'].unique()]))\n",
    "# print out the p-values\n",
    "for x in adata.obs['phenotype'].unique():\n",
    "    if x == 'CD8_Cytotoxic': continue\n",
    "    print(f'p vs. {x}', ss.mannwhitneyu(*[adata.obs.loc[adata.obs['phenotype'] == x, 'score'].dropna() for x in ['CD8_Cytotoxic', x]])[1])"
   ]
  },
  {
   "cell_type": "code",
   "execution_count": null,
   "id": "08636c1b-2e13-4951-8528-c0dbbb4dcbe4",
   "metadata": {
    "tags": []
   },
   "outputs": [],
   "source": [
    "# score with multiple objects\n",
    "adata = sc.read_h5ad('../../COVID_ISB_STORAGE/upto_v16_P_GE_int_gex_cd8_t_cells.has_abtcr_chain.h5ad')\n",
    "results_tcr['SU_CELL2022_COVID19']['phenotype_leiden'] = adata.obs[['phenotype','leiden']].astype(str).agg('_'.join, axis=1)\n",
    "results_tcr['SU_CELL2022_COVID19']['phenotype'] = adata.obs['phenotype'].astype(str)\n",
    "\n",
    "# define the data to predict on\n",
    "trbs = results_tcr['SU_CELL2022_COVID19']['TRB'].dropna().unique()\n",
    "trbs = a_trb.obs.index.intersection(trbs)\n",
    "X2 = pd.DataFrame(a_trb[trbs].X.toarray(), index=trbs)\n",
    "# setup a mask for CD8+ cells\n",
    "y2 = pd.Series(np.random.choice([0, 1], size=X2.shape[0]), index=X2.index)\n",
    "print(X2.shape[0], y2.sum(), y2.mean())\n",
    "\n",
    "# train via pan-cancer data\n",
    "X1 = og_trb_zheng2021_X.copy()\n",
    "y1 = pd.Series(X1.index.str.contains(':CD8'), index=X1.index)\n",
    "_, probas_covid_from_pancan = interrogate_with_globals()\n",
    "\n",
    "# train via covid+healthy data\n",
    "X1 = og_trb_su2022_X.copy()\n",
    "y1 = pd.Series(X1.index.str.contains(':CD8'), index=X1.index)\n",
    "_, probas_covid_from_covid = interrogate_with_globals()\n",
    "\n",
    "# train via fetal data\n",
    "X1 = og_trb_suo2022_X.copy()\n",
    "y1 = pd.Series(X1.index.str.contains(':CD8'), index=X1.index)\n",
    "_, probas_covid_from_fetal = interrogate_with_globals()"
   ]
  },
  {
   "cell_type": "code",
   "execution_count": null,
   "id": "26a31715-4470-42ed-b77a-d8fc1100b1ad",
   "metadata": {
    "tags": []
   },
   "outputs": [],
   "source": [
    "# derive single cell scores from cancer datasets\n",
    "t2s = pd.concat(probas_covid_from_pancan, axis=1).mean(1)\n",
    "data = results_tcr['SU_CELL2022_COVID19'][['TRB','phenotype']].dropna()\n",
    "data['prob'] = data['TRB'].map(t2s); data = data.dropna()\n",
    "data['prob'] -= data['prob'].mean(); data['prob'] /= data['prob'].std()\n",
    "probcd8_covid_from_pancan = data.copy()\n",
    "# derive single cell scores from covid+hd datasets\n",
    "t2s = pd.concat(probas_covid_from_covid, axis=1).mean(1)\n",
    "data = results_tcr['SU_CELL2022_COVID19'][['TRB','phenotype']].dropna()\n",
    "data['prob'] = data['TRB'].map(t2s); data = data.dropna()\n",
    "data['prob'] -= data['prob'].mean(); data['prob'] /= data['prob'].std()\n",
    "probcd8_covid_from_covid = data.copy()\n",
    "# derive single cell scores from fetal datasets\n",
    "t2s = pd.concat(probas_covid_from_fetal, axis=1).mean(1)\n",
    "data = results_tcr['SU_CELL2022_COVID19'][['TRB','phenotype']].dropna()\n",
    "data['prob'] = data['TRB'].map(t2s); data = data.dropna()\n",
    "data['prob'] -= data['prob'].mean(); data['prob'] /= data['prob'].std()\n",
    "probcd8_covid_from_fetal = data.copy()"
   ]
  },
  {
   "cell_type": "code",
   "execution_count": null,
   "id": "31f967bf-ea84-4500-aaa1-017e3fcfc715",
   "metadata": {
    "tags": []
   },
   "outputs": [],
   "source": [
    "from mpl_toolkits.mplot3d import Axes3D\n",
    "# retrieve points\n",
    "x = -probcd8_covid_from_pancan.groupby('phenotype').mean(numeric_only=True)['prob']\n",
    "y = -probcd8_covid_from_covid.groupby('phenotype').mean(numeric_only=True)['prob'].loc[x.index]\n",
    "z = -probcd8_covid_from_fetal.groupby('phenotype').mean(numeric_only=True)['prob'].loc[x.index]\n",
    "# create the figure and 3D axes\n",
    "fig = plt.figure(figsize=(4, 4))\n",
    "ax = fig.add_subplot(111, projection='3d')\n",
    "# create the scatter plot\n",
    "c = ['r' if 'Cytotoxic' in idx else 'b' for idx in x.index]\n",
    "c = np.array(c)\n",
    "ax.scatter(x[c == 'r'], y[c == 'r'], z[c == 'r'], c='b', marker='o', edgecolor='k', s=1e2)\n",
    "ax.scatter(x[c != 'r'], y[c != 'r'], z[c != 'r'], c='skyblue', marker='s', edgecolor='k', s=1e2)\n",
    "ax.set(xlabel='from Pancan', ylabel='from COVID', zlabel='from Fetal')"
   ]
  }
 ],
 "metadata": {
  "kernelspec": {
   "display_name": "gpu39",
   "language": "python",
   "name": "gpu39"
  },
  "language_info": {
   "codemirror_mode": {
    "name": "ipython",
    "version": 3
   },
   "file_extension": ".py",
   "mimetype": "text/x-python",
   "name": "python",
   "nbconvert_exporter": "python",
   "pygments_lexer": "ipython3",
   "version": "3.9.18"
  }
 },
 "nbformat": 4,
 "nbformat_minor": 5
}

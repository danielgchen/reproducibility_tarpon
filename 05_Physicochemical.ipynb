{
 "cells": [
  {
   "cell_type": "code",
   "execution_count": null,
   "id": "22825174-8885-4b1b-bf6b-120480734b46",
   "metadata": {},
   "outputs": [],
   "source": [
    "import matplotlib.pyplot as plt\n",
    "import numpy as np\n",
    "import pandas as pd\n",
    "import scanpy as sc\n",
    "import scipy.stats as ss\n",
    "import seaborn as sns\n",
    "sc.settings.set_figure_params(dpi=100)\n",
    "print(sc.__version__)"
   ]
  },
  {
   "cell_type": "code",
   "execution_count": null,
   "id": "8933c529-9d33-492e-a75c-942c84367de4",
   "metadata": {},
   "outputs": [],
   "source": [
    "import blosum as bl\n",
    "# perform encoding by direct, BCP, BLOSUM\n",
    "vocab = ['A','C','D','E','F','G','H','I','K','L','M','N','P','Q','R','S','T','V','W','Y']\n",
    "# direct encoding\n",
    "map_direct = {x:[1 * (x == y) for y in vocab] for x in vocab}\n",
    "# bcp encoding\n",
    "aa_hydrophobicity = {\n",
    "    'A': 1.8,  # Alanine\n",
    "    'R': -4.5,  # Arginine\n",
    "    'N': -3.5,  # Asparagine\n",
    "    'D': -3.5,  # Aspartic Acid\n",
    "    'C': 2.5,  # Cysteine\n",
    "    'E': -3.5,  # Glutamic Acid\n",
    "    'Q': -3.5,  # Glutamine\n",
    "    'G': -0.4,  # Glycine\n",
    "    'H': -3.2,  # Histidine\n",
    "    'I': 4.5,  # Isoleucine\n",
    "    'L': 3.8,  # Leucine\n",
    "    'K': -3.9,  # Lysine\n",
    "    'M': 1.9,  # Methionine\n",
    "    'F': 2.8,  # Phenylalanine\n",
    "    'P': -1.6,  # Proline\n",
    "    'S': -0.8,  # Serine\n",
    "    'T': -0.7,  # Threonine\n",
    "    'W': -0.9,  # Tryptophan\n",
    "    'Y': -1.3,  # Tyrosine\n",
    "    'V': 4.2,  # Valine\n",
    "}\n",
    "# https://www.imgt.org/IMGTeducation/Aide-memoire/_UK/aminoacids/IMGTclasses.html\n",
    "aa_volume = {\n",
    "    'A': 88.6,   # Alanine\n",
    "    'R': 173.4,  # Arginine\n",
    "    'N': 114.1,  # Asparagine\n",
    "    'D': 111.1,  # Aspartic Acid\n",
    "    'C': 108.5,  # Cysteine\n",
    "    'E': 138.4,  # Glutamic Acid\n",
    "    'Q': 143.8,  # Glutamine\n",
    "    'G': 60.1,   # Glycine\n",
    "    'H': 153.2,  # Histidine\n",
    "    'I': 166.7,  # Isoleucine\n",
    "    'L': 166.7,  # Leucine\n",
    "    'K': 168.6,  # Lysine\n",
    "    'M': 162.9,  # Methionine\n",
    "    'F': 189.9,  # Phenylalanine\n",
    "    'P': 112.7,  # Proline\n",
    "    'S': 89.0,   # Serine\n",
    "    'T': 116.1,  # Threonine\n",
    "    'W': 227.8,  # Tryptophan\n",
    "    'Y': 193.6,  # Tyrosine\n",
    "    'V': 140.0,  # Valine\n",
    "}\n",
    "# 1 = donor and acceptor, 0.5 = only donor or acceptor\n",
    "aa_hbond = {\n",
    "    'A': 0,    # Alanine\n",
    "    'R': 0.5,  # Arginine\n",
    "    'N': 1,    # Asparagine\n",
    "    'D': 0.5,  # Aspartic Acid\n",
    "    'C': 0,    # Cysteine\n",
    "    'E': 0.5,  # Glutamic Acid\n",
    "    'Q': 1,    # Glutamine\n",
    "    'G': 0,    # Glycine\n",
    "    'H': 1,    # Histidine\n",
    "    'I': 0,    # Isoleucine\n",
    "    'L': 0,    # Leucine\n",
    "    'K': 0.5,  # Lysine\n",
    "    'M': 0,    # Methionine\n",
    "    'F': 0,    # Phenylalanine\n",
    "    'P': 0,    # Proline\n",
    "    'S': 1,    # Serine\n",
    "    'T': 1,    # Threonine\n",
    "    'W': 0.5,  # Tryptophan\n",
    "    'Y': 1,    # Tyrosine\n",
    "    'V': 0,    # Valine\n",
    "}\n",
    "has_sulfur = ['C','M']\n",
    "is_aromatic = ['F','Y','W']\n",
    "is_aliphatic = ['A','G','I','L','P','V']\n",
    "is_basic = ['R','H','K']\n",
    "is_acidic = ['D','E']\n",
    "has_amide = ['N','Q']\n",
    "vocab_bcp = ['hydrophobicity','volume','hbond','has_sulfur','is_aromatic',\n",
    "             'is_aliphatic','is_basic','is_acidic','has_amide']\n",
    "# > define a method to return the embedding for a given amino acid in BCP space\n",
    "def bcp_translation(aa):\n",
    "    embedding = []\n",
    "    embedding.append(aa_hydrophobicity[aa])\n",
    "    embedding.append(aa_volume[aa])\n",
    "    embedding.append(aa_hbond[aa])\n",
    "    embedding.append(1 * (aa in has_sulfur))\n",
    "    embedding.append(1 * (aa in is_aromatic))\n",
    "    embedding.append(1 * (aa in is_aliphatic))\n",
    "    embedding.append(1 * (aa in is_basic))\n",
    "    embedding.append(1 * (aa in is_acidic))\n",
    "    embedding.append(1 * (aa in has_amide))\n",
    "    return embedding\n",
    "map_bcp = {x:bcp_translation(x) for x in vocab}\n",
    "# blosum encoding\n",
    "map_blosum = {x:[bl.BLOSUM(62)[x][y] for y in vocab] for x in vocab}"
   ]
  },
  {
   "cell_type": "markdown",
   "id": "1092ffa8-ca79-419d-ab1e-99f9c51371a1",
   "metadata": {},
   "source": [
    "### Report Latent Dimension Correlation Data"
   ]
  },
  {
   "cell_type": "code",
   "execution_count": null,
   "id": "02c785ab-97ba-4319-8a03-31aa20347dc8",
   "metadata": {},
   "outputs": [],
   "source": [
    "# read in the values\n",
    "a_trb = sc.read_h5ad('../outs/adata.trb.h5ad')\n",
    "# derive the correlations between the latent dimensions\n",
    "df_corr = pd.DataFrame(a_trb.X).corr()\n",
    "def get_p(xs, ys): return ss.pearsonr(xs, ys)[1]\n",
    "df_pval = pd.DataFrame(a_trb.X).corr(method=get_p)\n",
    "for idx in df_pval.index: df_pval.loc[idx, idx] = 0"
   ]
  },
  {
   "cell_type": "code",
   "execution_count": null,
   "id": "e9eba0b7-5768-45aa-b3c6-f36f948dedf6",
   "metadata": {
    "tags": []
   },
   "outputs": [],
   "source": [
    "# report the maximum correlation\n",
    "values = df_corr.abs().values.flatten()\n",
    "values = values[values < 1]\n",
    "print(values.max())\n",
    "# compute the 1 - percentages less\n",
    "rhos = []\n",
    "for idx, x in enumerate(df_corr.index[:-1]):\n",
    "    rhos += df_corr.loc[x][idx+1:].tolist()\n",
    "print(1 - np.mean(rhos <= df_corr.loc[10, 12]))"
   ]
  },
  {
   "cell_type": "code",
   "execution_count": null,
   "id": "921a65dc-c3af-4618-a196-d309ea01b9e3",
   "metadata": {
    "tags": []
   },
   "outputs": [],
   "source": [
    "# color in the values\n",
    "fig, ax = plt.subplots(figsize=[6, 3]); ax.grid(False)\n",
    "sns.kdeplot(rhos, fill=True, lw=1.5, color='skyblue', label='All Pairs')\n",
    "ax.axvline(df_corr.loc[10, 12], color='dodgerblue', lw=1.5, linestyle='--', label='10 vs. 12')\n",
    "ax.text(df_corr.loc[10, 12]*1.05, 20*0.98, '$\\leftarrow$' + '%.2f' % (np.mean(rhos <= df_corr.loc[10, 12])*100) + '%', ha='right')\n",
    "ax.set(xlabel='Pearson Correlation Coefficient\\nBetween Latent Dimensions')\n",
    "ax.legend(frameon=False)"
   ]
  },
  {
   "cell_type": "code",
   "execution_count": null,
   "id": "6f18e527-0fdc-4c04-8f27-d15027247ec7",
   "metadata": {
    "tags": []
   },
   "outputs": [],
   "source": [
    "g = sns.clustermap(df_corr, figsize=[8, 8], xticklabels=1, yticklabels=1,\n",
    "                   cmap='GnBu', vmin=-0.20, vmax=0.20, method='ward',\n",
    "                   mask=df_pval >= 0.05, cbar_pos=(-0.04, .83, .01, .08))\n",
    "g.ax_heatmap.grid(False); g.ax_heatmap.set_facecolor('lightgrey')\n",
    "g.ax_cbar.set_ylabel('Pearson\\nCorrelation\\nCoefficient', rotation=0, ha='left', y=1)"
   ]
  },
  {
   "cell_type": "markdown",
   "id": "438399d6-f019-47cb-8a1e-9b475b0da112",
   "metadata": {},
   "source": [
    "### Visualize Latent Dimensions, TCR Lengths"
   ]
  },
  {
   "cell_type": "code",
   "execution_count": null,
   "id": "365c0a35-9489-4168-9bc6-c0de96f7e13f",
   "metadata": {
    "tags": []
   },
   "outputs": [],
   "source": [
    "# plot the latent dimensions\n",
    "sc.pl.umap(a_trb, color=['12'], cmap='plasma', vmin=-2, vmax=2)\n",
    "sc.pl.umap(a_trb, color=['10'], cmap='plasma', vmin=-2, vmax=2)\n",
    "# plot the length\n",
    "sc.pl.umap(a_trb, color=['LEN'], cmap='Blues', vmin=10, vmax=20)"
   ]
  },
  {
   "cell_type": "markdown",
   "id": "f5d3ccf8-d8e2-4185-9101-8d5967b05aeb",
   "metadata": {},
   "source": [
    "### Visualize Physicochemical Characteristics"
   ]
  },
  {
   "cell_type": "code",
   "execution_count": null,
   "id": "a435dbdc-b106-4460-a65f-7ec0b809b94d",
   "metadata": {
    "tags": []
   },
   "outputs": [],
   "source": [
    "from matplotlib.colors import ListedColormap\n",
    "# create out own colormap\n",
    "N = 256\n",
    "vals = np.ones((N, 4))\n",
    "vals[:, 0] = np.linspace(0, 112/256, N // 3).tolist() + np.linspace(112/256, 69/256, N - (N // 3)).tolist()\n",
    "vals[:, 1] = np.linspace(0, 5/256, N // 3).tolist() + np.linspace(5/256, 227/256, N - (N // 3)).tolist()\n",
    "vals[:, 2] = np.linspace(0, 150/256, N // 3).tolist() + np.linspace(150/256, 255/256, N - (N // 3)).tolist()\n",
    "cmap = ListedColormap(vals)"
   ]
  },
  {
   "cell_type": "code",
   "execution_count": null,
   "id": "6c9deade-17ae-495e-bb72-6cdf6f6c5b2f",
   "metadata": {
    "tags": []
   },
   "outputs": [],
   "source": [
    "# examine BCP characteristics\n",
    "og_cols = a_trb.obs.columns\n",
    "trbs = a_trb.obs.index\n",
    "a_trb.obs['hydrophob_total'] = [sum([aa_hydrophobicity[y] for y in x]) for x in trbs]\n",
    "a_trb.obs['hydrophob_mean'] = [np.mean([aa_hydrophobicity[y] for y in x]) for x in trbs]\n",
    "a_trb.obs['volume_total'] = [sum([aa_volume[y] for y in x]) for x in trbs]\n",
    "a_trb.obs['volume_mean'] = [np.mean([aa_volume[y] for y in x]) for x in trbs]\n",
    "a_trb.obs['hbond_total'] = [sum([aa_hbond[y] for y in x]) for x in trbs]\n",
    "a_trb.obs['hbond_mean'] = [np.mean([aa_hbond[y] for y in x]) for x in trbs]\n",
    "a_trb.obs['has_sulfur_total'] = [sum([1 * (y in has_sulfur) for y in x]) for x in trbs]\n",
    "a_trb.obs['has_sulfur_mean'] = [np.mean([1 * (y in has_sulfur) for y in x]) for x in trbs]\n",
    "a_trb.obs['is_aromatic_total'] = [sum([1 * (y in is_aromatic) for y in x]) for x in trbs]\n",
    "a_trb.obs['is_aromatic_mean'] = [np.mean([1 * (y in is_aromatic) for y in x]) for x in trbs]\n",
    "a_trb.obs['is_aliphatic_total'] = [sum([1 * (y in is_aliphatic) for y in x]) for x in trbs]\n",
    "a_trb.obs['is_aliphatic_mean'] = [np.mean([1 * (y in is_aliphatic) for y in x]) for x in trbs]\n",
    "a_trb.obs['is_basic_total'] = [sum([1 * (y in is_basic) for y in x]) for x in trbs]\n",
    "a_trb.obs['is_basic_mean'] = [np.mean([1 * (y in is_basic) for y in x]) for x in trbs]\n",
    "a_trb.obs['is_acidic_total'] = [sum([1 * (y in is_acidic) for y in x]) for x in trbs]\n",
    "a_trb.obs['is_acidic_mean'] = [np.mean([1 * (y in is_acidic) for y in x]) for x in trbs]\n",
    "a_trb.obs['has_amide_total'] = [sum([1 * (y in has_amide) for y in x]) for x in trbs]\n",
    "a_trb.obs['has_amide_mean'] = [np.mean([1 * (y in has_amide) for y in x]) for x in trbs]\n",
    "bcp_cols = [x for x in a_trb.obs.columns if x not in og_cols]"
   ]
  },
  {
   "cell_type": "code",
   "execution_count": null,
   "id": "d0074d3c-780d-4626-8a18-3dbe212560c8",
   "metadata": {
    "tags": []
   },
   "outputs": [],
   "source": [
    "# visually examine the differences for each BCP\n",
    "for col in [x for x in bcp_cols if '_total' in x]:\n",
    "    vmin, vmax = np.percentile(a_trb.obs[col], 1), np.percentile(a_trb.obs[col], 99)\n",
    "    print(col, vmin, vmax)\n",
    "    sc.pl.umap(a_trb, color=[col], cmap=cmap, vmin=vmin, vmax=vmax)"
   ]
  },
  {
   "cell_type": "code",
   "execution_count": null,
   "id": "70133db8-48a8-467f-a642-4a7f004484f5",
   "metadata": {
    "tags": []
   },
   "outputs": [],
   "source": [
    "# highlight the different BCP characteristics\n",
    "df_bcp = a_trb.obs[[x for x in bcp_cols if '_total' in x] + ['leiden']].groupby('leiden').mean()\n",
    "g = sns.clustermap(df_bcp, method='ward', figsize=[4.3, 8], cmap=cmap,\n",
    "                   standard_scale=1, cbar_pos=(0, 1, .01, .08), dendrogram_ratio=(.2, .1))\n",
    "g.ax_heatmap.grid(False); g.ax_heatmap.tick_params(axis='y', labelrotation=0)"
   ]
  },
  {
   "cell_type": "markdown",
   "id": "535830e1-8619-461c-8c71-74104647efba",
   "metadata": {},
   "source": [
    "### Evaluate YLQ-Specific Physicochemical Charateristics and Latent Dimensions"
   ]
  },
  {
   "cell_type": "code",
   "execution_count": null,
   "id": "e558a6e0-9b90-479a-900c-e74b200a33e5",
   "metadata": {
    "tags": []
   },
   "outputs": [],
   "source": [
    "# read in the data\n",
    "df = pd.read_csv('../outs/df.int.clean.csv', index_col=0)\n",
    "# retrieve the data\n",
    "trbs = df.loc[df['AG'] == 'YLQPRTFLL', 'TRB']\n",
    "trbs = trbs[trbs.isin(a_trb.obs.index)]\n",
    "targ = a_trb[trbs].X"
   ]
  },
  {
   "cell_type": "code",
   "execution_count": null,
   "id": "9a32897c-3f97-4c82-9027-4877c7563a0b",
   "metadata": {
    "tags": []
   },
   "outputs": [],
   "source": [
    "# plot the densities for latent dimensions\n",
    "pvals = []\n",
    "fig, axs = plt.subplots(32, 1, figsize=[3, 1.5*32])\n",
    "for dim in range(32):\n",
    "    np.random.seed(0)\n",
    "    ax = axs[dim]\n",
    "    ax.grid(False)\n",
    "    sns.kdeplot(np.random.choice(a_trb.X[:, dim], size=len(targ), replace=False),\n",
    "                color='lightgrey', lw=1.5, fill=True, alpha=0.5, ax=ax)\n",
    "    sns.kdeplot(targ[:, dim], color='dodgerblue', lw=1.5, fill=True, alpha=0.5, ax=ax)\n",
    "    ax.set_xticks([]); ax.set_yticks([])\n",
    "    ax.set_xlabel(f'Latent Dimension {dim+1}')\n",
    "    pvals.append(ss.mannwhitneyu(np.random.choice(a_trb.X[:, dim], size=len(targ), replace=False), targ[:, dim])[1])\n",
    "fig.tight_layout()\n",
    "# copy over pvals\n",
    "pvals_dim = pvals"
   ]
  },
  {
   "cell_type": "code",
   "execution_count": null,
   "id": "d25550ba-bd9e-411a-9b06-1c401387e5ca",
   "metadata": {
    "tags": []
   },
   "outputs": [],
   "source": [
    "# retrieve the data\n",
    "trbs = df.loc[df['AG'] == 'YLQPRTFLL', 'TRB']\n",
    "trbs = trbs[trbs.isin(a_trb.obs.index)]\n",
    "targ = a_trb.obs.loc[trbs, bcp_cols]\n",
    "cols = [x for x in bcp_cols if '_total' in x]\n",
    "labels = ['Hydrophobic','Volume','H-Bond','Sulfur','Aromatic','Aliphatic','Basic','Acidic','Amide']"
   ]
  },
  {
   "cell_type": "code",
   "execution_count": null,
   "id": "c48f4d16-fa44-4737-9063-646bc82ab046",
   "metadata": {
    "tags": []
   },
   "outputs": [],
   "source": [
    "# plot the densities\n",
    "fig, axs = plt.subplots(9, 1, figsize=[3, 1.5*9])\n",
    "pvals = []\n",
    "for idx, (label, dim) in enumerate(zip(labels, cols)):\n",
    "    np.random.seed(0)\n",
    "    ax = axs[idx]\n",
    "    ax.grid(False)\n",
    "    sns.kdeplot(np.random.choice(a_trb.obs[dim], size=len(targ), replace=False),\n",
    "                color='lightgrey', lw=1.5, fill=True, alpha=0.5, ax=ax)\n",
    "    sns.kdeplot(targ[dim], color='dodgerblue', lw=1.5, fill=True, alpha=0.5, ax=ax)\n",
    "    ax.set_xticks([]); ax.set_yticks([])\n",
    "    ax.set_xlabel(label)\n",
    "    pvals.append(ss.mannwhitneyu(np.random.choice(a_trb.obs[dim], size=len(targ), replace=False), targ[dim])[1])\n",
    "fig.tight_layout()\n",
    "# copy over pvals\n",
    "pvals_bcp = pvals"
   ]
  },
  {
   "cell_type": "code",
   "execution_count": null,
   "id": "ee8b84a2-87cd-47cb-b032-8e2abda6204e",
   "metadata": {
    "tags": []
   },
   "outputs": [],
   "source": [
    "# visualize p-values for latent dimensions\n",
    "fig, ax = plt.subplots(figsize=[8, 4]); ax.grid(False)\n",
    "ax.bar([str(x) for x in range(1, 33)], -np.log10(pvals_dim[:32]), edgecolor='dodgerblue', lw=1.5, color='skyblue')\n",
    "ax.set(ylabel='-log$_{10}$(p-value)\\nYLQ-specific vs. Random')\n",
    "ax.tick_params(axis='x', labelrotation=90)\n",
    "# and for BCPs\n",
    "fig, ax = plt.subplots(figsize=[3, 4]); ax.grid(False)\n",
    "ax.bar(labels, -np.log10(pvals_bcp), edgecolor='dodgerblue', lw=1.5, color='skyblue')\n",
    "ax.set(ylabel='-log$_{10}$(p-value)\\nYLQ-specific vs. Random')\n",
    "ax.tick_params(axis='x', labelrotation=90)"
   ]
  },
  {
   "cell_type": "markdown",
   "id": "e124645e-14f1-44b4-baa8-40459ed04478",
   "metadata": {},
   "source": [
    "### Repeat Exercise for Multiple Epitopes"
   ]
  },
  {
   "cell_type": "code",
   "execution_count": null,
   "id": "d591482d-a271-415e-ad01-2bf4ca51fe87",
   "metadata": {
    "tags": []
   },
   "outputs": [],
   "source": [
    "# list the epitopes to study\n",
    "epitopes = ['YLQPRTFLL','NLVPMVATV','TPRVTGGGAM','GILGFVFTL','GLCTLVAML','YVLDHLIVV',\n",
    "            'ELAGIGILTV','EAAGIGILTV','SLLMWITQC','KLGGALQAK','AVFDRKSDAK','RAKFKQLL',\n",
    "            'IVTDFSVIK','LLWNGPMAV','SPRWYFYYL','TTDPSFLGRY','RLRAEAQVK','LLLDRLNQL',\n",
    "            'LTDEMIAQY','CINGVCWTV','KTFPPTEPK','QYIKWPWYI','VMTTVLATL','DATYQRTRALVR','NQKLIANQF','FLCMKALLL']"
   ]
  },
  {
   "cell_type": "code",
   "execution_count": null,
   "id": "447aa701-5a8b-4a30-8590-5929f95d0f9a",
   "metadata": {
    "tags": []
   },
   "outputs": [],
   "source": [
    "# retrieve the data\n",
    "targs = []\n",
    "for epitope in epitopes:\n",
    "    trbs = df.loc[df['AG'] == epitope, 'TRB']\n",
    "    trbs = trbs[trbs.isin(a_trb.obs.index)]\n",
    "    targ = a_trb.obs.loc[trbs, cols].mean(0)\n",
    "    targ.name = epitope\n",
    "    targs.append(targ)\n",
    "targ = pd.concat(targs, axis=1)\n",
    "targ.index = labels"
   ]
  },
  {
   "cell_type": "code",
   "execution_count": null,
   "id": "00111d04-17ac-4eb5-bd0a-f203e7f6c76f",
   "metadata": {
    "tags": []
   },
   "outputs": [],
   "source": [
    "# plot the physicochemical attributes of binding TCRs\n",
    "g = sns.clustermap(targ, standard_scale=0, method='ward', cmap=cmap, xticklabels=1,\n",
    "                   cbar_pos=(0, 1, .01, .08), figsize=[8, 5], dendrogram_ratio=(.1, .35))\n",
    "g.ax_heatmap.grid(False)"
   ]
  },
  {
   "cell_type": "code",
   "execution_count": null,
   "id": "f167af03-6bf5-45f2-bb0d-3ff2020630d2",
   "metadata": {
    "tags": []
   },
   "outputs": [],
   "source": [
    "# plot the physicochemical attributes of binding TCRs\n",
    "g = sns.clustermap(((targ.T - a_trb.obs[cols].mean(0).values)/a_trb.obs[cols].std(0).values).T, method='ward', cmap='seismic', xticklabels=1, yticklabels=1,\n",
    "                   cbar_pos=(0, 1, .01, .08), figsize=[8, 5], dendrogram_ratio=(.1, .35), vmin=-1, vmax=1)\n",
    "g.ax_heatmap.grid(False)"
   ]
  },
  {
   "cell_type": "code",
   "execution_count": null,
   "id": "521595a1-1edf-45c1-a743-2ccd02b23a56",
   "metadata": {
    "tags": []
   },
   "outputs": [],
   "source": [
    "# compute and color on the deviations\n",
    "df = ((targ.T - a_trb.obs[cols].mean(0).values)/a_trb.obs[cols].std(0).values).T.reset_index().melt(id_vars='index')\n",
    "fig, ax = plt.subplots(figsize=[4, 4]); ax.grid(False)\n",
    "sns.barplot(x='index', y='value', data=df, ax=ax, ci=95, errwidth=1.5, capsize=0.3, errcolor='dodgerblue',\n",
    "            edgecolor='dodgerblue', saturation=1, color='skyblue', linewidth=1.5)\n",
    "ax.tick_params(axis='x', labelrotation=90)\n",
    "ax.axhline(0, linestyle='-', color='k')\n",
    "ax.set_ylabel('Deviation from Background')"
   ]
  },
  {
   "cell_type": "code",
   "execution_count": null,
   "id": "99467541-3543-4cc3-a724-3209edcca58e",
   "metadata": {
    "tags": []
   },
   "outputs": [],
   "source": [
    "# read in the data\n",
    "df = pd.read_csv('../outs/df.int.clean.csv', index_col=0)\n",
    "df.shape\n",
    "# retrieve the data\n",
    "targs = []\n",
    "for epitope in epitopes:\n",
    "    trbs = df.loc[df['AG'] == epitope, 'TRB']\n",
    "    trbs = trbs[trbs.isin(a_trb.obs.index)]\n",
    "    targ = pd.Series(a_trb[trbs].X.mean(0))\n",
    "    targ.name = epitope\n",
    "    targs.append(targ)\n",
    "targ = pd.concat(targs, axis=1)\n",
    "targ.index += 1"
   ]
  },
  {
   "cell_type": "code",
   "execution_count": null,
   "id": "5e796149-0946-46fd-9785-77f0d9405a6e",
   "metadata": {
    "tags": []
   },
   "outputs": [],
   "source": [
    "# plot the physicochemical attributes of binding TCRs\n",
    "g = sns.clustermap(targ, standard_scale=0, method='ward', cmap=cmap, xticklabels=1, yticklabels=1,\n",
    "                   cbar_pos=(0, 1, .01, .08), figsize=[6, 9], dendrogram_ratio=(.1, .15))\n",
    "g.ax_heatmap.grid(False)"
   ]
  },
  {
   "cell_type": "code",
   "execution_count": null,
   "id": "f074499b-8c66-4b3d-91cb-c16df9fc7376",
   "metadata": {
    "tags": []
   },
   "outputs": [],
   "source": [
    "# plot the physicochemical attributes of binding TCRs\n",
    "g = sns.clustermap(((targ.T - a_trb.X.mean(0))/a_trb.X.std(0)).T, method='ward', cmap='seismic', xticklabels=1, yticklabels=1,\n",
    "                   cbar_pos=(0, 1, .01, .08), figsize=[6, 9], dendrogram_ratio=(.1, .15), vmin=-1, vmax=1)\n",
    "g.ax_heatmap.grid(False)"
   ]
  },
  {
   "cell_type": "code",
   "execution_count": null,
   "id": "b750c37b-8c1d-4cc1-af02-eb8fd2c40a2b",
   "metadata": {
    "tags": []
   },
   "outputs": [],
   "source": [
    "# compute and color on the deviations\n",
    "df = ((targ.T - a_trb.X.mean(0))/a_trb.X.std(0)).T.reset_index().melt(id_vars='index')\n",
    "fig, ax = plt.subplots(figsize=[8, 4]); ax.grid(False)\n",
    "sns.barplot(x='index', y='value', data=df, ax=ax, ci=95, errwidth=1.5, capsize=0.3, errcolor='dodgerblue',\n",
    "            edgecolor='dodgerblue', saturation=1, color='skyblue', linewidth=1.5)\n",
    "ax.tick_params(axis='x', labelrotation=90)\n",
    "ax.axhline(0, linestyle='-', color='k')\n",
    "ax.set_ylabel('Deviation from Background')\n",
    "ax.set_xlabel('Tarpon Latent Dimension')"
   ]
  },
  {
   "cell_type": "markdown",
   "id": "4afbbe53-2e5e-4410-9d55-c01b0202ee7c",
   "metadata": {},
   "source": [
    "### Visualize BCP Continuum Across Latent Dimensions"
   ]
  },
  {
   "cell_type": "code",
   "execution_count": null,
   "id": "2f39696f-985c-4b1b-ad18-32872ef2dceb",
   "metadata": {
    "tags": []
   },
   "outputs": [],
   "source": [
    "from tqdm import tqdm\n",
    "# compile the data\n",
    "datas = []; step = 1\n",
    "cols = [x for x in bcp_cols if '_total' in x]\n",
    "data = pd.concat([a_trb.obs[cols], sc.get.obs_df(a_trb, keys=['10','12'])], axis=1)\n",
    "for col in ['10','12']:\n",
    "    for idx in tqdm(range(step, 100, step), total=100):\n",
    "        mask = data[col] >= np.percentile(data[col], idx)\n",
    "        mask = mask & (data[col] < np.percentile(data[col], idx+step))\n",
    "        datas.append(pd.concat([data.loc[mask].mean(0), pd.Series(col, index=['latent'])], axis=0))\n",
    "# compile the data\n",
    "data_ = pd.concat(datas, axis=1).T"
   ]
  },
  {
   "cell_type": "code",
   "execution_count": null,
   "id": "665ad714-01c5-4a94-9774-36012246e3d3",
   "metadata": {
    "tags": []
   },
   "outputs": [],
   "source": [
    "# derive the continous spectrums\n",
    "col = '12'\n",
    "mask = data_['latent'] == col\n",
    "data_plot = data_.loc[mask, cols].astype(float)\n",
    "data_plot -= data_plot.mean(); data_plot /= data_plot.std()\n",
    "data_plot.columns = labels\n",
    "fig, ax = plt.subplots(figsize=[3, 4]); ax.grid(False)\n",
    "sns.heatmap(data_plot.T, vmin=-2, vmax=2, cmap=cmap, xticklabels=0, yticklabels=1)"
   ]
  },
  {
   "cell_type": "code",
   "execution_count": null,
   "id": "49f30882-a3b2-46c0-9fe1-7da1b8d5d7dd",
   "metadata": {
    "tags": []
   },
   "outputs": [],
   "source": [
    "# derive the continous spectrums\n",
    "col = '10'\n",
    "mask = data_['latent'] == col\n",
    "data_plot = data_.loc[mask, cols].astype(float)\n",
    "data_plot -= data_plot.mean(); data_plot /= data_plot.std()\n",
    "data_plot.columns = labels\n",
    "fig, ax = plt.subplots(figsize=[3, 4]); ax.grid(False)\n",
    "sns.heatmap(data_plot.T, vmin=-2, vmax=2, cmap=cmap, xticklabels=0, yticklabels=1)"
   ]
  }
 ],
 "metadata": {
  "kernelspec": {
   "display_name": "gpu39",
   "language": "python",
   "name": "gpu39"
  },
  "language_info": {
   "codemirror_mode": {
    "name": "ipython",
    "version": 3
   },
   "file_extension": ".py",
   "mimetype": "text/x-python",
   "name": "python",
   "nbconvert_exporter": "python",
   "pygments_lexer": "ipython3",
   "version": "3.9.18"
  }
 },
 "nbformat": 4,
 "nbformat_minor": 5
}
